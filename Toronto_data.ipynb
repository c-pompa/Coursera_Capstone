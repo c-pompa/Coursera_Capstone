{
 "cells": [
  {
   "cell_type": "markdown",
   "metadata": {},
   "source": [
    "### Libraries"
   ]
  },
  {
   "cell_type": "code",
   "execution_count": 3,
   "metadata": {},
   "outputs": [],
   "source": [
    "### Conda Installs\n",
    "#!conda install -c conda-forge geopy --yes \n",
    "#!conda install -c conda-forge folium=0.5.0 --yes\n",
    "#!conda install -c anaconda pandas --yes \n",
    "#!conda install -c anaconda wget --yes \n",
    "#!conda install -c conda-forge matplotlib\n",
    "#!conda install -c anaconda beautifulsoup4"
   ]
  },
  {
   "cell_type": "code",
   "execution_count": 7,
   "metadata": {},
   "outputs": [],
   "source": [
    "import numpy as np\n",
    "import pandas as pd\n",
    "import requests\n",
    "from bs4 import BeautifulSoup\n",
    "import lxml "
   ]
  },
  {
   "cell_type": "code",
   "execution_count": null,
   "metadata": {},
   "outputs": [],
   "source": []
  },
  {
   "cell_type": "markdown",
   "metadata": {},
   "source": [
    "### Import website data. Find table."
   ]
  },
  {
   "cell_type": "code",
   "execution_count": 32,
   "metadata": {},
   "outputs": [],
   "source": [
    "weblink = requests.get(\"https://en.wikipedia.org/wiki/List_of_postal_codes_of_Canada:_M\")\n",
    "soup = BeautifulSoup(weblink.content,'lxml')\n",
    "table = soup.find_all('tbody')[0]\n",
    "#print(table) \n"
   ]
  },
  {
   "cell_type": "markdown",
   "metadata": {},
   "source": [
    "#### Select table with data needed."
   ]
  },
  {
   "cell_type": "code",
   "execution_count": 33,
   "metadata": {},
   "outputs": [],
   "source": [
    "table = soup.find('table', attrs={'class':'wikitable sortable'})\n",
    "table_rows = table.find_all('tr')"
   ]
  },
  {
   "cell_type": "code",
   "execution_count": 46,
   "metadata": {},
   "outputs": [
    {
     "name": "stdout",
     "output_type": "stream",
     "text": [
      "[[], ['M1A', 'Not assigned', 'Not assigned\\n'], ['M2A', 'Not assigned', 'Not assigned\\n'], ['M3A', 'North York', 'Parkwoods\\n'], ['M4A', 'North York', 'Victoria Village\\n'], ['M5A', 'Downtown Toronto', 'Harbourfront\\n'], ['M6A', 'North York', 'Lawrence Heights\\n'], ['M6A', 'North York', 'Lawrence Manor\\n'], ['M7A', 'Downtown Toronto', \"Queen's Park\\n\"], ['M8A', 'Not assigned', 'Not assigned\\n'], ['M9A', \"Queen's Park\", 'Not assigned\\n'], ['M1B', 'Scarborough', 'Rouge\\n'], ['M1B', 'Scarborough', 'Malvern\\n'], ['M2B', 'Not assigned', 'Not assigned\\n'], ['M3B', 'North York', 'Don Mills North\\n'], ['M4B', 'East York', 'Woodbine Gardens\\n'], ['M4B', 'East York', 'Parkview Hill\\n'], ['M5B', 'Downtown Toronto', 'Ryerson\\n'], ['M5B', 'Downtown Toronto', 'Garden District\\n'], ['M6B', 'North York', 'Glencairn\\n'], ['M7B', 'Not assigned', 'Not assigned\\n'], ['M8B', 'Not assigned', 'Not assigned\\n'], ['M9B', 'Etobicoke', 'Cloverdale\\n'], ['M9B', 'Etobicoke', 'Islington\\n'], ['M9B', 'Etobicoke', 'Martin Grove\\n'], ['M9B', 'Etobicoke', 'Princess Gardens\\n'], ['M9B', 'Etobicoke', 'West Deane Park\\n'], ['M1C', 'Scarborough', 'Highland Creek\\n'], ['M1C', 'Scarborough', 'Rouge Hill\\n'], ['M1C', 'Scarborough', 'Port Union\\n'], ['M2C', 'Not assigned', 'Not assigned\\n'], ['M3C', 'North York', 'Flemingdon Park\\n'], ['M3C', 'North York', 'Don Mills South\\n'], ['M4C', 'East York', 'Woodbine Heights\\n'], ['M5C', 'Downtown Toronto', 'St. James Town\\n'], ['M6C', 'York', 'Humewood-Cedarvale\\n'], ['M7C', 'Not assigned', 'Not assigned\\n'], ['M8C', 'Not assigned', 'Not assigned\\n'], ['M9C', 'Etobicoke', 'Bloordale Gardens\\n'], ['M9C', 'Etobicoke', 'Eringate\\n'], ['M9C', 'Etobicoke', 'Markland Wood\\n'], ['M9C', 'Etobicoke', 'Old Burnhamthorpe\\n'], ['M1E', 'Scarborough', 'Guildwood\\n'], ['M1E', 'Scarborough', 'Morningside\\n'], ['M1E', 'Scarborough', 'West Hill\\n'], ['M2E', 'Not assigned', 'Not assigned\\n'], ['M3E', 'Not assigned', 'Not assigned\\n'], ['M4E', 'East Toronto', 'The Beaches\\n'], ['M5E', 'Downtown Toronto', 'Berczy Park\\n'], ['M6E', 'York', 'Caledonia-Fairbanks\\n'], ['M7E', 'Not assigned', 'Not assigned\\n'], ['M8E', 'Not assigned', 'Not assigned\\n'], ['M9E', 'Not assigned', 'Not assigned\\n'], ['M1G', 'Scarborough', 'Woburn\\n'], ['M2G', 'Not assigned', 'Not assigned\\n'], ['M3G', 'Not assigned', 'Not assigned\\n'], ['M4G', 'East York', 'Leaside\\n'], ['M5G', 'Downtown Toronto', 'Central Bay Street\\n'], ['M6G', 'Downtown Toronto', 'Christie\\n'], ['M7G', 'Not assigned', 'Not assigned\\n'], ['M8G', 'Not assigned', 'Not assigned\\n'], ['M9G', 'Not assigned', 'Not assigned\\n'], ['M1H', 'Scarborough', 'Cedarbrae\\n'], ['M2H', 'North York', 'Hillcrest Village\\n'], ['M3H', 'North York', 'Bathurst Manor\\n'], ['M3H', 'North York', 'Downsview North\\n'], ['M3H', 'North York', 'Wilson Heights\\n'], ['M4H', 'East York', 'Thorncliffe Park\\n'], ['M5H', 'Downtown Toronto', 'Adelaide\\n'], ['M5H', 'Downtown Toronto', 'King\\n'], ['M5H', 'Downtown Toronto', 'Richmond\\n'], ['M6H', 'West Toronto', 'Dovercourt Village\\n'], ['M6H', 'West Toronto', 'Dufferin\\n'], ['M7H', 'Not assigned', 'Not assigned\\n'], ['M8H', 'Not assigned', 'Not assigned\\n'], ['M9H', 'Not assigned', 'Not assigned\\n'], ['M1J', 'Scarborough', 'Scarborough Village\\n'], ['M2J', 'North York', 'Fairview\\n'], ['M2J', 'North York', 'Henry Farm\\n'], ['M2J', 'North York', 'Oriole\\n'], ['M3J', 'North York', 'Northwood Park\\n'], ['M3J', 'North York', 'York University\\n'], ['M4J', 'East York', 'East Toronto\\n'], ['M5J', 'Downtown Toronto', 'Harbourfront East\\n'], ['M5J', 'Downtown Toronto', 'Toronto Islands\\n'], ['M5J', 'Downtown Toronto', 'Union Station\\n'], ['M6J', 'West Toronto', 'Little Portugal\\n'], ['M6J', 'West Toronto', 'Trinity\\n'], ['M7J', 'Not assigned', 'Not assigned\\n'], ['M8J', 'Not assigned', 'Not assigned\\n'], ['M9J', 'Not assigned', 'Not assigned\\n'], ['M1K', 'Scarborough', 'East Birchmount Park\\n'], ['M1K', 'Scarborough', 'Ionview\\n'], ['M1K', 'Scarborough', 'Kennedy Park\\n'], ['M2K', 'North York', 'Bayview Village\\n'], ['M3K', 'North York', 'CFB Toronto\\n'], ['M3K', 'North York', 'Downsview East\\n'], ['M4K', 'East Toronto', 'The Danforth West\\n'], ['M4K', 'East Toronto', 'Riverdale\\n'], ['M5K', 'Downtown Toronto', 'Design Exchange\\n'], ['M5K', 'Downtown Toronto', 'Toronto Dominion Centre\\n'], ['M6K', 'West Toronto', 'Brockton\\n'], ['M6K', 'West Toronto', 'Exhibition Place\\n'], ['M6K', 'West Toronto', 'Parkdale Village\\n'], ['M7K', 'Not assigned', 'Not assigned\\n'], ['M8K', 'Not assigned', 'Not assigned\\n'], ['M9K', 'Not assigned', 'Not assigned\\n'], ['M1L', 'Scarborough', 'Clairlea\\n'], ['M1L', 'Scarborough', 'Golden Mile\\n'], ['M1L', 'Scarborough', 'Oakridge\\n'], ['M2L', 'North York', 'Silver Hills\\n'], ['M2L', 'North York', 'York Mills\\n'], ['M3L', 'North York', 'Downsview West\\n'], ['M4L', 'East Toronto', 'The Beaches West\\n'], ['M4L', 'East Toronto', 'India Bazaar\\n'], ['M5L', 'Downtown Toronto', 'Commerce Court\\n'], ['M5L', 'Downtown Toronto', 'Victoria Hotel\\n'], ['M6L', 'North York', 'Downsview\\n'], ['M6L', 'North York', 'North Park\\n'], ['M6L', 'North York', 'Upwood Park\\n'], ['M7L', 'Not assigned', 'Not assigned\\n'], ['M8L', 'Not assigned', 'Not assigned\\n'], ['M9L', 'North York', 'Humber Summit\\n'], ['M1M', 'Scarborough', 'Cliffcrest\\n'], ['M1M', 'Scarborough', 'Cliffside\\n'], ['M1M', 'Scarborough', 'Scarborough Village West\\n'], ['M2M', 'North York', 'Newtonbrook\\n'], ['M2M', 'North York', 'Willowdale\\n'], ['M3M', 'North York', 'Downsview Central\\n'], ['M4M', 'East Toronto', 'Studio District\\n'], ['M5M', 'North York', 'Bedford Park\\n'], ['M5M', 'North York', 'Lawrence Manor East\\n'], ['M6M', 'York', 'Del Ray\\n'], ['M6M', 'York', 'Keelesdale\\n'], ['M6M', 'York', 'Mount Dennis\\n'], ['M6M', 'York', 'Silverthorn\\n'], ['M7M', 'Not assigned', 'Not assigned\\n'], ['M8M', 'Not assigned', 'Not assigned\\n'], ['M9M', 'North York', 'Emery\\n'], ['M9M', 'North York', 'Humberlea\\n'], ['M1N', 'Scarborough', 'Birch Cliff\\n'], ['M1N', 'Scarborough', 'Cliffside West\\n'], ['M2N', 'North York', 'Willowdale South\\n'], ['M3N', 'North York', 'Downsview Northwest\\n'], ['M4N', 'Central Toronto', 'Lawrence Park\\n'], ['M5N', 'Central Toronto', 'Roselawn\\n'], ['M6N', 'York', 'The Junction North\\n'], ['M6N', 'York', 'Runnymede\\n'], ['M7N', 'Not assigned', 'Not assigned\\n'], ['M8N', 'Not assigned', 'Not assigned\\n'], ['M9N', 'York', 'Weston\\n'], ['M1P', 'Scarborough', 'Dorset Park\\n'], ['M1P', 'Scarborough', 'Scarborough Town Centre\\n'], ['M1P', 'Scarborough', 'Wexford Heights\\n'], ['M2P', 'North York', 'York Mills West\\n'], ['M3P', 'Not assigned', 'Not assigned\\n'], ['M4P', 'Central Toronto', 'Davisville North\\n'], ['M5P', 'Central Toronto', 'Forest Hill North\\n'], ['M5P', 'Central Toronto', 'Forest Hill West\\n'], ['M6P', 'West Toronto', 'High Park\\n'], ['M6P', 'West Toronto', 'The Junction South\\n'], ['M7P', 'Not assigned', 'Not assigned\\n'], ['M8P', 'Not assigned', 'Not assigned\\n'], ['M9P', 'Etobicoke', 'Westmount\\n'], ['M1R', 'Scarborough', 'Maryvale\\n'], ['M1R', 'Scarborough', 'Wexford\\n'], ['M2R', 'North York', 'Willowdale West\\n'], ['M3R', 'Not assigned', 'Not assigned\\n'], ['M4R', 'Central Toronto', 'North Toronto West\\n'], ['M5R', 'Central Toronto', 'The Annex\\n'], ['M5R', 'Central Toronto', 'North Midtown\\n'], ['M5R', 'Central Toronto', 'Yorkville\\n'], ['M6R', 'West Toronto', 'Parkdale\\n'], ['M6R', 'West Toronto', 'Roncesvalles\\n'], ['M7R', 'Mississauga', 'Canada Post Gateway Processing Centre\\n'], ['M8R', 'Not assigned', 'Not assigned\\n'], ['M9R', 'Etobicoke', 'Kingsview Village\\n'], ['M9R', 'Etobicoke', 'Martin Grove Gardens\\n'], ['M9R', 'Etobicoke', 'Richview Gardens\\n'], ['M9R', 'Etobicoke', 'St. Phillips\\n'], ['M1S', 'Scarborough', 'Agincourt\\n'], ['M2S', 'Not assigned', 'Not assigned\\n'], ['M3S', 'Not assigned', 'Not assigned\\n'], ['M4S', 'Central Toronto', 'Davisville\\n'], ['M5S', 'Downtown Toronto', 'Harbord\\n'], ['M5S', 'Downtown Toronto', 'University of Toronto\\n'], ['M6S', 'West Toronto', 'Runnymede\\n'], ['M6S', 'West Toronto', 'Swansea\\n'], ['M7S', 'Not assigned', 'Not assigned\\n'], ['M8S', 'Not assigned', 'Not assigned\\n'], ['M9S', 'Not assigned', 'Not assigned\\n'], ['M1T', 'Scarborough', 'Clarks Corners\\n'], ['M1T', 'Scarborough', 'Sullivan\\n'], ['M1T', 'Scarborough', \"Tam O'Shanter\\n\"], ['M2T', 'Not assigned', 'Not assigned\\n'], ['M3T', 'Not assigned', 'Not assigned\\n'], ['M4T', 'Central Toronto', 'Moore Park\\n'], ['M4T', 'Central Toronto', 'Summerhill East\\n'], ['M5T', 'Downtown Toronto', 'Chinatown\\n'], ['M5T', 'Downtown Toronto', 'Grange Park\\n'], ['M5T', 'Downtown Toronto', 'Kensington Market\\n'], ['M6T', 'Not assigned', 'Not assigned\\n'], ['M7T', 'Not assigned', 'Not assigned\\n'], ['M8T', 'Not assigned', 'Not assigned\\n'], ['M9T', 'Not assigned', 'Not assigned\\n'], ['M1V', 'Scarborough', 'Agincourt North\\n'], ['M1V', 'Scarborough', \"L'Amoreaux East\\n\"], ['M1V', 'Scarborough', 'Milliken\\n'], ['M1V', 'Scarborough', 'Steeles East\\n'], ['M2V', 'Not assigned', 'Not assigned\\n'], ['M3V', 'Not assigned', 'Not assigned\\n'], ['M4V', 'Central Toronto', 'Deer Park\\n'], ['M4V', 'Central Toronto', 'Forest Hill SE\\n'], ['M4V', 'Central Toronto', 'Rathnelly\\n'], ['M4V', 'Central Toronto', 'South Hill\\n'], ['M4V', 'Central Toronto', 'Summerhill West\\n'], ['M5V', 'Downtown Toronto', 'CN Tower\\n'], ['M5V', 'Downtown Toronto', 'Bathurst Quay\\n'], ['M5V', 'Downtown Toronto', 'Island airport\\n'], ['M5V', 'Downtown Toronto', 'Harbourfront West\\n'], ['M5V', 'Downtown Toronto', 'King and Spadina\\n'], ['M5V', 'Downtown Toronto', 'Railway Lands\\n'], ['M5V', 'Downtown Toronto', 'South Niagara\\n'], ['M6V', 'Not assigned', 'Not assigned\\n'], ['M7V', 'Not assigned', 'Not assigned\\n'], ['M8V', 'Etobicoke', 'Humber Bay Shores\\n'], ['M8V', 'Etobicoke', 'Mimico South\\n'], ['M8V', 'Etobicoke', 'New Toronto\\n'], ['M9V', 'Etobicoke', 'Albion Gardens\\n'], ['M9V', 'Etobicoke', 'Beaumond Heights\\n'], ['M9V', 'Etobicoke', 'Humbergate\\n'], ['M9V', 'Etobicoke', 'Jamestown\\n'], ['M9V', 'Etobicoke', 'Mount Olive\\n'], ['M9V', 'Etobicoke', 'Silverstone\\n'], ['M9V', 'Etobicoke', 'South Steeles\\n'], ['M9V', 'Etobicoke', 'Thistletown\\n'], ['M1W', 'Scarborough', \"L'Amoreaux West\\n\"], ['M2W', 'Not assigned', 'Not assigned\\n'], ['M3W', 'Not assigned', 'Not assigned\\n'], ['M4W', 'Downtown Toronto', 'Rosedale\\n'], ['M5W', 'Downtown Toronto', 'Stn A PO Boxes 25 The Esplanade\\n'], ['M6W', 'Not assigned', 'Not assigned\\n'], ['M7W', 'Not assigned', 'Not assigned\\n'], ['M8W', 'Etobicoke', 'Alderwood\\n'], ['M8W', 'Etobicoke', 'Long Branch\\n'], ['M9W', 'Etobicoke', 'Northwest\\n'], ['M1X', 'Scarborough', 'Upper Rouge\\n'], ['M2X', 'Not assigned', 'Not assigned\\n'], ['M3X', 'Not assigned', 'Not assigned\\n'], ['M4X', 'Downtown Toronto', 'Cabbagetown\\n'], ['M4X', 'Downtown Toronto', 'St. James Town\\n'], ['M5X', 'Downtown Toronto', 'First Canadian Place\\n'], ['M5X', 'Downtown Toronto', 'Underground city\\n'], ['M6X', 'Not assigned', 'Not assigned\\n'], ['M7X', 'Not assigned', 'Not assigned\\n'], ['M8X', 'Etobicoke', 'The Kingsway\\n'], ['M8X', 'Etobicoke', 'Montgomery Road\\n'], ['M8X', 'Etobicoke', 'Old Mill North\\n'], ['M9X', 'Not assigned', 'Not assigned\\n'], ['M1Y', 'Not assigned', 'Not assigned\\n'], ['M2Y', 'Not assigned', 'Not assigned\\n'], ['M3Y', 'Not assigned', 'Not assigned\\n'], ['M4Y', 'Downtown Toronto', 'Church and Wellesley\\n'], ['M5Y', 'Not assigned', 'Not assigned\\n'], ['M6Y', 'Not assigned', 'Not assigned\\n'], ['M7Y', 'East Toronto', 'Business Reply Mail Processing Centre 969 Eastern\\n'], ['M8Y', 'Etobicoke', 'Humber Bay\\n'], ['M8Y', 'Etobicoke', \"King's Mill Park\\n\"], ['M8Y', 'Etobicoke', 'Kingsway Park South East\\n'], ['M8Y', 'Etobicoke', 'Mimico NE\\n'], ['M8Y', 'Etobicoke', 'Old Mill South\\n'], ['M8Y', 'Etobicoke', 'The Queensway East\\n'], ['M8Y', 'Etobicoke', 'Royal York South East\\n'], ['M8Y', 'Etobicoke', 'Sunnylea\\n'], ['M9Y', 'Not assigned', 'Not assigned\\n'], ['M1Z', 'Not assigned', 'Not assigned\\n'], ['M2Z', 'Not assigned', 'Not assigned\\n'], ['M3Z', 'Not assigned', 'Not assigned\\n'], ['M4Z', 'Not assigned', 'Not assigned\\n'], ['M5Z', 'Not assigned', 'Not assigned\\n'], ['M6Z', 'Not assigned', 'Not assigned\\n'], ['M7Z', 'Not assigned', 'Not assigned\\n'], ['M8Z', 'Etobicoke', 'Kingsway Park South West\\n'], ['M8Z', 'Etobicoke', 'Mimico NW\\n'], ['M8Z', 'Etobicoke', 'The Queensway West\\n'], ['M8Z', 'Etobicoke', 'Royal York South West\\n'], ['M8Z', 'Etobicoke', 'South of Bloor\\n'], ['M9Z', 'Not assigned', 'Not assigned\\n']]\n"
     ]
    }
   ],
   "source": [
    "### Data for table\n",
    "data = []\n",
    "for tr in table_rows:\n",
    "    td = tr.find_all('td')\n",
    "    row = [tr.text for tr in td]\n",
    "    data.append(row)\n",
    "print(data)\n",
    "#print(df[0].to_json(orient='records'))"
   ]
  },
  {
   "cell_type": "code",
   "execution_count": null,
   "metadata": {},
   "outputs": [],
   "source": []
  },
  {
   "cell_type": "code",
   "execution_count": 22,
   "metadata": {},
   "outputs": [
    {
     "data": {
      "text/html": [
       "<div>\n",
       "<style scoped>\n",
       "    .dataframe tbody tr th:only-of-type {\n",
       "        vertical-align: middle;\n",
       "    }\n",
       "\n",
       "    .dataframe tbody tr th {\n",
       "        vertical-align: top;\n",
       "    }\n",
       "\n",
       "    .dataframe thead th {\n",
       "        text-align: right;\n",
       "    }\n",
       "</style>\n",
       "<table border=\"1\" class=\"dataframe\">\n",
       "  <thead>\n",
       "    <tr style=\"text-align: right;\">\n",
       "      <th></th>\n",
       "      <th>Postcode</th>\n",
       "      <th>Borough</th>\n",
       "      <th>Neighbourhood</th>\n",
       "    </tr>\n",
       "  </thead>\n",
       "  <tbody>\n",
       "    <tr>\n",
       "      <th>0</th>\n",
       "      <td>None</td>\n",
       "      <td>None</td>\n",
       "      <td>None</td>\n",
       "    </tr>\n",
       "    <tr>\n",
       "      <th>1</th>\n",
       "      <td>M1A</td>\n",
       "      <td>Not assigned</td>\n",
       "      <td>Not assigned\\n</td>\n",
       "    </tr>\n",
       "    <tr>\n",
       "      <th>2</th>\n",
       "      <td>M2A</td>\n",
       "      <td>Not assigned</td>\n",
       "      <td>Not assigned\\n</td>\n",
       "    </tr>\n",
       "    <tr>\n",
       "      <th>3</th>\n",
       "      <td>M3A</td>\n",
       "      <td>North York</td>\n",
       "      <td>Parkwoods\\n</td>\n",
       "    </tr>\n",
       "    <tr>\n",
       "      <th>4</th>\n",
       "      <td>M4A</td>\n",
       "      <td>North York</td>\n",
       "      <td>Victoria Village\\n</td>\n",
       "    </tr>\n",
       "    <tr>\n",
       "      <th>...</th>\n",
       "      <td>...</td>\n",
       "      <td>...</td>\n",
       "      <td>...</td>\n",
       "    </tr>\n",
       "    <tr>\n",
       "      <th>283</th>\n",
       "      <td>M8Z</td>\n",
       "      <td>Etobicoke</td>\n",
       "      <td>Mimico NW\\n</td>\n",
       "    </tr>\n",
       "    <tr>\n",
       "      <th>284</th>\n",
       "      <td>M8Z</td>\n",
       "      <td>Etobicoke</td>\n",
       "      <td>The Queensway West\\n</td>\n",
       "    </tr>\n",
       "    <tr>\n",
       "      <th>285</th>\n",
       "      <td>M8Z</td>\n",
       "      <td>Etobicoke</td>\n",
       "      <td>Royal York South West\\n</td>\n",
       "    </tr>\n",
       "    <tr>\n",
       "      <th>286</th>\n",
       "      <td>M8Z</td>\n",
       "      <td>Etobicoke</td>\n",
       "      <td>South of Bloor\\n</td>\n",
       "    </tr>\n",
       "    <tr>\n",
       "      <th>287</th>\n",
       "      <td>M9Z</td>\n",
       "      <td>Not assigned</td>\n",
       "      <td>Not assigned\\n</td>\n",
       "    </tr>\n",
       "  </tbody>\n",
       "</table>\n",
       "<p>288 rows × 3 columns</p>\n",
       "</div>"
      ],
      "text/plain": [
       "    Postcode       Borough            Neighbourhood\n",
       "0       None          None                     None\n",
       "1        M1A  Not assigned           Not assigned\\n\n",
       "2        M2A  Not assigned           Not assigned\\n\n",
       "3        M3A    North York              Parkwoods\\n\n",
       "4        M4A    North York       Victoria Village\\n\n",
       "..       ...           ...                      ...\n",
       "283      M8Z     Etobicoke              Mimico NW\\n\n",
       "284      M8Z     Etobicoke     The Queensway West\\n\n",
       "285      M8Z     Etobicoke  Royal York South West\\n\n",
       "286      M8Z     Etobicoke         South of Bloor\\n\n",
       "287      M9Z  Not assigned           Not assigned\\n\n",
       "\n",
       "[288 rows x 3 columns]"
      ]
     },
     "execution_count": 22,
     "metadata": {},
     "output_type": "execute_result"
    }
   ],
   "source": [
    "### Convert imported data to pandas DataFrame\n",
    "df = pd.DataFrame(data, columns=[\"Postcode\", \"Borough\", \"Neighbourhood\"])\n",
    "df"
   ]
  },
  {
   "cell_type": "markdown",
   "metadata": {},
   "source": [
    "### Clean Data"
   ]
  },
  {
   "cell_type": "code",
   "execution_count": 75,
   "metadata": {},
   "outputs": [
    {
     "data": {
      "text/html": [
       "<div>\n",
       "<style scoped>\n",
       "    .dataframe tbody tr th:only-of-type {\n",
       "        vertical-align: middle;\n",
       "    }\n",
       "\n",
       "    .dataframe tbody tr th {\n",
       "        vertical-align: top;\n",
       "    }\n",
       "\n",
       "    .dataframe thead th {\n",
       "        text-align: right;\n",
       "    }\n",
       "</style>\n",
       "<table border=\"1\" class=\"dataframe\">\n",
       "  <thead>\n",
       "    <tr style=\"text-align: right;\">\n",
       "      <th></th>\n",
       "      <th>Postcode</th>\n",
       "      <th>Borough</th>\n",
       "      <th>Neighbourhood</th>\n",
       "    </tr>\n",
       "  </thead>\n",
       "  <tbody>\n",
       "    <tr>\n",
       "      <th>0</th>\n",
       "      <td>M1B</td>\n",
       "      <td>Scarborough</td>\n",
       "      <td>Rouge , Malvern</td>\n",
       "    </tr>\n",
       "    <tr>\n",
       "      <th>1</th>\n",
       "      <td>M1C</td>\n",
       "      <td>Scarborough</td>\n",
       "      <td>Highland Creek , Rouge Hill , Port Union</td>\n",
       "    </tr>\n",
       "    <tr>\n",
       "      <th>2</th>\n",
       "      <td>M1E</td>\n",
       "      <td>Scarborough</td>\n",
       "      <td>Guildwood , Morningside , West Hill</td>\n",
       "    </tr>\n",
       "    <tr>\n",
       "      <th>3</th>\n",
       "      <td>M1G</td>\n",
       "      <td>Scarborough</td>\n",
       "      <td>Woburn</td>\n",
       "    </tr>\n",
       "    <tr>\n",
       "      <th>4</th>\n",
       "      <td>M1H</td>\n",
       "      <td>Scarborough</td>\n",
       "      <td>Cedarbrae</td>\n",
       "    </tr>\n",
       "    <tr>\n",
       "      <th>...</th>\n",
       "      <td>...</td>\n",
       "      <td>...</td>\n",
       "      <td>...</td>\n",
       "    </tr>\n",
       "    <tr>\n",
       "      <th>98</th>\n",
       "      <td>M9N</td>\n",
       "      <td>York</td>\n",
       "      <td>Weston</td>\n",
       "    </tr>\n",
       "    <tr>\n",
       "      <th>99</th>\n",
       "      <td>M9P</td>\n",
       "      <td>Etobicoke</td>\n",
       "      <td>Westmount</td>\n",
       "    </tr>\n",
       "    <tr>\n",
       "      <th>100</th>\n",
       "      <td>M9R</td>\n",
       "      <td>Etobicoke</td>\n",
       "      <td>Kingsview Village , Martin Grove Gardens , Ric...</td>\n",
       "    </tr>\n",
       "    <tr>\n",
       "      <th>101</th>\n",
       "      <td>M9V</td>\n",
       "      <td>Etobicoke</td>\n",
       "      <td>Albion Gardens , Beaumond Heights , Humbergate...</td>\n",
       "    </tr>\n",
       "    <tr>\n",
       "      <th>102</th>\n",
       "      <td>M9W</td>\n",
       "      <td>Etobicoke</td>\n",
       "      <td>Northwest</td>\n",
       "    </tr>\n",
       "  </tbody>\n",
       "</table>\n",
       "<p>103 rows × 3 columns</p>\n",
       "</div>"
      ],
      "text/plain": [
       "    Postcode      Borough                                      Neighbourhood\n",
       "0        M1B  Scarborough                                   Rouge , Malvern \n",
       "1        M1C  Scarborough          Highland Creek , Rouge Hill , Port Union \n",
       "2        M1E  Scarborough               Guildwood , Morningside , West Hill \n",
       "3        M1G  Scarborough                                            Woburn \n",
       "4        M1H  Scarborough                                         Cedarbrae \n",
       "..       ...          ...                                                ...\n",
       "98       M9N         York                                            Weston \n",
       "99       M9P    Etobicoke                                         Westmount \n",
       "100      M9R    Etobicoke  Kingsview Village , Martin Grove Gardens , Ric...\n",
       "101      M9V    Etobicoke  Albion Gardens , Beaumond Heights , Humbergate...\n",
       "102      M9W    Etobicoke                                         Northwest \n",
       "\n",
       "[103 rows x 3 columns]"
      ]
     },
     "execution_count": 75,
     "metadata": {},
     "output_type": "execute_result"
    }
   ],
   "source": [
    "# Remove \\n\n",
    "df = df.replace(r'\\n','', regex=True)\n",
    "df.columns = df.columns.str.strip()\n",
    "df"
   ]
  },
  {
   "cell_type": "code",
   "execution_count": 76,
   "metadata": {},
   "outputs": [
    {
     "data": {
      "text/plain": [
       "Index(['Postcode', 'Borough', 'Neighbourhood'], dtype='object')"
      ]
     },
     "execution_count": 76,
     "metadata": {},
     "output_type": "execute_result"
    }
   ],
   "source": [
    "# verify column headers\n",
    "df.columns"
   ]
  },
  {
   "cell_type": "code",
   "execution_count": 77,
   "metadata": {},
   "outputs": [
    {
     "data": {
      "text/html": [
       "<div>\n",
       "<style scoped>\n",
       "    .dataframe tbody tr th:only-of-type {\n",
       "        vertical-align: middle;\n",
       "    }\n",
       "\n",
       "    .dataframe tbody tr th {\n",
       "        vertical-align: top;\n",
       "    }\n",
       "\n",
       "    .dataframe thead th {\n",
       "        text-align: right;\n",
       "    }\n",
       "</style>\n",
       "<table border=\"1\" class=\"dataframe\">\n",
       "  <thead>\n",
       "    <tr style=\"text-align: right;\">\n",
       "      <th></th>\n",
       "      <th>Postcode</th>\n",
       "      <th>Borough</th>\n",
       "      <th>Neighbourhood</th>\n",
       "    </tr>\n",
       "  </thead>\n",
       "  <tbody>\n",
       "    <tr>\n",
       "      <th>0</th>\n",
       "      <td>M1B</td>\n",
       "      <td>Scarborough</td>\n",
       "      <td>Rouge , Malvern</td>\n",
       "    </tr>\n",
       "    <tr>\n",
       "      <th>1</th>\n",
       "      <td>M1C</td>\n",
       "      <td>Scarborough</td>\n",
       "      <td>Highland Creek , Rouge Hill , Port Union</td>\n",
       "    </tr>\n",
       "    <tr>\n",
       "      <th>2</th>\n",
       "      <td>M1E</td>\n",
       "      <td>Scarborough</td>\n",
       "      <td>Guildwood , Morningside , West Hill</td>\n",
       "    </tr>\n",
       "    <tr>\n",
       "      <th>3</th>\n",
       "      <td>M1G</td>\n",
       "      <td>Scarborough</td>\n",
       "      <td>Woburn</td>\n",
       "    </tr>\n",
       "    <tr>\n",
       "      <th>4</th>\n",
       "      <td>M1H</td>\n",
       "      <td>Scarborough</td>\n",
       "      <td>Cedarbrae</td>\n",
       "    </tr>\n",
       "    <tr>\n",
       "      <th>...</th>\n",
       "      <td>...</td>\n",
       "      <td>...</td>\n",
       "      <td>...</td>\n",
       "    </tr>\n",
       "    <tr>\n",
       "      <th>98</th>\n",
       "      <td>M9N</td>\n",
       "      <td>York</td>\n",
       "      <td>Weston</td>\n",
       "    </tr>\n",
       "    <tr>\n",
       "      <th>99</th>\n",
       "      <td>M9P</td>\n",
       "      <td>Etobicoke</td>\n",
       "      <td>Westmount</td>\n",
       "    </tr>\n",
       "    <tr>\n",
       "      <th>100</th>\n",
       "      <td>M9R</td>\n",
       "      <td>Etobicoke</td>\n",
       "      <td>Kingsview Village , Martin Grove Gardens , Ric...</td>\n",
       "    </tr>\n",
       "    <tr>\n",
       "      <th>101</th>\n",
       "      <td>M9V</td>\n",
       "      <td>Etobicoke</td>\n",
       "      <td>Albion Gardens , Beaumond Heights , Humbergate...</td>\n",
       "    </tr>\n",
       "    <tr>\n",
       "      <th>102</th>\n",
       "      <td>M9W</td>\n",
       "      <td>Etobicoke</td>\n",
       "      <td>Northwest</td>\n",
       "    </tr>\n",
       "  </tbody>\n",
       "</table>\n",
       "<p>103 rows × 3 columns</p>\n",
       "</div>"
      ],
      "text/plain": [
       "    Postcode      Borough                                      Neighbourhood\n",
       "0        M1B  Scarborough                                   Rouge , Malvern \n",
       "1        M1C  Scarborough          Highland Creek , Rouge Hill , Port Union \n",
       "2        M1E  Scarborough               Guildwood , Morningside , West Hill \n",
       "3        M1G  Scarborough                                            Woburn \n",
       "4        M1H  Scarborough                                         Cedarbrae \n",
       "..       ...          ...                                                ...\n",
       "98       M9N         York                                            Weston \n",
       "99       M9P    Etobicoke                                         Westmount \n",
       "100      M9R    Etobicoke  Kingsview Village , Martin Grove Gardens , Ric...\n",
       "101      M9V    Etobicoke  Albion Gardens , Beaumond Heights , Humbergate...\n",
       "102      M9W    Etobicoke                                         Northwest \n",
       "\n",
       "[103 rows x 3 columns]"
      ]
     },
     "execution_count": 77,
     "metadata": {},
     "output_type": "execute_result"
    }
   ],
   "source": [
    "# Drop row with value 'Not assigned'\n",
    "df = df[df.Borough != 'Not assigned']\n",
    "df"
   ]
  },
  {
   "cell_type": "code",
   "execution_count": 78,
   "metadata": {},
   "outputs": [
    {
     "data": {
      "text/html": [
       "<div>\n",
       "<style scoped>\n",
       "    .dataframe tbody tr th:only-of-type {\n",
       "        vertical-align: middle;\n",
       "    }\n",
       "\n",
       "    .dataframe tbody tr th {\n",
       "        vertical-align: top;\n",
       "    }\n",
       "\n",
       "    .dataframe thead th {\n",
       "        text-align: right;\n",
       "    }\n",
       "</style>\n",
       "<table border=\"1\" class=\"dataframe\">\n",
       "  <thead>\n",
       "    <tr style=\"text-align: right;\">\n",
       "      <th></th>\n",
       "      <th>Postcode</th>\n",
       "      <th>Borough</th>\n",
       "      <th>Neighbourhood</th>\n",
       "    </tr>\n",
       "  </thead>\n",
       "  <tbody>\n",
       "    <tr>\n",
       "      <th>0</th>\n",
       "      <td>M1B</td>\n",
       "      <td>Scarborough</td>\n",
       "      <td>Rouge , Malvern</td>\n",
       "    </tr>\n",
       "    <tr>\n",
       "      <th>1</th>\n",
       "      <td>M1C</td>\n",
       "      <td>Scarborough</td>\n",
       "      <td>Highland Creek , Rouge Hill , Port Union</td>\n",
       "    </tr>\n",
       "    <tr>\n",
       "      <th>2</th>\n",
       "      <td>M1E</td>\n",
       "      <td>Scarborough</td>\n",
       "      <td>Guildwood , Morningside , West Hill</td>\n",
       "    </tr>\n",
       "    <tr>\n",
       "      <th>3</th>\n",
       "      <td>M1G</td>\n",
       "      <td>Scarborough</td>\n",
       "      <td>Woburn</td>\n",
       "    </tr>\n",
       "    <tr>\n",
       "      <th>4</th>\n",
       "      <td>M1H</td>\n",
       "      <td>Scarborough</td>\n",
       "      <td>Cedarbrae</td>\n",
       "    </tr>\n",
       "  </tbody>\n",
       "</table>\n",
       "</div>"
      ],
      "text/plain": [
       "  Postcode      Borough                              Neighbourhood\n",
       "0      M1B  Scarborough                           Rouge , Malvern \n",
       "1      M1C  Scarborough  Highland Creek , Rouge Hill , Port Union \n",
       "2      M1E  Scarborough       Guildwood , Morningside , West Hill \n",
       "3      M1G  Scarborough                                    Woburn \n",
       "4      M1H  Scarborough                                 Cedarbrae "
      ]
     },
     "execution_count": 78,
     "metadata": {},
     "output_type": "execute_result"
    }
   ],
   "source": [
    "# Group columns by postal code and borough, removing duplicate postcode value\n",
    "# and moving the duplicate data in borough to Neighbourhood.\n",
    "df = df.groupby(['Postcode','Borough'])['Neighbourhood'].apply(', '.join).reset_index()\n",
    "df.head()"
   ]
  },
  {
   "cell_type": "code",
   "execution_count": null,
   "metadata": {},
   "outputs": [],
   "source": []
  },
  {
   "cell_type": "code",
   "execution_count": 95,
   "metadata": {},
   "outputs": [
    {
     "data": {
      "text/plain": [
       "False"
      ]
     },
     "execution_count": 95,
     "metadata": {},
     "output_type": "execute_result"
    }
   ],
   "source": [
    "# Verify neighbourhood has values in all rows.\n",
    "df.isin(['Not Available']).any().any()"
   ]
  },
  {
   "cell_type": "code",
   "execution_count": 97,
   "metadata": {},
   "outputs": [
    {
     "data": {
      "text/plain": [
       "(103, 3)"
      ]
     },
     "execution_count": 97,
     "metadata": {},
     "output_type": "execute_result"
    }
   ],
   "source": [
    "# Shape of DataFrame\n",
    "df.shape"
   ]
  },
  {
   "cell_type": "code",
   "execution_count": null,
   "metadata": {
    "scrolled": true
   },
   "outputs": [],
   "source": []
  },
  {
   "cell_type": "code",
   "execution_count": null,
   "metadata": {},
   "outputs": [],
   "source": []
  },
  {
   "cell_type": "code",
   "execution_count": null,
   "metadata": {},
   "outputs": [],
   "source": []
  },
  {
   "cell_type": "code",
   "execution_count": null,
   "metadata": {},
   "outputs": [],
   "source": []
  },
  {
   "cell_type": "code",
   "execution_count": null,
   "metadata": {},
   "outputs": [],
   "source": []
  },
  {
   "cell_type": "code",
   "execution_count": null,
   "metadata": {},
   "outputs": [],
   "source": []
  },
  {
   "cell_type": "code",
   "execution_count": null,
   "metadata": {},
   "outputs": [],
   "source": []
  },
  {
   "cell_type": "code",
   "execution_count": null,
   "metadata": {},
   "outputs": [],
   "source": []
  },
  {
   "cell_type": "code",
   "execution_count": null,
   "metadata": {},
   "outputs": [],
   "source": []
  },
  {
   "cell_type": "code",
   "execution_count": null,
   "metadata": {},
   "outputs": [],
   "source": []
  },
  {
   "cell_type": "code",
   "execution_count": null,
   "metadata": {},
   "outputs": [],
   "source": []
  },
  {
   "cell_type": "code",
   "execution_count": null,
   "metadata": {},
   "outputs": [],
   "source": []
  },
  {
   "cell_type": "code",
   "execution_count": null,
   "metadata": {},
   "outputs": [],
   "source": []
  },
  {
   "cell_type": "code",
   "execution_count": null,
   "metadata": {},
   "outputs": [],
   "source": []
  },
  {
   "cell_type": "code",
   "execution_count": 39,
   "metadata": {},
   "outputs": [],
   "source": []
  },
  {
   "cell_type": "code",
   "execution_count": null,
   "metadata": {},
   "outputs": [],
   "source": []
  },
  {
   "cell_type": "code",
   "execution_count": null,
   "metadata": {},
   "outputs": [],
   "source": []
  },
  {
   "cell_type": "code",
   "execution_count": null,
   "metadata": {},
   "outputs": [],
   "source": []
  },
  {
   "cell_type": "code",
   "execution_count": null,
   "metadata": {},
   "outputs": [],
   "source": []
  },
  {
   "cell_type": "code",
   "execution_count": null,
   "metadata": {},
   "outputs": [],
   "source": []
  }
 ],
 "metadata": {
  "kernelspec": {
   "display_name": "Python 3",
   "language": "python",
   "name": "python3"
  },
  "language_info": {
   "codemirror_mode": {
    "name": "ipython",
    "version": 3
   },
   "file_extension": ".py",
   "mimetype": "text/x-python",
   "name": "python",
   "nbconvert_exporter": "python",
   "pygments_lexer": "ipython3",
   "version": "3.8.1"
  }
 },
 "nbformat": 4,
 "nbformat_minor": 4
}
