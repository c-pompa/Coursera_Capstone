{
 "cells": [
  {
   "cell_type": "markdown",
   "metadata": {},
   "source": [
    "# ROUGH DRAFT 1"
   ]
  },
  {
   "cell_type": "markdown",
   "metadata": {},
   "source": [
    "# Capstone Project - Battle of the Neighborhoods\n",
    "### Applied Data Science Capstone - IBM Coursera"
   ]
  },
  {
   "cell_type": "code",
   "execution_count": null,
   "metadata": {},
   "outputs": [],
   "source": []
  },
  {
   "cell_type": "markdown",
   "metadata": {},
   "source": [
    "### Table of Contents"
   ]
  },
  {
   "cell_type": "markdown",
   "metadata": {},
   "source": [
    "* [1. Introduction: Business Problem](#introduction)\n",
    "* [2. Data Description](#data)\n",
    "* [3. Methodology](#methodology)\n",
    "* [4. Analysis](#analysis)\n",
    "* [5. Results and Discussion](#results)\n",
    "* [6. Conclusion](#conclusion)"
   ]
  },
  {
   "cell_type": "code",
   "execution_count": null,
   "metadata": {},
   "outputs": [],
   "source": []
  },
  {
   "cell_type": "markdown",
   "metadata": {},
   "source": [
    "<a id=\"introduction\"></a>"
   ]
  },
  {
   "cell_type": "markdown",
   "metadata": {},
   "source": [
    "### 1. Introduction: Business Problem - Opening an Argentinean Restaurant or Cafe"
   ]
  },
  {
   "cell_type": "markdown",
   "metadata": {},
   "source": [
    "This project will focus around two major cities. Cities known for diversity. With diversity, brings diverse resturaunts, cafes and more, which bring people together. If you're a stakeholder, entrepreneur, or chef interested in opening an Argentinean resturaunt or cafe in New York city or Toronto, this will be for you. \n",
    "\n",
    "Restaurant industry is huge in both of these cities, so we will try to identify the best location. To find the best location, we will use a number of data points such as: popular visiting locations, population percentage per borough, amount of current vertical competition, and no argentinean restaurants in the area. \n",
    "\n",
    "Using efficient data science tools, we will generate two promisions locations for both major cities. Each location will have the benefits explained and can be decided by the stakeholder.\n"
   ]
  },
  {
   "cell_type": "code",
   "execution_count": null,
   "metadata": {},
   "outputs": [],
   "source": []
  },
  {
   "cell_type": "markdown",
   "metadata": {},
   "source": [
    "<a id=\"data\"></a>"
   ]
  },
  {
   "cell_type": "markdown",
   "metadata": {},
   "source": [
    "### 2. Data Description"
   ]
  },
  {
   "cell_type": "markdown",
   "metadata": {},
   "source": [
    "The expected data to be applied for our decision are: \n",
    "* Top five venues visited per neighborgood(borough)\n",
    "* Population percentage per borough\n",
    "* Amount of competition (Restaurant & Cafes) per neighborhood\n",
    "* Current location and foursquare information for Argentinean Resturaunts\n",
    "\n",
    "We will attempt to seperate neighborhoods using Choropleth maps and/or by radius. \n",
    "\n",
    "The following data sources will be utilized to extract and generate the required information. The list below represents the order in which the data will be generated. \n",
    "\n",
    "* New York City Census Information. CSV.\n",
    "* Canada Census 2016: Population & Density information\n",
    "* Wiki: Toronto Postal Codes\n",
    "* Foursquare API: Retreive results for amount of restaurants and cafes, check in information,  popularity to provide competition insight.\n",
    "* Google Maps API Geocode: Product location information, visualize locations for comparision, provide results."
   ]
  },
  {
   "cell_type": "code",
   "execution_count": 1,
   "metadata": {},
   "outputs": [],
   "source": [
    "########################################\n",
    "#### Libraries used in this section ####\n",
    "########################################\n",
    "\n",
    "import pandas as pd # library for data analsysis\n",
    "import requests\n",
    "from bs4 import BeautifulSoup\n",
    "import config\n",
    "import json # library to handle JSON files\n",
    "from pandas.io.json import json_normalize # tranforming json file into a pandas dataframe library\n",
    "from geopy.geocoders import Nominatim # module to convert an address into latitude and longitude values\n",
    "import folium # plotting library"
   ]
  },
  {
   "cell_type": "markdown",
   "metadata": {},
   "source": [
    "#### 2a. New York City Census Information"
   ]
  },
  {
   "cell_type": "markdown",
   "metadata": {},
   "source": [
    "New York City Census Information will be used to gather the population data for each county located in New York City. County population data will help determine which area we select for a future resturaunt location. "
   ]
  },
  {
   "cell_type": "code",
   "execution_count": 2,
   "metadata": {},
   "outputs": [],
   "source": [
    "# Import: NYC Census Data CSV\n",
    "links={'pop':'C:/Users/pompa/gitProjects/Coursera_Capstone/Coursera_Capstone/QuickFactsFeb2020.csv'}\n",
    "# Create: DataFrame with Census Data\n",
    "df_POP = pd.read_csv(links[\"pop\"]) "
   ]
  },
  {
   "cell_type": "code",
   "execution_count": 3,
   "metadata": {
    "scrolled": true
   },
   "outputs": [
    {
     "data": {
      "text/html": [
       "<div>\n",
       "<style scoped>\n",
       "    .dataframe tbody tr th:only-of-type {\n",
       "        vertical-align: middle;\n",
       "    }\n",
       "\n",
       "    .dataframe tbody tr th {\n",
       "        vertical-align: top;\n",
       "    }\n",
       "\n",
       "    .dataframe thead th {\n",
       "        text-align: right;\n",
       "    }\n",
       "</style>\n",
       "<table border=\"1\" class=\"dataframe\">\n",
       "  <thead>\n",
       "    <tr style=\"text-align: right;\">\n",
       "      <th></th>\n",
       "      <th>Fact</th>\n",
       "      <th>Fact Note</th>\n",
       "      <th>New York city, New York</th>\n",
       "      <th>Value Note for New York city, New York</th>\n",
       "      <th>Bronx County (Bronx Borough), New York</th>\n",
       "      <th>Value Note for Bronx County (Bronx Borough), New York</th>\n",
       "      <th>Kings County (Brooklyn Borough), New York</th>\n",
       "      <th>Value Note for Kings County (Brooklyn Borough), New York</th>\n",
       "      <th>New York County (Manhattan Borough), New York</th>\n",
       "      <th>Value Note for New York County (Manhattan Borough), New York</th>\n",
       "      <th>Queens County (Queens Borough), New York</th>\n",
       "      <th>Value Note for Queens County (Queens Borough), New York</th>\n",
       "      <th>Richmond County (Staten Island Borough), New York</th>\n",
       "      <th>Value Note for Richmond County (Staten Island Borough), New York</th>\n",
       "    </tr>\n",
       "  </thead>\n",
       "  <tbody>\n",
       "    <tr>\n",
       "      <th>0</th>\n",
       "      <td>Population estimates, July 1, 2019,  (V2019)</td>\n",
       "      <td>NaN</td>\n",
       "      <td>NaN</td>\n",
       "      <td>NaN</td>\n",
       "      <td>NaN</td>\n",
       "      <td>NaN</td>\n",
       "      <td>NaN</td>\n",
       "      <td>NaN</td>\n",
       "      <td>NaN</td>\n",
       "      <td>NaN</td>\n",
       "      <td>NaN</td>\n",
       "      <td>NaN</td>\n",
       "      <td>NaN</td>\n",
       "      <td>NaN</td>\n",
       "    </tr>\n",
       "    <tr>\n",
       "      <th>1</th>\n",
       "      <td>Population estimates, July 1, 2018,  (V2018)</td>\n",
       "      <td>NaN</td>\n",
       "      <td>8,398,748</td>\n",
       "      <td>NaN</td>\n",
       "      <td>1,432,132</td>\n",
       "      <td>NaN</td>\n",
       "      <td>2,582,830</td>\n",
       "      <td>NaN</td>\n",
       "      <td>1,628,701</td>\n",
       "      <td>NaN</td>\n",
       "      <td>2,278,906</td>\n",
       "      <td>NaN</td>\n",
       "      <td>476,179</td>\n",
       "      <td>NaN</td>\n",
       "    </tr>\n",
       "    <tr>\n",
       "      <th>2</th>\n",
       "      <td>Population estimates base, April 1, 2010,  (V2...</td>\n",
       "      <td>NaN</td>\n",
       "      <td>NaN</td>\n",
       "      <td>NaN</td>\n",
       "      <td>NaN</td>\n",
       "      <td>NaN</td>\n",
       "      <td>NaN</td>\n",
       "      <td>NaN</td>\n",
       "      <td>NaN</td>\n",
       "      <td>NaN</td>\n",
       "      <td>NaN</td>\n",
       "      <td>NaN</td>\n",
       "      <td>NaN</td>\n",
       "      <td>NaN</td>\n",
       "    </tr>\n",
       "    <tr>\n",
       "      <th>3</th>\n",
       "      <td>Population estimates base, April 1, 2010,  (V2...</td>\n",
       "      <td>NaN</td>\n",
       "      <td>8,174,988</td>\n",
       "      <td>NaN</td>\n",
       "      <td>1,384,603</td>\n",
       "      <td>NaN</td>\n",
       "      <td>2,504,717</td>\n",
       "      <td>NaN</td>\n",
       "      <td>1,586,360</td>\n",
       "      <td>NaN</td>\n",
       "      <td>2,230,578</td>\n",
       "      <td>NaN</td>\n",
       "      <td>468,730</td>\n",
       "      <td>NaN</td>\n",
       "    </tr>\n",
       "    <tr>\n",
       "      <th>4</th>\n",
       "      <td>Population, percent change - April 1, 2010 (es...</td>\n",
       "      <td>NaN</td>\n",
       "      <td>NaN</td>\n",
       "      <td>NaN</td>\n",
       "      <td>NaN</td>\n",
       "      <td>NaN</td>\n",
       "      <td>NaN</td>\n",
       "      <td>NaN</td>\n",
       "      <td>NaN</td>\n",
       "      <td>NaN</td>\n",
       "      <td>NaN</td>\n",
       "      <td>NaN</td>\n",
       "      <td>NaN</td>\n",
       "      <td>NaN</td>\n",
       "    </tr>\n",
       "  </tbody>\n",
       "</table>\n",
       "</div>"
      ],
      "text/plain": [
       "                                                Fact Fact Note  \\\n",
       "0       Population estimates, July 1, 2019,  (V2019)       NaN   \n",
       "1       Population estimates, July 1, 2018,  (V2018)       NaN   \n",
       "2  Population estimates base, April 1, 2010,  (V2...       NaN   \n",
       "3  Population estimates base, April 1, 2010,  (V2...       NaN   \n",
       "4  Population, percent change - April 1, 2010 (es...       NaN   \n",
       "\n",
       "  New York city, New York  Value Note for New York city, New York  \\\n",
       "0                     NaN                                     NaN   \n",
       "1               8,398,748                                     NaN   \n",
       "2                     NaN                                     NaN   \n",
       "3               8,174,988                                     NaN   \n",
       "4                     NaN                                     NaN   \n",
       "\n",
       "  Bronx County (Bronx Borough), New York  \\\n",
       "0                                    NaN   \n",
       "1                              1,432,132   \n",
       "2                                    NaN   \n",
       "3                              1,384,603   \n",
       "4                                    NaN   \n",
       "\n",
       "   Value Note for Bronx County (Bronx Borough), New York  \\\n",
       "0                                                NaN       \n",
       "1                                                NaN       \n",
       "2                                                NaN       \n",
       "3                                                NaN       \n",
       "4                                                NaN       \n",
       "\n",
       "  Kings County (Brooklyn Borough), New York  \\\n",
       "0                                       NaN   \n",
       "1                                 2,582,830   \n",
       "2                                       NaN   \n",
       "3                                 2,504,717   \n",
       "4                                       NaN   \n",
       "\n",
       "   Value Note for Kings County (Brooklyn Borough), New York  \\\n",
       "0                                                NaN          \n",
       "1                                                NaN          \n",
       "2                                                NaN          \n",
       "3                                                NaN          \n",
       "4                                                NaN          \n",
       "\n",
       "  New York County (Manhattan Borough), New York  \\\n",
       "0                                           NaN   \n",
       "1                                     1,628,701   \n",
       "2                                           NaN   \n",
       "3                                     1,586,360   \n",
       "4                                           NaN   \n",
       "\n",
       "   Value Note for New York County (Manhattan Borough), New York  \\\n",
       "0                                                NaN              \n",
       "1                                                NaN              \n",
       "2                                                NaN              \n",
       "3                                                NaN              \n",
       "4                                                NaN              \n",
       "\n",
       "  Queens County (Queens Borough), New York  \\\n",
       "0                                      NaN   \n",
       "1                                2,278,906   \n",
       "2                                      NaN   \n",
       "3                                2,230,578   \n",
       "4                                      NaN   \n",
       "\n",
       "   Value Note for Queens County (Queens Borough), New York  \\\n",
       "0                                                NaN         \n",
       "1                                                NaN         \n",
       "2                                                NaN         \n",
       "3                                                NaN         \n",
       "4                                                NaN         \n",
       "\n",
       "  Richmond County (Staten Island Borough), New York  \\\n",
       "0                                               NaN   \n",
       "1                                           476,179   \n",
       "2                                               NaN   \n",
       "3                                           468,730   \n",
       "4                                               NaN   \n",
       "\n",
       "   Value Note for Richmond County (Staten Island Borough), New York  \n",
       "0                                                NaN                 \n",
       "1                                                NaN                 \n",
       "2                                                NaN                 \n",
       "3                                                NaN                 \n",
       "4                                                NaN                 "
      ]
     },
     "execution_count": 3,
     "metadata": {},
     "output_type": "execute_result"
    }
   ],
   "source": [
    "# Verify Data: Identify what needs to be removed.\n",
    "df_POP.head()"
   ]
  },
  {
   "cell_type": "code",
   "execution_count": 4,
   "metadata": {
    "scrolled": true
   },
   "outputs": [],
   "source": [
    "# Clean Data: Drop NaN columns not needed.\n",
    "df_POP.drop(\"Fact Note\", axis = 1, inplace=True)\n",
    "df_POP.drop(\"Value Note for New York city, New York\", axis = 1, inplace=True)\n",
    "df_POP.drop(\"Value Note for Bronx County (Bronx Borough), New York\", axis = 1, inplace=True)\n",
    "df_POP.drop(\"Value Note for Kings County (Brooklyn Borough), New York\", axis = 1, inplace=True)\n",
    "df_POP.drop(\"Value Note for New York County (Manhattan Borough), New York\", axis = 1, inplace=True)\n",
    "df_POP.drop(\"Value Note for Queens County (Queens Borough), New York\", axis = 1, inplace=True)\n",
    "df_POP.drop(\"Value Note for Richmond County (Staten Island Borough), New York\", axis = 1, inplace=True)\n",
    "df_POP.drop([2, 4], axis = 0, inplace=True)"
   ]
  },
  {
   "cell_type": "code",
   "execution_count": 5,
   "metadata": {},
   "outputs": [
    {
     "data": {
      "text/html": [
       "<div>\n",
       "<style scoped>\n",
       "    .dataframe tbody tr th:only-of-type {\n",
       "        vertical-align: middle;\n",
       "    }\n",
       "\n",
       "    .dataframe tbody tr th {\n",
       "        vertical-align: top;\n",
       "    }\n",
       "\n",
       "    .dataframe thead th {\n",
       "        text-align: right;\n",
       "    }\n",
       "</style>\n",
       "<table border=\"1\" class=\"dataframe\">\n",
       "  <thead>\n",
       "    <tr style=\"text-align: right;\">\n",
       "      <th></th>\n",
       "      <th>Fact</th>\n",
       "      <th>New York city, New York</th>\n",
       "      <th>Bronx County (Bronx Borough), New York</th>\n",
       "      <th>Kings County (Brooklyn Borough), New York</th>\n",
       "      <th>New York County (Manhattan Borough), New York</th>\n",
       "      <th>Queens County (Queens Borough), New York</th>\n",
       "      <th>Richmond County (Staten Island Borough), New York</th>\n",
       "    </tr>\n",
       "  </thead>\n",
       "  <tbody>\n",
       "    <tr>\n",
       "      <th>1</th>\n",
       "      <td>Population estimates, July 1, 2018,  (V2018)</td>\n",
       "      <td>8,398,748</td>\n",
       "      <td>1,432,132</td>\n",
       "      <td>2,582,830</td>\n",
       "      <td>1,628,701</td>\n",
       "      <td>2,278,906</td>\n",
       "      <td>476,179</td>\n",
       "    </tr>\n",
       "    <tr>\n",
       "      <th>3</th>\n",
       "      <td>Population estimates base, April 1, 2010,  (V2...</td>\n",
       "      <td>8,174,988</td>\n",
       "      <td>1,384,603</td>\n",
       "      <td>2,504,717</td>\n",
       "      <td>1,586,360</td>\n",
       "      <td>2,230,578</td>\n",
       "      <td>468,730</td>\n",
       "    </tr>\n",
       "    <tr>\n",
       "      <th>5</th>\n",
       "      <td>Population, percent change - April 1, 2010 (es...</td>\n",
       "      <td>2.7%</td>\n",
       "      <td>3.4%</td>\n",
       "      <td>3.1%</td>\n",
       "      <td>2.7%</td>\n",
       "      <td>2.2%</td>\n",
       "      <td>1.6%</td>\n",
       "    </tr>\n",
       "    <tr>\n",
       "      <th>6</th>\n",
       "      <td>Population, Census, April 1, 2010</td>\n",
       "      <td>8,175,133</td>\n",
       "      <td>1,385,108</td>\n",
       "      <td>2,504,700</td>\n",
       "      <td>1,585,873</td>\n",
       "      <td>2,230,722</td>\n",
       "      <td>468,730</td>\n",
       "    </tr>\n",
       "    <tr>\n",
       "      <th>7</th>\n",
       "      <td>Persons under 5 years, percent</td>\n",
       "      <td>6.5%</td>\n",
       "      <td>7.2%</td>\n",
       "      <td>7.2%</td>\n",
       "      <td>4.7%</td>\n",
       "      <td>6.2%</td>\n",
       "      <td>5.8%</td>\n",
       "    </tr>\n",
       "  </tbody>\n",
       "</table>\n",
       "</div>"
      ],
      "text/plain": [
       "                                                Fact New York city, New York  \\\n",
       "1       Population estimates, July 1, 2018,  (V2018)               8,398,748   \n",
       "3  Population estimates base, April 1, 2010,  (V2...               8,174,988   \n",
       "5  Population, percent change - April 1, 2010 (es...                    2.7%   \n",
       "6                  Population, Census, April 1, 2010               8,175,133   \n",
       "7                     Persons under 5 years, percent                    6.5%   \n",
       "\n",
       "  Bronx County (Bronx Borough), New York  \\\n",
       "1                              1,432,132   \n",
       "3                              1,384,603   \n",
       "5                                   3.4%   \n",
       "6                              1,385,108   \n",
       "7                                   7.2%   \n",
       "\n",
       "  Kings County (Brooklyn Borough), New York  \\\n",
       "1                                 2,582,830   \n",
       "3                                 2,504,717   \n",
       "5                                      3.1%   \n",
       "6                                 2,504,700   \n",
       "7                                      7.2%   \n",
       "\n",
       "  New York County (Manhattan Borough), New York  \\\n",
       "1                                     1,628,701   \n",
       "3                                     1,586,360   \n",
       "5                                          2.7%   \n",
       "6                                     1,585,873   \n",
       "7                                          4.7%   \n",
       "\n",
       "  Queens County (Queens Borough), New York  \\\n",
       "1                                2,278,906   \n",
       "3                                2,230,578   \n",
       "5                                     2.2%   \n",
       "6                                2,230,722   \n",
       "7                                     6.2%   \n",
       "\n",
       "  Richmond County (Staten Island Borough), New York  \n",
       "1                                           476,179  \n",
       "3                                           468,730  \n",
       "5                                              1.6%  \n",
       "6                                           468,730  \n",
       "7                                              5.8%  "
      ]
     },
     "execution_count": 5,
     "metadata": {},
     "output_type": "execute_result"
    }
   ],
   "source": [
    "# Clean Data: Drop extra row\n",
    "df_POP.drop(0, axis = 0, inplace=True)\n",
    "df_POP.head()"
   ]
  },
  {
   "cell_type": "code",
   "execution_count": 6,
   "metadata": {},
   "outputs": [
    {
     "name": "stderr",
     "output_type": "stream",
     "text": [
      "C:\\Users\\pompa\\Anaconda3\\envs\\ipykernel_py2\\lib\\site-packages\\pandas\\core\\frame.py:3990: SettingWithCopyWarning: \n",
      "A value is trying to be set on a copy of a slice from a DataFrame\n",
      "\n",
      "See the caveats in the documentation: https://pandas.pydata.org/pandas-docs/stable/user_guide/indexing.html#returning-a-view-versus-a-copy\n",
      "  return super().drop(\n"
     ]
    }
   ],
   "source": [
    "# Clean Data: Rename Columns, drop data.\n",
    "df_POP.columns = ['2018', 'New York city', 'Bronx County', 'Kings County', 'New York County', 'Queens County', 'Richmond County']\n",
    "df_POP2 = df_POP\n",
    "df_POP2 = df_POP2[:1]\n",
    "df_POP2.drop(\"2018\", axis = 1, inplace=True)"
   ]
  },
  {
   "cell_type": "code",
   "execution_count": null,
   "metadata": {
    "scrolled": true
   },
   "outputs": [],
   "source": []
  },
  {
   "cell_type": "markdown",
   "metadata": {},
   "source": [
    "#### 2b. New York City population & population per county."
   ]
  },
  {
   "cell_type": "code",
   "execution_count": 7,
   "metadata": {},
   "outputs": [
    {
     "data": {
      "text/html": [
       "<div>\n",
       "<style scoped>\n",
       "    .dataframe tbody tr th:only-of-type {\n",
       "        vertical-align: middle;\n",
       "    }\n",
       "\n",
       "    .dataframe tbody tr th {\n",
       "        vertical-align: top;\n",
       "    }\n",
       "\n",
       "    .dataframe thead th {\n",
       "        text-align: right;\n",
       "    }\n",
       "</style>\n",
       "<table border=\"1\" class=\"dataframe\">\n",
       "  <thead>\n",
       "    <tr style=\"text-align: right;\">\n",
       "      <th></th>\n",
       "      <th>New York city</th>\n",
       "      <th>Bronx County</th>\n",
       "      <th>Kings County</th>\n",
       "      <th>New York County</th>\n",
       "      <th>Queens County</th>\n",
       "      <th>Richmond County</th>\n",
       "    </tr>\n",
       "  </thead>\n",
       "  <tbody>\n",
       "    <tr>\n",
       "      <th>1</th>\n",
       "      <td>8,398,748</td>\n",
       "      <td>1,432,132</td>\n",
       "      <td>2,582,830</td>\n",
       "      <td>1,628,701</td>\n",
       "      <td>2,278,906</td>\n",
       "      <td>476,179</td>\n",
       "    </tr>\n",
       "  </tbody>\n",
       "</table>\n",
       "</div>"
      ],
      "text/plain": [
       "  New York city Bronx County Kings County New York County Queens County  \\\n",
       "1     8,398,748    1,432,132    2,582,830       1,628,701     2,278,906   \n",
       "\n",
       "  Richmond County  \n",
       "1         476,179  "
      ]
     },
     "execution_count": 7,
     "metadata": {},
     "output_type": "execute_result"
    }
   ],
   "source": [
    "# Second df with only population\n",
    "df_POP2"
   ]
  },
  {
   "cell_type": "code",
   "execution_count": 8,
   "metadata": {},
   "outputs": [],
   "source": [
    "# Filtered: pop by county in NYC.\n",
    "nyc_Totalpop = df_POP2['New York city'].str.replace(',', '').astype(int)\n",
    "bronxCounty = df_POP2['Bronx County'].str.replace(',', '').astype(int)\n",
    "kingsCounty = df_POP2['Kings County'].str.replace(',', '').astype(int)\n",
    "nyCounty = df_POP2['New York County'].str.replace(',', '').astype(int)\n",
    "queensCounty = df_POP2['Queens County'].str.replace(',', '').astype(int)\n",
    "richmondCounty = df_POP2['Richmond County'].str.replace(',', '').astype(int)"
   ]
  },
  {
   "cell_type": "code",
   "execution_count": 9,
   "metadata": {},
   "outputs": [],
   "source": [
    "# Filtered: Percentage of population per County\n",
    "bronxCounty_popPercentage = int(bronxCounty) / int(nyc_Totalpop)\n",
    "kingsCounty_popPercentage = int(kingsCounty) /  int(nyc_Totalpop)\n",
    "nyCounty_popPercentage = int(nyCounty) / int(nyc_Totalpop)\n",
    "queensCounty_popPercentage = int(queensCounty) / int(nyc_Totalpop)\n",
    "richmondCounty_popPercentage = int(richmondCounty) / int(nyc_Totalpop)"
   ]
  },
  {
   "cell_type": "code",
   "execution_count": 10,
   "metadata": {},
   "outputs": [
    {
     "data": {
      "text/html": [
       "<div>\n",
       "<style scoped>\n",
       "    .dataframe tbody tr th:only-of-type {\n",
       "        vertical-align: middle;\n",
       "    }\n",
       "\n",
       "    .dataframe tbody tr th {\n",
       "        vertical-align: top;\n",
       "    }\n",
       "\n",
       "    .dataframe thead th {\n",
       "        text-align: right;\n",
       "    }\n",
       "</style>\n",
       "<table border=\"1\" class=\"dataframe\">\n",
       "  <thead>\n",
       "    <tr style=\"text-align: right;\">\n",
       "      <th></th>\n",
       "      <th>Bronx County</th>\n",
       "      <th>Kings County</th>\n",
       "      <th>New York County</th>\n",
       "      <th>Queens County</th>\n",
       "      <th>Richmond County</th>\n",
       "    </tr>\n",
       "  </thead>\n",
       "  <tbody>\n",
       "    <tr>\n",
       "      <th>0</th>\n",
       "      <td>0.170517</td>\n",
       "      <td>0.307526</td>\n",
       "      <td>0.193922</td>\n",
       "      <td>0.271339</td>\n",
       "      <td>0.056696</td>\n",
       "    </tr>\n",
       "  </tbody>\n",
       "</table>\n",
       "</div>"
      ],
      "text/plain": [
       "   Bronx County  Kings County  New York County  Queens County  Richmond County\n",
       "0      0.170517      0.307526         0.193922       0.271339         0.056696"
      ]
     },
     "execution_count": 10,
     "metadata": {},
     "output_type": "execute_result"
    }
   ],
   "source": [
    "# Clean: Initialise data to lists. \n",
    "data = [{'Bronx County': bronxCounty_popPercentage, 'Kings County': kingsCounty_popPercentage, 'New York County': nyCounty_popPercentage, 'Queens County': queensCounty_popPercentage, 'Richmond County': richmondCounty_popPercentage}] \n",
    "\n",
    "# Creates Percentage of population per County DataFrame. \n",
    "df_popPercentage = pd.DataFrame(data)\n",
    "df_popPercentage"
   ]
  },
  {
   "cell_type": "code",
   "execution_count": null,
   "metadata": {},
   "outputs": [],
   "source": []
  },
  {
   "cell_type": "markdown",
   "metadata": {},
   "source": [
    "#### 2c. Latitude/Longitude for NYC counties."
   ]
  },
  {
   "cell_type": "code",
   "execution_count": 11,
   "metadata": {},
   "outputs": [
    {
     "name": "stdout",
     "output_type": "stream",
     "text": [
      "40.85048545 -73.84040355802088\n"
     ]
    }
   ],
   "source": [
    "### Lat Lng of Boroughs in New York City\n",
    "# Filter: Used 'address'\n",
    "address = 'Bronx County, New York City, NY'\n",
    "\n",
    "geolocator = Nominatim(user_agent=\"foursquare_agent\")\n",
    "location = geolocator.geocode(address)\n",
    "latitude = location.latitude\n",
    "longitude = location.longitude\n",
    "print(latitude, longitude)"
   ]
  },
  {
   "cell_type": "code",
   "execution_count": 12,
   "metadata": {},
   "outputs": [
    {
     "data": {
      "text/html": [
       "<div>\n",
       "<style scoped>\n",
       "    .dataframe tbody tr th:only-of-type {\n",
       "        vertical-align: middle;\n",
       "    }\n",
       "\n",
       "    .dataframe tbody tr th {\n",
       "        vertical-align: top;\n",
       "    }\n",
       "\n",
       "    .dataframe thead th {\n",
       "        text-align: right;\n",
       "    }\n",
       "</style>\n",
       "<table border=\"1\" class=\"dataframe\">\n",
       "  <thead>\n",
       "    <tr style=\"text-align: right;\">\n",
       "      <th></th>\n",
       "      <th>Bronx County</th>\n",
       "      <th>Kings County</th>\n",
       "      <th>New York County</th>\n",
       "      <th>Queens County</th>\n",
       "      <th>Richmond County</th>\n",
       "    </tr>\n",
       "  </thead>\n",
       "  <tbody>\n",
       "    <tr>\n",
       "      <th>latitude</th>\n",
       "      <td>40.850485</td>\n",
       "      <td>40.645310</td>\n",
       "      <td>40.781018</td>\n",
       "      <td>40.652493</td>\n",
       "      <td>40.564209</td>\n",
       "    </tr>\n",
       "    <tr>\n",
       "      <th>longitude</th>\n",
       "      <td>-73.840404</td>\n",
       "      <td>-73.955023</td>\n",
       "      <td>-73.959300</td>\n",
       "      <td>-73.791421</td>\n",
       "      <td>-74.125305</td>\n",
       "    </tr>\n",
       "  </tbody>\n",
       "</table>\n",
       "</div>"
      ],
      "text/plain": [
       "           Bronx County  Kings County  New York County  Queens County  \\\n",
       "latitude      40.850485     40.645310        40.781018      40.652493   \n",
       "longitude    -73.840404    -73.955023       -73.959300     -73.791421   \n",
       "\n",
       "           Richmond County  \n",
       "latitude         40.564209  \n",
       "longitude       -74.125305  "
      ]
     },
     "execution_count": 12,
     "metadata": {},
     "output_type": "execute_result"
    }
   ],
   "source": [
    "# Create DataFrame with Lat/Lng for each borough in NYC.\n",
    "latlng_nyc ={'Bronx County':['40.85048545', '-73.84040355802088'], 'Kings County':['40.64530975', '-73.9550230275334'], 'New York County':['40.7810178', '-73.959299675'], 'Queens County':['40.652492699999996', '-73.7914214158161'], 'Richmond County':['40.564209', '-74.12530461995391']} \n",
    "df_NYCB_latlng = pd.DataFrame(latlng_nyc, index =['latitude', 'longitude']) \n",
    "df_NYCB_latlng = df_NYCB_latlng.astype('float')\n",
    "df_NYCB_latlng"
   ]
  },
  {
   "cell_type": "code",
   "execution_count": null,
   "metadata": {},
   "outputs": [],
   "source": []
  },
  {
   "cell_type": "code",
   "execution_count": null,
   "metadata": {},
   "outputs": [],
   "source": []
  },
  {
   "cell_type": "markdown",
   "metadata": {},
   "source": [
    "#### 2d. Search for a Neighborhood in Toronto"
   ]
  },
  {
   "cell_type": "code",
   "execution_count": 20,
   "metadata": {},
   "outputs": [],
   "source": [
    "# Import Wiki table information.\n",
    "weblink = requests.get(\"https://en.wikipedia.org/wiki/List_of_postal_codes_of_Canada:_M\")\n",
    "soup = BeautifulSoup(weblink.content,'lxml')\n",
    "table = soup.find_all('tbody')[0]\n",
    "\n",
    "# Select Table with data\n",
    "table = soup.find('table', attrs={'class':'wikitable sortable'})\n",
    "table_rows = table.find_all('tr')\n",
    "\n",
    "### Data for table\n",
    "data = []\n",
    "for tr in table_rows:\n",
    "    td = tr.find_all('td')\n",
    "    row = [tr.text for tr in td]\n",
    "    data.append(row)\n",
    "#print(data)\n",
    "#print(df[0].to_json(orient='records'))\n",
    "\n",
    "### Convert imported data to pandas DataFrame\n",
    "df = pd.DataFrame(data, columns=[\"Postcode\", \"Borough\", \"Neighbourhood\"])"
   ]
  },
  {
   "cell_type": "markdown",
   "metadata": {},
   "source": [
    "#### Clean Data"
   ]
  },
  {
   "cell_type": "code",
   "execution_count": 21,
   "metadata": {},
   "outputs": [
    {
     "data": {
      "text/plain": [
       "False"
      ]
     },
     "execution_count": 21,
     "metadata": {},
     "output_type": "execute_result"
    }
   ],
   "source": [
    "# Remove \\n\n",
    "df = df.replace(r'\\n','', regex=True)\n",
    "df.columns = df.columns.str.strip()\n",
    "# verify column headers\n",
    "#df.columns\n",
    "\n",
    "# verify column headers\n",
    "df.columns\n",
    "\n",
    "# Group columns by postal code and borough, removing duplicate postcode value\n",
    "# and moving the duplicate data in borough to Neighbourhood.\n",
    "df = df.groupby(['Postcode','Borough'])['Neighbourhood'].apply(', '.join).reset_index()\n",
    "\n",
    "# Rename headers\n",
    "df.rename(columns ={'Postcode': 'PostalCode'}, inplace=True)\n",
    "df.rename(columns ={'Neighbourhood': 'Neighborhood'}, inplace=True)\n",
    "\n",
    "# Verify neighbourhood has values in all rows.\n",
    "df.isin(['Not Available']).any().any()"
   ]
  },
  {
   "cell_type": "markdown",
   "metadata": {},
   "source": [
    "#### Generating Lat & Lng by Postal Code."
   ]
  },
  {
   "cell_type": "code",
   "execution_count": 22,
   "metadata": {},
   "outputs": [],
   "source": [
    "# Main list to run\n",
    "postal_code = df['PostalCode'].tolist()"
   ]
  },
  {
   "cell_type": "code",
   "execution_count": 23,
   "metadata": {},
   "outputs": [
    {
     "name": "stdout",
     "output_type": "stream",
     "text": [
      "    PostalCode     Longname   Latitude  Longitude venues\n",
      "0          M1J  Scarborough  43.744734 -79.239476    NaN\n",
      "1          M1B  Scarborough  43.806686 -79.194353    NaN\n",
      "2          M1C  Scarborough  43.784535 -79.160497    NaN\n",
      "3          M1E  Scarborough  43.763573 -79.188711    NaN\n",
      "4          M1G  Scarborough  43.770992 -79.216917    NaN\n",
      "..         ...          ...        ...        ...    ...\n",
      "234        M9N      Toronto  43.706876 -79.518188    NaN\n",
      "235        M9P    Etobicoke  43.696319 -79.532242    NaN\n",
      "236        M9R    Etobicoke  43.688905 -79.554724    NaN\n",
      "237        M9V    Etobicoke  43.739416 -79.588437    NaN\n",
      "238        M9W    Etobicoke  43.706748 -79.594054    NaN\n",
      "\n",
      "[239 rows x 5 columns]\n"
     ]
    }
   ],
   "source": [
    "# Main list\n",
    "list1 = postal_code\n",
    "# Getting length of list \n",
    "api_key = config.api_key\n",
    "i = 0\n",
    "# Iterating using while loop \n",
    "while i < len(list1):  \n",
    "    element = list1[i]\n",
    "    geoCodeUrl = \"https://maps.googleapis.com/maps/api/geocode/json?components=postal_code:{}|country:CA&key={}\".format(\n",
    "        element,\n",
    "        api_key) \n",
    "    \n",
    "    # make the GET request\n",
    "    lookup = requests.get(geoCodeUrl)\n",
    "    data = lookup.json()  \n",
    "    \n",
    "    # If no results are found for postal code, skip and move on.\n",
    "    if (data['status'] == 'ZERO_RESULTS'):\n",
    "        i += 1\n",
    "        continue\n",
    "    # Instantiate an empty dict\n",
    "    latlng = {}\n",
    "    # latlng information\n",
    "    latlng['PostalCode'] = data['results'][0]['address_components'][0]['long_name']\n",
    "    latlng['Longname'] = data['results'][0]['address_components'][1]['long_name']\n",
    "    latlng['Latitude'] = data['results'][0]['geometry']['location']['lat']\n",
    "    latlng['Longitude'] = data['results'][0]['geometry']['location']['lng']\n",
    "\n",
    "    with open('data.json', 'r') as j:\n",
    "        json_data = json.load(j)\n",
    "    # convert data to list if not\n",
    "        if type(json_data) is dict:\n",
    "            json_data = [json_data]\n",
    "\n",
    "    # use append() to add to list\n",
    "    json_data.append(latlng)    \n",
    "\n",
    "    #write list to file\n",
    "    with open('data.json', 'w') as outfile:\n",
    "        json.dump(json_data, outfile)\n",
    "    # Normalize data. Flatten JSON.\n",
    "    data_normalized = pd.json_normalize(json_data) # flatten JSON\n",
    "    i += 1 \n",
    "       \n",
    "    if i == len(list1):\n",
    "        break\n",
    "\n",
    "print(data_normalized)"
   ]
  },
  {
   "cell_type": "code",
   "execution_count": 24,
   "metadata": {},
   "outputs": [],
   "source": [
    "# Open new json file created above.\n",
    "with open('data.json', 'r') as j:\n",
    "    json_data = json.load(j)"
   ]
  },
  {
   "cell_type": "code",
   "execution_count": 25,
   "metadata": {},
   "outputs": [
    {
     "data": {
      "text/html": [
       "<div>\n",
       "<style scoped>\n",
       "    .dataframe tbody tr th:only-of-type {\n",
       "        vertical-align: middle;\n",
       "    }\n",
       "\n",
       "    .dataframe tbody tr th {\n",
       "        vertical-align: top;\n",
       "    }\n",
       "\n",
       "    .dataframe thead th {\n",
       "        text-align: right;\n",
       "    }\n",
       "</style>\n",
       "<table border=\"1\" class=\"dataframe\">\n",
       "  <thead>\n",
       "    <tr style=\"text-align: right;\">\n",
       "      <th></th>\n",
       "      <th>PostalCode</th>\n",
       "      <th>Borough</th>\n",
       "      <th>Latitude</th>\n",
       "      <th>Longitude</th>\n",
       "      <th>venues</th>\n",
       "    </tr>\n",
       "  </thead>\n",
       "  <tbody>\n",
       "    <tr>\n",
       "      <th>0</th>\n",
       "      <td>M1J</td>\n",
       "      <td>Scarborough</td>\n",
       "      <td>43.744734</td>\n",
       "      <td>-79.239476</td>\n",
       "      <td>NaN</td>\n",
       "    </tr>\n",
       "    <tr>\n",
       "      <th>1</th>\n",
       "      <td>M1B</td>\n",
       "      <td>Scarborough</td>\n",
       "      <td>43.806686</td>\n",
       "      <td>-79.194353</td>\n",
       "      <td>NaN</td>\n",
       "    </tr>\n",
       "    <tr>\n",
       "      <th>2</th>\n",
       "      <td>M1C</td>\n",
       "      <td>Scarborough</td>\n",
       "      <td>43.784535</td>\n",
       "      <td>-79.160497</td>\n",
       "      <td>NaN</td>\n",
       "    </tr>\n",
       "    <tr>\n",
       "      <th>3</th>\n",
       "      <td>M1E</td>\n",
       "      <td>Scarborough</td>\n",
       "      <td>43.763573</td>\n",
       "      <td>-79.188711</td>\n",
       "      <td>NaN</td>\n",
       "    </tr>\n",
       "    <tr>\n",
       "      <th>4</th>\n",
       "      <td>M1G</td>\n",
       "      <td>Scarborough</td>\n",
       "      <td>43.770992</td>\n",
       "      <td>-79.216917</td>\n",
       "      <td>NaN</td>\n",
       "    </tr>\n",
       "  </tbody>\n",
       "</table>\n",
       "</div>"
      ],
      "text/plain": [
       "  PostalCode      Borough   Latitude  Longitude venues\n",
       "0        M1J  Scarborough  43.744734 -79.239476    NaN\n",
       "1        M1B  Scarborough  43.806686 -79.194353    NaN\n",
       "2        M1C  Scarborough  43.784535 -79.160497    NaN\n",
       "3        M1E  Scarborough  43.763573 -79.188711    NaN\n",
       "4        M1G  Scarborough  43.770992 -79.216917    NaN"
      ]
     },
     "execution_count": 25,
     "metadata": {},
     "output_type": "execute_result"
    }
   ],
   "source": [
    "# Rename longname to borough on new generated dataframe\n",
    "data_df = pd.DataFrame(json_data)\n",
    "data_df.rename(columns = {'Longname':'Borough'}, inplace=True)\n",
    "data_df.head()"
   ]
  },
  {
   "cell_type": "code",
   "execution_count": 26,
   "metadata": {},
   "outputs": [],
   "source": [
    "####################################################################\n",
    "#### Combine Dataframes: Postal Code, Neighborhood, with Latlng ####\n",
    "####################################################################"
   ]
  },
  {
   "cell_type": "code",
   "execution_count": 27,
   "metadata": {
    "collapsed": true
   },
   "outputs": [
    {
     "ename": "TypeError",
     "evalue": "unhashable type: 'list'",
     "output_type": "error",
     "traceback": [
      "\u001b[1;31m---------------------------------------------------------------------------\u001b[0m",
      "\u001b[1;31mTypeError\u001b[0m                                 Traceback (most recent call last)",
      "\u001b[1;32m<ipython-input-27-7858a5559407>\u001b[0m in \u001b[0;36m<module>\u001b[1;34m\u001b[0m\n\u001b[0;32m      2\u001b[0m \u001b[1;31m# Useful if while loop is ran multiple times.\u001b[0m\u001b[1;33m\u001b[0m\u001b[1;33m\u001b[0m\u001b[1;33m\u001b[0m\u001b[0m\n\u001b[0;32m      3\u001b[0m \u001b[0mdf\u001b[0m \u001b[1;33m=\u001b[0m \u001b[0mdf\u001b[0m\u001b[1;33m.\u001b[0m\u001b[0mdrop_duplicates\u001b[0m\u001b[1;33m(\u001b[0m\u001b[1;33m)\u001b[0m\u001b[1;33m\u001b[0m\u001b[1;33m\u001b[0m\u001b[0m\n\u001b[1;32m----> 4\u001b[1;33m \u001b[0mdata_df\u001b[0m \u001b[1;33m=\u001b[0m \u001b[0mdata_df\u001b[0m\u001b[1;33m.\u001b[0m\u001b[0mdrop_duplicates\u001b[0m\u001b[1;33m(\u001b[0m\u001b[1;33m)\u001b[0m\u001b[1;33m\u001b[0m\u001b[1;33m\u001b[0m\u001b[0m\n\u001b[0m\u001b[0;32m      5\u001b[0m \u001b[1;33m\u001b[0m\u001b[0m\n\u001b[0;32m      6\u001b[0m \u001b[1;31m# Merge df and df_data\u001b[0m\u001b[1;33m\u001b[0m\u001b[1;33m\u001b[0m\u001b[1;33m\u001b[0m\u001b[0m\n",
      "\u001b[1;32m~\\Anaconda3\\envs\\ipykernel_py2\\lib\\site-packages\\pandas\\core\\frame.py\u001b[0m in \u001b[0;36mdrop_duplicates\u001b[1;34m(self, subset, keep, inplace, ignore_index)\u001b[0m\n\u001b[0;32m   4809\u001b[0m \u001b[1;33m\u001b[0m\u001b[0m\n\u001b[0;32m   4810\u001b[0m         \u001b[0minplace\u001b[0m \u001b[1;33m=\u001b[0m \u001b[0mvalidate_bool_kwarg\u001b[0m\u001b[1;33m(\u001b[0m\u001b[0minplace\u001b[0m\u001b[1;33m,\u001b[0m \u001b[1;34m\"inplace\"\u001b[0m\u001b[1;33m)\u001b[0m\u001b[1;33m\u001b[0m\u001b[1;33m\u001b[0m\u001b[0m\n\u001b[1;32m-> 4811\u001b[1;33m         \u001b[0mduplicated\u001b[0m \u001b[1;33m=\u001b[0m \u001b[0mself\u001b[0m\u001b[1;33m.\u001b[0m\u001b[0mduplicated\u001b[0m\u001b[1;33m(\u001b[0m\u001b[0msubset\u001b[0m\u001b[1;33m,\u001b[0m \u001b[0mkeep\u001b[0m\u001b[1;33m=\u001b[0m\u001b[0mkeep\u001b[0m\u001b[1;33m)\u001b[0m\u001b[1;33m\u001b[0m\u001b[1;33m\u001b[0m\u001b[0m\n\u001b[0m\u001b[0;32m   4812\u001b[0m \u001b[1;33m\u001b[0m\u001b[0m\n\u001b[0;32m   4813\u001b[0m         \u001b[1;32mif\u001b[0m \u001b[0minplace\u001b[0m\u001b[1;33m:\u001b[0m\u001b[1;33m\u001b[0m\u001b[1;33m\u001b[0m\u001b[0m\n",
      "\u001b[1;32m~\\Anaconda3\\envs\\ipykernel_py2\\lib\\site-packages\\pandas\\core\\frame.py\u001b[0m in \u001b[0;36mduplicated\u001b[1;34m(self, subset, keep)\u001b[0m\n\u001b[0;32m   4886\u001b[0m \u001b[1;33m\u001b[0m\u001b[0m\n\u001b[0;32m   4887\u001b[0m         \u001b[0mvals\u001b[0m \u001b[1;33m=\u001b[0m \u001b[1;33m(\u001b[0m\u001b[0mcol\u001b[0m\u001b[1;33m.\u001b[0m\u001b[0mvalues\u001b[0m \u001b[1;32mfor\u001b[0m \u001b[0mname\u001b[0m\u001b[1;33m,\u001b[0m \u001b[0mcol\u001b[0m \u001b[1;32min\u001b[0m \u001b[0mself\u001b[0m\u001b[1;33m.\u001b[0m\u001b[0mitems\u001b[0m\u001b[1;33m(\u001b[0m\u001b[1;33m)\u001b[0m \u001b[1;32mif\u001b[0m \u001b[0mname\u001b[0m \u001b[1;32min\u001b[0m \u001b[0msubset\u001b[0m\u001b[1;33m)\u001b[0m\u001b[1;33m\u001b[0m\u001b[1;33m\u001b[0m\u001b[0m\n\u001b[1;32m-> 4888\u001b[1;33m         \u001b[0mlabels\u001b[0m\u001b[1;33m,\u001b[0m \u001b[0mshape\u001b[0m \u001b[1;33m=\u001b[0m \u001b[0mmap\u001b[0m\u001b[1;33m(\u001b[0m\u001b[0mlist\u001b[0m\u001b[1;33m,\u001b[0m \u001b[0mzip\u001b[0m\u001b[1;33m(\u001b[0m\u001b[1;33m*\u001b[0m\u001b[0mmap\u001b[0m\u001b[1;33m(\u001b[0m\u001b[0mf\u001b[0m\u001b[1;33m,\u001b[0m \u001b[0mvals\u001b[0m\u001b[1;33m)\u001b[0m\u001b[1;33m)\u001b[0m\u001b[1;33m)\u001b[0m\u001b[1;33m\u001b[0m\u001b[1;33m\u001b[0m\u001b[0m\n\u001b[0m\u001b[0;32m   4889\u001b[0m \u001b[1;33m\u001b[0m\u001b[0m\n\u001b[0;32m   4890\u001b[0m         \u001b[0mids\u001b[0m \u001b[1;33m=\u001b[0m \u001b[0mget_group_index\u001b[0m\u001b[1;33m(\u001b[0m\u001b[0mlabels\u001b[0m\u001b[1;33m,\u001b[0m \u001b[0mshape\u001b[0m\u001b[1;33m,\u001b[0m \u001b[0msort\u001b[0m\u001b[1;33m=\u001b[0m\u001b[1;32mFalse\u001b[0m\u001b[1;33m,\u001b[0m \u001b[0mxnull\u001b[0m\u001b[1;33m=\u001b[0m\u001b[1;32mFalse\u001b[0m\u001b[1;33m)\u001b[0m\u001b[1;33m\u001b[0m\u001b[1;33m\u001b[0m\u001b[0m\n",
      "\u001b[1;32m~\\Anaconda3\\envs\\ipykernel_py2\\lib\\site-packages\\pandas\\core\\frame.py\u001b[0m in \u001b[0;36mf\u001b[1;34m(vals)\u001b[0m\n\u001b[0;32m   4860\u001b[0m \u001b[1;33m\u001b[0m\u001b[0m\n\u001b[0;32m   4861\u001b[0m         \u001b[1;32mdef\u001b[0m \u001b[0mf\u001b[0m\u001b[1;33m(\u001b[0m\u001b[0mvals\u001b[0m\u001b[1;33m)\u001b[0m\u001b[1;33m:\u001b[0m\u001b[1;33m\u001b[0m\u001b[1;33m\u001b[0m\u001b[0m\n\u001b[1;32m-> 4862\u001b[1;33m             labels, shape = algorithms.factorize(\n\u001b[0m\u001b[0;32m   4863\u001b[0m                 \u001b[0mvals\u001b[0m\u001b[1;33m,\u001b[0m \u001b[0msize_hint\u001b[0m\u001b[1;33m=\u001b[0m\u001b[0mmin\u001b[0m\u001b[1;33m(\u001b[0m\u001b[0mlen\u001b[0m\u001b[1;33m(\u001b[0m\u001b[0mself\u001b[0m\u001b[1;33m)\u001b[0m\u001b[1;33m,\u001b[0m \u001b[0m_SIZE_HINT_LIMIT\u001b[0m\u001b[1;33m)\u001b[0m\u001b[1;33m\u001b[0m\u001b[1;33m\u001b[0m\u001b[0m\n\u001b[0;32m   4864\u001b[0m             )\n",
      "\u001b[1;32m~\\Anaconda3\\envs\\ipykernel_py2\\lib\\site-packages\\pandas\\core\\algorithms.py\u001b[0m in \u001b[0;36mfactorize\u001b[1;34m(values, sort, na_sentinel, size_hint)\u001b[0m\n\u001b[0;32m    633\u001b[0m             \u001b[0mna_value\u001b[0m \u001b[1;33m=\u001b[0m \u001b[1;32mNone\u001b[0m\u001b[1;33m\u001b[0m\u001b[1;33m\u001b[0m\u001b[0m\n\u001b[0;32m    634\u001b[0m \u001b[1;33m\u001b[0m\u001b[0m\n\u001b[1;32m--> 635\u001b[1;33m         codes, uniques = _factorize_array(\n\u001b[0m\u001b[0;32m    636\u001b[0m             \u001b[0mvalues\u001b[0m\u001b[1;33m,\u001b[0m \u001b[0mna_sentinel\u001b[0m\u001b[1;33m=\u001b[0m\u001b[0mna_sentinel\u001b[0m\u001b[1;33m,\u001b[0m \u001b[0msize_hint\u001b[0m\u001b[1;33m=\u001b[0m\u001b[0msize_hint\u001b[0m\u001b[1;33m,\u001b[0m \u001b[0mna_value\u001b[0m\u001b[1;33m=\u001b[0m\u001b[0mna_value\u001b[0m\u001b[1;33m\u001b[0m\u001b[1;33m\u001b[0m\u001b[0m\n\u001b[0;32m    637\u001b[0m         )\n",
      "\u001b[1;32m~\\Anaconda3\\envs\\ipykernel_py2\\lib\\site-packages\\pandas\\core\\algorithms.py\u001b[0m in \u001b[0;36m_factorize_array\u001b[1;34m(values, na_sentinel, size_hint, na_value)\u001b[0m\n\u001b[0;32m    482\u001b[0m \u001b[1;33m\u001b[0m\u001b[0m\n\u001b[0;32m    483\u001b[0m     \u001b[0mtable\u001b[0m \u001b[1;33m=\u001b[0m \u001b[0mhash_klass\u001b[0m\u001b[1;33m(\u001b[0m\u001b[0msize_hint\u001b[0m \u001b[1;32mor\u001b[0m \u001b[0mlen\u001b[0m\u001b[1;33m(\u001b[0m\u001b[0mvalues\u001b[0m\u001b[1;33m)\u001b[0m\u001b[1;33m)\u001b[0m\u001b[1;33m\u001b[0m\u001b[1;33m\u001b[0m\u001b[0m\n\u001b[1;32m--> 484\u001b[1;33m     \u001b[0muniques\u001b[0m\u001b[1;33m,\u001b[0m \u001b[0mcodes\u001b[0m \u001b[1;33m=\u001b[0m \u001b[0mtable\u001b[0m\u001b[1;33m.\u001b[0m\u001b[0mfactorize\u001b[0m\u001b[1;33m(\u001b[0m\u001b[0mvalues\u001b[0m\u001b[1;33m,\u001b[0m \u001b[0mna_sentinel\u001b[0m\u001b[1;33m=\u001b[0m\u001b[0mna_sentinel\u001b[0m\u001b[1;33m,\u001b[0m \u001b[0mna_value\u001b[0m\u001b[1;33m=\u001b[0m\u001b[0mna_value\u001b[0m\u001b[1;33m)\u001b[0m\u001b[1;33m\u001b[0m\u001b[1;33m\u001b[0m\u001b[0m\n\u001b[0m\u001b[0;32m    485\u001b[0m \u001b[1;33m\u001b[0m\u001b[0m\n\u001b[0;32m    486\u001b[0m     \u001b[0mcodes\u001b[0m \u001b[1;33m=\u001b[0m \u001b[0mensure_platform_int\u001b[0m\u001b[1;33m(\u001b[0m\u001b[0mcodes\u001b[0m\u001b[1;33m)\u001b[0m\u001b[1;33m\u001b[0m\u001b[1;33m\u001b[0m\u001b[0m\n",
      "\u001b[1;32mpandas\\_libs\\hashtable_class_helper.pxi\u001b[0m in \u001b[0;36mpandas._libs.hashtable.PyObjectHashTable.factorize\u001b[1;34m()\u001b[0m\n",
      "\u001b[1;32mpandas\\_libs\\hashtable_class_helper.pxi\u001b[0m in \u001b[0;36mpandas._libs.hashtable.PyObjectHashTable._unique\u001b[1;34m()\u001b[0m\n",
      "\u001b[1;31mTypeError\u001b[0m: unhashable type: 'list'"
     ]
    }
   ],
   "source": [
    "# Drop duplicate rows\n",
    "# Useful if while loop is ran multiple times.\n",
    "df = df.drop_duplicates()\n",
    "data_df = data_df.drop_duplicates()\n",
    "\n",
    "# Merge df and df_data\n",
    "# Postal code with \n",
    "df_merge_col = pd.merge(df, data_df, on='PostalCode')\n",
    "\n",
    "# Clean df_merge_col\n",
    "df_merge_col.rename(columns = {'Borough_x':'Borough'}, inplace=True)\n",
    "df_merge_col.rename(columns = {'Neighbourhood':'Neighborhood'}, inplace=True)\n",
    "df_merge_col = df_merge_col.drop(['Borough_y'], axis=1)\n",
    "df_merge_col.head()"
   ]
  },
  {
   "cell_type": "code",
   "execution_count": null,
   "metadata": {},
   "outputs": [],
   "source": []
  },
  {
   "cell_type": "code",
   "execution_count": null,
   "metadata": {},
   "outputs": [],
   "source": []
  },
  {
   "cell_type": "markdown",
   "metadata": {},
   "source": [
    "<a id=\"methodology\"></a>"
   ]
  },
  {
   "cell_type": "markdown",
   "metadata": {},
   "source": [
    "### 3. Methodology"
   ]
  },
  {
   "cell_type": "markdown",
   "metadata": {},
   "source": [
    "## FIX THIS. Not complete. needs to be in order.\n",
    "\n",
    "The goal is to provide two possible locations for both New York City and Toronto, to build a restaurant and/or cafe. By focusing on high population density areas, popular areas for food, and no current Argentinean restaurants around.\n",
    "\n",
    "First, we collect data from our sources such as: Neighborhood latitude and longitude information, number of resturaunts and cafes in both major cities, location and number of Argentinean resturaunts in both cities, and competition information. \n",
    "\n",
    "Second, we calculate the population density per neighborhood and create a heatmap showing density per neighborhood. We will also use heatmaps to distingush the amount of resturaunts and cafes per neighborgood, per city. \n",
    "\n",
    "Third, we will create clusters of neighborhoods which meet our requirements in providing promising locations to discuss with stakeholders. Using K-Means clustering, we will present a a map with the following locations found. "
   ]
  },
  {
   "cell_type": "code",
   "execution_count": null,
   "metadata": {},
   "outputs": [],
   "source": []
  },
  {
   "cell_type": "code",
   "execution_count": null,
   "metadata": {},
   "outputs": [],
   "source": []
  },
  {
   "cell_type": "markdown",
   "metadata": {},
   "source": [
    "<a id=\"analysis\"></a>"
   ]
  },
  {
   "cell_type": "markdown",
   "metadata": {},
   "source": [
    "### 4. Analysis"
   ]
  },
  {
   "cell_type": "markdown",
   "metadata": {},
   "source": [
    "Analysis will combine the data acquired in section #2, combine Google location data with Four Square information to find the solutions needed. Solutions include: Argentinian restauraunts per county in NYC and Toronto, competition in each area, and population percentage per county."
   ]
  },
  {
   "cell_type": "markdown",
   "metadata": {},
   "source": [
    "Using the location data acquired in section #2, lets use the Latitude, Longitude, and County information to <b>locate the number of Argentinian and Empanada restauraunts by NYC County.</b>"
   ]
  },
  {
   "cell_type": "code",
   "execution_count": 41,
   "metadata": {},
   "outputs": [],
   "source": [
    "# Fourquare Information. \n",
    "VERSION = '20180604'\n",
    "LIMIT = 30\n",
    "radius = 6000\n",
    "search_query = ['Empanadas', 'Argentinian', 'chimichurri']\n",
    "CLIENT_ID = config.CLIENT_ID\n",
    "CLIENT_SECRET = config.CLIENT_SECRET\n",
    "\n",
    "# Bronx lat/lng"
   ]
  },
  {
   "cell_type": "code",
   "execution_count": null,
   "metadata": {},
   "outputs": [],
   "source": []
  },
  {
   "cell_type": "markdown",
   "metadata": {},
   "source": [
    "#### 4a. Bronx County Data - Restaurant"
   ]
  },
  {
   "cell_type": "code",
   "execution_count": 42,
   "metadata": {},
   "outputs": [],
   "source": [
    "########################################\n",
    "### Retreive Four Square Information ###\n",
    "########################################\n",
    "\n",
    "#Bronx County Results for 'Argentinean' locations\n",
    "# Bronx lat/lng\n",
    "bronx_lat = float(df_NYCB_latlng['Bronx County'].latitude)\n",
    "bronx_lng = float(df_NYCB_latlng['Bronx County'].longitude)\n",
    "lat = bronx_lat = df_NYCB_latlng['Bronx County']['latitude']\n",
    "lng = bronx_lng = df_NYCB_latlng['Bronx County']['longitude']"
   ]
  },
  {
   "cell_type": "code",
   "execution_count": 43,
   "metadata": {},
   "outputs": [],
   "source": [
    "# Create: Generate empty DataFrame to populate.\n",
    "dataframe = pd.DataFrame()"
   ]
  },
  {
   "cell_type": "code",
   "execution_count": 44,
   "metadata": {},
   "outputs": [
    {
     "name": "stdout",
     "output_type": "stream",
     "text": [
      "completed\n"
     ]
    }
   ],
   "source": [
    "# Data: Loop through a number of search queries. We call the Four Square API to search \n",
    "# and query specific keywords related to Argentinian restauraunts.\n",
    "# We will use this loop for each county to find data by specific keywords. \n",
    "# 'dataframe' is populated on every loop and will provide results of query per location requested.\n",
    "\n",
    "search_query = ['chimichurri', 'empanadas', 'Argentinian']\n",
    "i = 0\n",
    "while i < len(search_query):\n",
    "    element = search_query[i]\n",
    "    url = 'https://api.foursquare.com/v2/venues/search?client_id={}&client_secret={}&ll={},{}&v={}&query={}&radius={}&limit={}'.format(CLIENT_ID, CLIENT_SECRET, lat, lng, VERSION, element, radius, LIMIT)\n",
    "    results = requests.get(url).json()\n",
    "    \n",
    "    result = {}                                #list that will store the results of all Json \n",
    "    result = results['response']['venues']     # filter specific location in results.json   \n",
    " \n",
    "    dataframe = dataframe.append(result, ignore_index=True) # add filtered JSON data to empty dataframe.\n",
    "\n",
    "    i += 1    # add 1 to i and restart loop\n",
    "       \n",
    "    if i == len(search_query):    # verify is i equals length of 'search_query'. If true, break loop.\n",
    "        break\n",
    "\n",
    "print('completed')"
   ]
  },
  {
   "cell_type": "code",
   "execution_count": 45,
   "metadata": {},
   "outputs": [],
   "source": [
    "# Clean: data is arranged to provide name, categorie titles, latitude and longitude.\n",
    "# 'dataframe' is filtered with def to extract information from values.\n",
    "\n",
    "filtered_columns = ['name', 'categories', 'location'] + [col for col in dataframe.columns if col.startswith('.location')] + ['id']\n",
    "dataframe_filtered = dataframe.loc[:, filtered_columns]\n",
    "# function that extracts the category of the venue\n",
    "def get_category_type(row):\n",
    "    try:\n",
    "        categories_list = row['categories']      \n",
    "    except:\n",
    "        categories_list = row['venue.categories']        \n",
    "    if len(categories_list) == 0:\n",
    "        return None\n",
    "    else:\n",
    "        return categories_list[0]['name']\n",
    "    \n",
    "def get_lat_type(row):\n",
    "    try:\n",
    "        lat_list = row['location']      \n",
    "    except:\n",
    "        lat_list = row['venue.location']        \n",
    "    if len(lat_list) == 0:\n",
    "        return None\n",
    "    else:\n",
    "        return lat_list['lat']\n",
    "    \n",
    "def get_lng_type(row):\n",
    "    try:\n",
    "        lng_list = row['location']      \n",
    "    except:\n",
    "        lng_list = row['venue.location']        \n",
    "    if len(lng_list) == 0:\n",
    "        return None\n",
    "    else:\n",
    "        return lng_list['lng']\n",
    "        \n",
    "def get_city(row):\n",
    "    try:\n",
    "        city_list = row['location']      \n",
    "    except:\n",
    "        city_list = row['venue.location']        \n",
    "    if len(city_list) == 0:\n",
    "        return None\n",
    "    else:\n",
    "        return city_list['city']"
   ]
  },
  {
   "cell_type": "code",
   "execution_count": null,
   "metadata": {},
   "outputs": [],
   "source": []
  },
  {
   "cell_type": "code",
   "execution_count": 46,
   "metadata": {
    "scrolled": false
   },
   "outputs": [],
   "source": [
    "# filter the category for each row\n",
    "\n",
    "dataframe_filtered['name'] = dataframe_filtered['name'].str.replace(r'\\.', '').str.replace(r'\\$', '').str.replace(r'\\'', '').str.replace(r'\\&', 'and').str.replace(r'\\?', '')\n",
    "dataframe_filtered['name'] = dataframe_filtered['name'].str.replace(r'\\$', '')\n",
    "dataframe_filtered['name'] = dataframe_filtered['name'].str.replace(r'\\'', '')\n",
    "\n",
    "\n",
    "dataframe_filtered['name'].str.replace('.', '').astype(object)\n",
    "dataframe_filtered['categories'] = dataframe_filtered.apply(get_category_type, axis=1)\n",
    "dataframe_filtered['Latitude'] = dataframe_filtered.apply(get_lat_type, axis=1)\n",
    "dataframe_filtered['Longitude'] = dataframe_filtered.apply(get_lng_type, axis=1)\n",
    "dataframe_filtered['City'] = dataframe_filtered.apply(get_city, axis=1)\n",
    "# Remove unwanted cities found within radius\n",
    "indexNames = dataframe_filtered[ dataframe_filtered['City'] != 'Bronx' ].index\n",
    "# Delete these row indexes from dataFrame\n",
    "dataframe_filtered.drop(indexNames , inplace=True)\n",
    "dataframe_filtered = dataframe_filtered[['name', 'categories', 'location', 'Latitude', 'Longitude', 'City', 'id']]"
   ]
  },
  {
   "cell_type": "markdown",
   "metadata": {},
   "source": [
    "#### 4a. Visualize: Argentinian restaurant in Bronx County."
   ]
  },
  {
   "cell_type": "code",
   "execution_count": 47,
   "metadata": {
    "scrolled": false
   },
   "outputs": [
    {
     "data": {
      "text/html": [
       "<div style=\"width:100%;\"><div style=\"position:relative;width:100%;height:0;padding-bottom:60%;\"><iframe src=\"data:text/html;charset=utf-8;base64,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\" style=\"position:absolute;width:100%;height:100%;left:0;top:0;border:none !important;\" allowfullscreen webkitallowfullscreen mozallowfullscreen></iframe></div></div>"
      ],
      "text/plain": [
       "<folium.folium.Map at 0x2548c264b80>"
      ]
     },
     "execution_count": 47,
     "metadata": {},
     "output_type": "execute_result"
    }
   ],
   "source": [
    "venues_map = folium.Map(location=[float(bronx_lat), float(bronx_lng)], zoom_start=12) # generate map centred around the Conrad Hotel\n",
    "\n",
    "# add a red circle marker to represent the Bronx County\n",
    "folium.features.CircleMarker(\n",
    "    [float(bronx_lat), float(bronx_lng)],\n",
    "    radius=10,\n",
    "    color='red',\n",
    "    popup='Bronx County',\n",
    "    fill = True,\n",
    "    fill_color = 'red',\n",
    "    fill_opacity = 0.6\n",
    ").add_to(venues_map)\n",
    "\n",
    "# add the Italian restaurants as blue circle markers\n",
    "for lat, lng, label in zip(dataframe_filtered.Latitude, dataframe_filtered.Longitude, dataframe_filtered.name):\n",
    "    folium.features.CircleMarker(\n",
    "        [lat, lng],\n",
    "        radius=5,\n",
    "        color='blue',\n",
    "        popup=label,\n",
    "        fill = True,\n",
    "        fill_color='blue',\n",
    "        fill_opacity=0.6\n",
    "    ).add_to(venues_map)\n",
    "\n",
    "# display map\n",
    "venues_map"
   ]
  },
  {
   "cell_type": "code",
   "execution_count": null,
   "metadata": {
    "scrolled": true
   },
   "outputs": [],
   "source": []
  },
  {
   "cell_type": "markdown",
   "metadata": {},
   "source": [
    "#### 4b. Kings County - Restaurant"
   ]
  },
  {
   "cell_type": "code",
   "execution_count": 48,
   "metadata": {},
   "outputs": [],
   "source": [
    "########################################\n",
    "### Retreive Four Square Information ###\n",
    "########################################\n",
    "\n",
    "#Kings County Results for 'Argentinean' locations\n",
    "radius = \n",
    "# Kings lat/lng\n",
    "kings_lat = float(df_NYCB_latlng['Kings County'].latitude)\n",
    "kings_lng = float(df_NYCB_latlng['Kings County'].longitude)\n",
    "lat = kings_lat = df_NYCB_latlng['Kings County']['latitude']\n",
    "lng = kings_lng = df_NYCB_latlng['Kings County']['longitude']"
   ]
  },
  {
   "cell_type": "code",
   "execution_count": 49,
   "metadata": {},
   "outputs": [],
   "source": [
    "# Create: Generate empty DataFrame to populate.\n",
    "dataframe = pd.DataFrame()"
   ]
  },
  {
   "cell_type": "code",
   "execution_count": 50,
   "metadata": {},
   "outputs": [
    {
     "name": "stdout",
     "output_type": "stream",
     "text": [
      "completed\n"
     ]
    }
   ],
   "source": [
    "# Data: Loop through a number of search queries. We call the Four Square API to search \n",
    "# and query specific keywords related to Argentinian restauraunts.\n",
    "# We will use this loop for each county to find data by specific keywords. \n",
    "# 'dataframe' is populated on every loop and will provide results of query per location requested.\n",
    "\n",
    "search_query = ['chimichurri', 'empanadas', 'Argentinian']\n",
    "i = 0\n",
    "while i < len(search_query):\n",
    "    element = search_query[i]\n",
    "    url = 'https://api.foursquare.com/v2/venues/search?client_id={}&client_secret={}&ll={},{}&v={}&query={}&radius={}&limit={}'.format(CLIENT_ID, CLIENT_SECRET, lat, lng, VERSION, element, radius, LIMIT)\n",
    "    results = requests.get(url).json()\n",
    "    \n",
    "    result = {}                                #list that will store the results of all Json \n",
    "    result = results['response']['venues']     # filter specific location in results.json   \n",
    " \n",
    "    dataframe = dataframe.append(result, ignore_index=True) # add filtered JSON data to empty dataframe.\n",
    "\n",
    "    i += 1    # add 1 to i and restart loop\n",
    "       \n",
    "    if i == len(search_query):    # verify is i equals length of 'search_query'. If true, break loop.\n",
    "        break\n",
    "\n",
    "print('completed')"
   ]
  },
  {
   "cell_type": "code",
   "execution_count": 51,
   "metadata": {},
   "outputs": [],
   "source": [
    "# Clean: data is arranged to provide name, categorie titles, latitude and longitude.\n",
    "# 'dataframe' is filtered with def to extract information from values.\n",
    "\n",
    "filtered_columns = ['name', 'categories', 'location'] + [col for col in dataframe.columns if col.startswith('.location')] + ['id']\n",
    "dataframe_filtered = dataframe.loc[:, filtered_columns]\n",
    "# function that extracts the category of the venue\n",
    "def get_category_type(row):\n",
    "    try:\n",
    "        categories_list = row['categories']      \n",
    "    except:\n",
    "        categories_list = row['venue.categories']        \n",
    "    if len(categories_list) == 0:\n",
    "        return None\n",
    "    else:\n",
    "        return categories_list[0]['name']\n",
    "    \n",
    "def get_lat_type(row):\n",
    "    try:\n",
    "        lat_list = row['location']      \n",
    "    except:\n",
    "        lat_list = row['venue.location']        \n",
    "    if len(lat_list) == 0:\n",
    "        return None\n",
    "    else:\n",
    "        return lat_list['lat']\n",
    "    \n",
    "def get_lng_type(row):\n",
    "    try:\n",
    "        lng_list = row['location']      \n",
    "    except:\n",
    "        lng_list = row['venue.location']        \n",
    "    if len(lng_list) == 0:\n",
    "        return None\n",
    "    else:\n",
    "        return lng_list['lng']\n",
    "        \n",
    "def get_city(row):\n",
    "    try:\n",
    "        city_list = row['location']      \n",
    "    except:\n",
    "        city_list = row['venue.location']        \n",
    "    if len(city_list) == 0:\n",
    "        return None\n",
    "    else:\n",
    "        return city_list['city']"
   ]
  },
  {
   "cell_type": "code",
   "execution_count": 52,
   "metadata": {
    "scrolled": false
   },
   "outputs": [],
   "source": [
    "# filter the category for each row\n",
    "\n",
    "dataframe_filtered['name'] = dataframe_filtered['name'].str.replace(r'\\.', '').str.replace(r'\\$', '').str.replace(r'\\'', '').str.replace(r'\\&', 'and').str.replace(r'\\?', '')\n",
    "dataframe_filtered['name'] = dataframe_filtered['name'].str.replace(r'\\$', '')\n",
    "dataframe_filtered['name'] = dataframe_filtered['name'].str.replace(r'\\'', '')\n",
    "\n",
    "\n",
    "dataframe_filtered['name'].str.replace('.', '').astype(object)\n",
    "dataframe_filtered['categories'] = dataframe_filtered.apply(get_category_type, axis=1)\n",
    "dataframe_filtered['Latitude'] = dataframe_filtered.apply(get_lat_type, axis=1)\n",
    "dataframe_filtered['Longitude'] = dataframe_filtered.apply(get_lng_type, axis=1)\n",
    "dataframe_filtered['City'] = dataframe_filtered.apply(get_city, axis=1)\n",
    "# Remove unwanted cities found within radius\n",
    "indexNames = dataframe_filtered[ dataframe_filtered['City'] != 'Brooklyn' ].index\n",
    "# Delete these row indexes from dataFrame\n",
    "dataframe_filtered.drop(indexNames , inplace=True)\n",
    "dataframe_filtered = dataframe_filtered[['name', 'categories', 'location', 'Latitude', 'Longitude', 'City', 'id']]"
   ]
  },
  {
   "cell_type": "markdown",
   "metadata": {},
   "source": [
    "#### 4b. Visualize Argentinian restaurant in Kings County."
   ]
  },
  {
   "cell_type": "code",
   "execution_count": 55,
   "metadata": {},
   "outputs": [
    {
     "data": {
      "text/html": [
       "<div>\n",
       "<style scoped>\n",
       "    .dataframe tbody tr th:only-of-type {\n",
       "        vertical-align: middle;\n",
       "    }\n",
       "\n",
       "    .dataframe tbody tr th {\n",
       "        vertical-align: top;\n",
       "    }\n",
       "\n",
       "    .dataframe thead th {\n",
       "        text-align: right;\n",
       "    }\n",
       "</style>\n",
       "<table border=\"1\" class=\"dataframe\">\n",
       "  <thead>\n",
       "    <tr style=\"text-align: right;\">\n",
       "      <th></th>\n",
       "      <th>name</th>\n",
       "      <th>categories</th>\n",
       "      <th>location</th>\n",
       "      <th>Latitude</th>\n",
       "      <th>Longitude</th>\n",
       "      <th>City</th>\n",
       "      <th>id</th>\n",
       "    </tr>\n",
       "  </thead>\n",
       "  <tbody>\n",
       "    <tr>\n",
       "      <th>0</th>\n",
       "      <td>Chimichurri Truck</td>\n",
       "      <td>Food Truck</td>\n",
       "      <td>{'address': '4th Ave &amp; 36th Street', 'lat': 40...</td>\n",
       "      <td>40.674334</td>\n",
       "      <td>-73.987591</td>\n",
       "      <td>Brooklyn</td>\n",
       "      <td>4aebcd53f964a520d2c421e3</td>\n",
       "    </tr>\n",
       "    <tr>\n",
       "      <th>1</th>\n",
       "      <td>Nuchas Artisan Empanadas</td>\n",
       "      <td>Food Stand</td>\n",
       "      <td>{'address': '625 Atlantic Ave', 'crossStreet':...</td>\n",
       "      <td>40.683530</td>\n",
       "      <td>-73.975568</td>\n",
       "      <td>Brooklyn</td>\n",
       "      <td>5700348b498edac2f133c6ff</td>\n",
       "    </tr>\n",
       "    <tr>\n",
       "      <th>2</th>\n",
       "      <td>Cesars Empanadas</td>\n",
       "      <td>Food Truck</td>\n",
       "      <td>{'address': 'Hanson Pl.', 'crossStreet': 'Ashl...</td>\n",
       "      <td>40.685412</td>\n",
       "      <td>-73.978311</td>\n",
       "      <td>Brooklyn</td>\n",
       "      <td>4dd4606fd4c0e6b33e3b6a01</td>\n",
       "    </tr>\n",
       "    <tr>\n",
       "      <th>3</th>\n",
       "      <td>Empanadas Doña Raquel</td>\n",
       "      <td>Food Truck</td>\n",
       "      <td>{'lat': 40.68744850573533, 'lng': -73.94397565...</td>\n",
       "      <td>40.687449</td>\n",
       "      <td>-73.943976</td>\n",
       "      <td>Brooklyn</td>\n",
       "      <td>520d035e498eb1eec9d6f81d</td>\n",
       "    </tr>\n",
       "    <tr>\n",
       "      <th>4</th>\n",
       "      <td>El Coquí Empanadas</td>\n",
       "      <td>Empanada Restaurant</td>\n",
       "      <td>{'address': '488A 7th Ave', 'crossStreet': 'Wi...</td>\n",
       "      <td>40.661922</td>\n",
       "      <td>-73.985775</td>\n",
       "      <td>Brooklyn</td>\n",
       "      <td>532f5fd9498e9223660cefd1</td>\n",
       "    </tr>\n",
       "    <tr>\n",
       "      <th>5</th>\n",
       "      <td>El Palacio De Las Empanadas Ecuatorianas</td>\n",
       "      <td>Food Truck</td>\n",
       "      <td>{'lat': 40.70037662259608, 'lng': -73.93581276...</td>\n",
       "      <td>40.700377</td>\n",
       "      <td>-73.935813</td>\n",
       "      <td>Ridgewood</td>\n",
       "      <td>4f84b292e4b0d71c51e3e64e</td>\n",
       "    </tr>\n",
       "    <tr>\n",
       "      <th>6</th>\n",
       "      <td>Nuchas Artisan Empanadas</td>\n",
       "      <td>Empanada Restaurant</td>\n",
       "      <td>{'lat': 40.69243190830672, 'lng': -73.98980634...</td>\n",
       "      <td>40.692432</td>\n",
       "      <td>-73.989806</td>\n",
       "      <td>New York</td>\n",
       "      <td>5ac3741323a2e62b779b71ec</td>\n",
       "    </tr>\n",
       "    <tr>\n",
       "      <th>7</th>\n",
       "      <td>Preparado Empanada Stand</td>\n",
       "      <td>Mexican Restaurant</td>\n",
       "      <td>{'address': '5th Ave', 'crossStreet': '44th st...</td>\n",
       "      <td>40.648443</td>\n",
       "      <td>-74.006653</td>\n",
       "      <td>Brooklyn</td>\n",
       "      <td>4e909d050aafb4070c04bd0a</td>\n",
       "    </tr>\n",
       "  </tbody>\n",
       "</table>\n",
       "</div>"
      ],
      "text/plain": [
       "                                       name           categories  \\\n",
       "0                         Chimichurri Truck           Food Truck   \n",
       "1                  Nuchas Artisan Empanadas           Food Stand   \n",
       "2                          Cesars Empanadas           Food Truck   \n",
       "3                     Empanadas Doña Raquel           Food Truck   \n",
       "4                        El Coquí Empanadas  Empanada Restaurant   \n",
       "5  El Palacio De Las Empanadas Ecuatorianas           Food Truck   \n",
       "6                  Nuchas Artisan Empanadas  Empanada Restaurant   \n",
       "7                  Preparado Empanada Stand   Mexican Restaurant   \n",
       "\n",
       "                                            location   Latitude  Longitude  \\\n",
       "0  {'address': '4th Ave & 36th Street', 'lat': 40...  40.674334 -73.987591   \n",
       "1  {'address': '625 Atlantic Ave', 'crossStreet':...  40.683530 -73.975568   \n",
       "2  {'address': 'Hanson Pl.', 'crossStreet': 'Ashl...  40.685412 -73.978311   \n",
       "3  {'lat': 40.68744850573533, 'lng': -73.94397565...  40.687449 -73.943976   \n",
       "4  {'address': '488A 7th Ave', 'crossStreet': 'Wi...  40.661922 -73.985775   \n",
       "5  {'lat': 40.70037662259608, 'lng': -73.93581276...  40.700377 -73.935813   \n",
       "6  {'lat': 40.69243190830672, 'lng': -73.98980634...  40.692432 -73.989806   \n",
       "7  {'address': '5th Ave', 'crossStreet': '44th st...  40.648443 -74.006653   \n",
       "\n",
       "        City                        id  \n",
       "0   Brooklyn  4aebcd53f964a520d2c421e3  \n",
       "1   Brooklyn  5700348b498edac2f133c6ff  \n",
       "2   Brooklyn  4dd4606fd4c0e6b33e3b6a01  \n",
       "3   Brooklyn  520d035e498eb1eec9d6f81d  \n",
       "4   Brooklyn  532f5fd9498e9223660cefd1  \n",
       "5  Ridgewood  4f84b292e4b0d71c51e3e64e  \n",
       "6   New York  5ac3741323a2e62b779b71ec  \n",
       "7   Brooklyn  4e909d050aafb4070c04bd0a  "
      ]
     },
     "execution_count": 55,
     "metadata": {},
     "output_type": "execute_result"
    }
   ],
   "source": [
    "dataframe_filtered"
   ]
  },
  {
   "cell_type": "code",
   "execution_count": 54,
   "metadata": {
    "scrolled": false
   },
   "outputs": [
    {
     "data": {
      "text/html": [
       "<div style=\"width:100%;\"><div style=\"position:relative;width:100%;height:0;padding-bottom:60%;\"><iframe src=\"data:text/html;charset=utf-8;base64,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\" style=\"position:absolute;width:100%;height:100%;left:0;top:0;border:none !important;\" allowfullscreen webkitallowfullscreen mozallowfullscreen></iframe></div></div>"
      ],
      "text/plain": [
       "<folium.folium.Map at 0x2548c2a2760>"
      ]
     },
     "execution_count": 54,
     "metadata": {},
     "output_type": "execute_result"
    }
   ],
   "source": [
    "venues_map = folium.Map(location=[float(kings_lat), float(kings_lng)], zoom_start=12) # generate map centred around the Conrad Hotel\n",
    "\n",
    "# add a red circle marker to represent the Bronx County\n",
    "folium.features.CircleMarker(\n",
    "    [float(kings_lat), float(kings_lng)],\n",
    "    radius=10,\n",
    "    color='red',\n",
    "    popup='Kings County',\n",
    "    fill = True,\n",
    "    fill_color = 'red',\n",
    "    fill_opacity = 0.6\n",
    ").add_to(venues_map)\n",
    "\n",
    "# add the Italian restaurants as blue circle markers\n",
    "for lat, lng, label in zip(dataframe_filtered.Latitude, dataframe_filtered.Longitude, dataframe_filtered.name):\n",
    "    folium.features.CircleMarker(\n",
    "        [lat, lng],\n",
    "        radius=5,\n",
    "        color='blue',\n",
    "        popup=label,\n",
    "        fill = True,\n",
    "        fill_color='blue',\n",
    "        fill_opacity=0.6\n",
    "    ).add_to(venues_map)\n",
    "\n",
    "# display map\n",
    "venues_map"
   ]
  },
  {
   "cell_type": "code",
   "execution_count": null,
   "metadata": {},
   "outputs": [],
   "source": []
  },
  {
   "cell_type": "code",
   "execution_count": null,
   "metadata": {},
   "outputs": [],
   "source": []
  },
  {
   "cell_type": "markdown",
   "metadata": {},
   "source": [
    "#### 4c. New York County - Restaurant"
   ]
  },
  {
   "cell_type": "code",
   "execution_count": 66,
   "metadata": {},
   "outputs": [],
   "source": [
    "########################################\n",
    "### Retreive Four Square Information ###\n",
    "########################################\n",
    "\n",
    "#Kings County Results for 'Argentinean' locations\n",
    "#radius = \n",
    "# Kings lat/lng\n",
    "nyCounty_lat = float(df_NYCB_latlng['New York County'].latitude)\n",
    "nyCounty_lng = float(df_NYCB_latlng['New York County'].longitude)\n",
    "lat = nyCounty_lat = df_NYCB_latlng['New York County']['latitude']\n",
    "lng = nyCounty_lng = df_NYCB_latlng['New York County']['longitude']"
   ]
  },
  {
   "cell_type": "code",
   "execution_count": 67,
   "metadata": {},
   "outputs": [],
   "source": [
    "# Create: Generate empty DataFrame to populate.\n",
    "dataframe = pd.DataFrame()"
   ]
  },
  {
   "cell_type": "code",
   "execution_count": 68,
   "metadata": {},
   "outputs": [
    {
     "name": "stdout",
     "output_type": "stream",
     "text": [
      "completed\n"
     ]
    }
   ],
   "source": [
    "# Data: Loop through a number of search queries. We call the Four Square API to search \n",
    "# and query specific keywords related to Argentinian restauraunts.\n",
    "# We will use this loop for each county to find data by specific keywords. \n",
    "# 'dataframe' is populated on every loop and will provide results of query per location requested.\n",
    "\n",
    "search_query = ['chimichurri', 'empanadas', 'Argentinian']\n",
    "i = 0\n",
    "while i < len(search_query):\n",
    "    element = search_query[i]\n",
    "    url = 'https://api.foursquare.com/v2/venues/search?client_id={}&client_secret={}&ll={},{}&v={}&query={}&radius={}&limit={}'.format(CLIENT_ID, CLIENT_SECRET, lat, lng, VERSION, element, radius, LIMIT)\n",
    "    results = requests.get(url).json()\n",
    "    \n",
    "    result = {}                                #list that will store the results of all Json \n",
    "    result = results['response']['venues']     # filter specific location in results.json   \n",
    " \n",
    "    dataframe = dataframe.append(result, ignore_index=True) # add filtered JSON data to empty dataframe.\n",
    "\n",
    "    i += 1    # add 1 to i and restart loop\n",
    "       \n",
    "    if i == len(search_query):    # verify is i equals length of 'search_query'. If true, break loop.\n",
    "        break\n",
    "\n",
    "print('completed')"
   ]
  },
  {
   "cell_type": "code",
   "execution_count": 69,
   "metadata": {},
   "outputs": [],
   "source": [
    "# Clean: data is arranged to provide name, categorie titles, latitude and longitude.\n",
    "# 'dataframe' is filtered with def to extract information from values.\n",
    "\n",
    "filtered_columns = ['name', 'categories', 'location'] + [col for col in dataframe.columns if col.startswith('.location')] + ['id']\n",
    "dataframe_filtered = dataframe.loc[:, filtered_columns]\n",
    "# function that extracts the category of the venue\n",
    "def get_category_type(row):\n",
    "    try:\n",
    "        categories_list = row['categories']      \n",
    "    except:\n",
    "        categories_list = row['venue.categories']        \n",
    "    if len(categories_list) == 0:\n",
    "        return None\n",
    "    else:\n",
    "        return categories_list[0]['name']\n",
    "    \n",
    "def get_lat_type(row):\n",
    "    try:\n",
    "        lat_list = row['location']      \n",
    "    except:\n",
    "        lat_list = row['venue.location']        \n",
    "    if len(lat_list) == 0:\n",
    "        return None\n",
    "    else:\n",
    "        return lat_list['lat']\n",
    "    \n",
    "def get_lng_type(row):\n",
    "    try:\n",
    "        lng_list = row['location']      \n",
    "    except:\n",
    "        lng_list = row['venue.location']        \n",
    "    if len(lng_list) == 0:\n",
    "        return None\n",
    "    else:\n",
    "        return lng_list['lng']\n",
    "        \n",
    "def get_city(row):\n",
    "    try:\n",
    "        city_list = row['location']      \n",
    "    except:\n",
    "        city_list = row['venue.location']        \n",
    "    if len(city_list) == 0:\n",
    "        return None\n",
    "    else:\n",
    "        return city_list['city']"
   ]
  },
  {
   "cell_type": "code",
   "execution_count": 70,
   "metadata": {
    "scrolled": false
   },
   "outputs": [],
   "source": [
    "# filter the category for each row\n",
    "\n",
    "dataframe_filtered['name'] = dataframe_filtered['name'].str.replace(r'\\.', '').str.replace(r'\\$', '').str.replace(r'\\'', '').str.replace(r'\\&', 'and').str.replace(r'\\?', '')\n",
    "dataframe_filtered['name'] = dataframe_filtered['name'].str.replace(r'\\$', '')\n",
    "dataframe_filtered['name'] = dataframe_filtered['name'].str.replace(r'\\'', '')\n",
    "\n",
    "\n",
    "dataframe_filtered['name'].str.replace('.', '').astype(object)\n",
    "dataframe_filtered['categories'] = dataframe_filtered.apply(get_category_type, axis=1)\n",
    "dataframe_filtered['Latitude'] = dataframe_filtered.apply(get_lat_type, axis=1)\n",
    "dataframe_filtered['Longitude'] = dataframe_filtered.apply(get_lng_type, axis=1)\n",
    "dataframe_filtered['City'] = dataframe_filtered.apply(get_city, axis=1)\n",
    "# Remove unwanted cities found within radius\n",
    "indexNames = dataframe_filtered[ dataframe_filtered['City'] != 'New York' ].index\n",
    "# Delete these row indexes from dataFrame\n",
    "dataframe_filtered.drop(indexNames , inplace=True)\n",
    "dataframe_filtered = dataframe_filtered[['name', 'categories', 'location', 'Latitude', 'Longitude', 'City', 'id']]"
   ]
  },
  {
   "cell_type": "markdown",
   "metadata": {},
   "source": [
    "#### 4c. Visualize Argentinian restaurant in Kings County."
   ]
  },
  {
   "cell_type": "code",
   "execution_count": 71,
   "metadata": {},
   "outputs": [
    {
     "data": {
      "text/html": [
       "<div>\n",
       "<style scoped>\n",
       "    .dataframe tbody tr th:only-of-type {\n",
       "        vertical-align: middle;\n",
       "    }\n",
       "\n",
       "    .dataframe tbody tr th {\n",
       "        vertical-align: top;\n",
       "    }\n",
       "\n",
       "    .dataframe thead th {\n",
       "        text-align: right;\n",
       "    }\n",
       "</style>\n",
       "<table border=\"1\" class=\"dataframe\">\n",
       "  <thead>\n",
       "    <tr style=\"text-align: right;\">\n",
       "      <th></th>\n",
       "      <th>name</th>\n",
       "      <th>categories</th>\n",
       "      <th>location</th>\n",
       "      <th>Latitude</th>\n",
       "      <th>Longitude</th>\n",
       "      <th>City</th>\n",
       "      <th>id</th>\n",
       "    </tr>\n",
       "  </thead>\n",
       "  <tbody>\n",
       "    <tr>\n",
       "      <th>0</th>\n",
       "      <td>Chimichurri Grill</td>\n",
       "      <td>Steakhouse</td>\n",
       "      <td>{'address': '133 E 61st St', 'lat': 40.763693,...</td>\n",
       "      <td>40.763693</td>\n",
       "      <td>-73.967563</td>\n",
       "      <td>New York</td>\n",
       "      <td>580d064b38fab1dc50148e0b</td>\n",
       "    </tr>\n",
       "    <tr>\n",
       "      <th>1</th>\n",
       "      <td>Chimichurri Grill</td>\n",
       "      <td>Steakhouse</td>\n",
       "      <td>{'address': '609 9th Ave', 'crossStreet': '43r...</td>\n",
       "      <td>40.759229</td>\n",
       "      <td>-73.992032</td>\n",
       "      <td>New York</td>\n",
       "      <td>3fd66200f964a5208aea1ee3</td>\n",
       "    </tr>\n",
       "    <tr>\n",
       "      <th>4</th>\n",
       "      <td>La China Chimichurri</td>\n",
       "      <td>None</td>\n",
       "      <td>{'address': '179th st', 'crossStreet': 'Amster...</td>\n",
       "      <td>40.844542</td>\n",
       "      <td>-73.933465</td>\n",
       "      <td>New York</td>\n",
       "      <td>4baf08b8f964a520fee73be3</td>\n",
       "    </tr>\n",
       "    <tr>\n",
       "      <th>5</th>\n",
       "      <td>El Primo Chimichurri</td>\n",
       "      <td>Food Truck</td>\n",
       "      <td>{'address': '172nd and Amsterdam Ave', 'lat': ...</td>\n",
       "      <td>40.842469</td>\n",
       "      <td>-73.935434</td>\n",
       "      <td>New York</td>\n",
       "      <td>4d85a4de7e8ef04d229e25be</td>\n",
       "    </tr>\n",
       "    <tr>\n",
       "      <th>7</th>\n",
       "      <td>Empanadas Monumentales</td>\n",
       "      <td>Empanada Restaurant</td>\n",
       "      <td>{'address': '3477 Broadway', 'crossStreet': '1...</td>\n",
       "      <td>40.824432</td>\n",
       "      <td>-73.952049</td>\n",
       "      <td>New York</td>\n",
       "      <td>55255b53498ebeabaf259e34</td>\n",
       "    </tr>\n",
       "    <tr>\n",
       "      <th>8</th>\n",
       "      <td>Empanadas Monumental</td>\n",
       "      <td>Empanada Restaurant</td>\n",
       "      <td>{'address': '4093 Broadway', 'crossStreet': 'b...</td>\n",
       "      <td>40.844489</td>\n",
       "      <td>-73.938881</td>\n",
       "      <td>New York</td>\n",
       "      <td>4cbb75fabac93704fd46f27c</td>\n",
       "    </tr>\n",
       "    <tr>\n",
       "      <th>9</th>\n",
       "      <td>Empanadas and More</td>\n",
       "      <td>Empanada Restaurant</td>\n",
       "      <td>{'address': '954 3rd Ave', 'lat': 40.760472, '...</td>\n",
       "      <td>40.760472</td>\n",
       "      <td>-73.967494</td>\n",
       "      <td>New York</td>\n",
       "      <td>5df90ee98ed5990008033c09</td>\n",
       "    </tr>\n",
       "    <tr>\n",
       "      <th>10</th>\n",
       "      <td>Empanadas</td>\n",
       "      <td>None</td>\n",
       "      <td>{'lat': 40.754547, 'lng': -73.986351, 'labeled...</td>\n",
       "      <td>40.754547</td>\n",
       "      <td>-73.986351</td>\n",
       "      <td>New York</td>\n",
       "      <td>517ec4b6498ee0b8db6a4698</td>\n",
       "    </tr>\n",
       "    <tr>\n",
       "      <th>12</th>\n",
       "      <td>Empanadas Monumental</td>\n",
       "      <td>Spanish Restaurant</td>\n",
       "      <td>{'address': '1344 Amsterdam Ave', 'lat': 40.81...</td>\n",
       "      <td>40.813807</td>\n",
       "      <td>-73.956254</td>\n",
       "      <td>New York</td>\n",
       "      <td>57fe5dc0498e9d3a7dfeefc6</td>\n",
       "    </tr>\n",
       "    <tr>\n",
       "      <th>13</th>\n",
       "      <td>Empanada Mama</td>\n",
       "      <td>Empanada Restaurant</td>\n",
       "      <td>{'address': '765 9th Ave', 'crossStreet': 'btw...</td>\n",
       "      <td>40.764310</td>\n",
       "      <td>-73.988390</td>\n",
       "      <td>New York</td>\n",
       "      <td>4a453e4cf964a520f1a71fe3</td>\n",
       "    </tr>\n",
       "    <tr>\n",
       "      <th>14</th>\n",
       "      <td>Nuchas Artisan Empanadas</td>\n",
       "      <td>Empanada Restaurant</td>\n",
       "      <td>{'crossStreet': '50th Street And Broadway', 'l...</td>\n",
       "      <td>40.774745</td>\n",
       "      <td>-73.982202</td>\n",
       "      <td>New York</td>\n",
       "      <td>53a870ce498e75b01ba67026</td>\n",
       "    </tr>\n",
       "    <tr>\n",
       "      <th>15</th>\n",
       "      <td>Empanadas Monumental</td>\n",
       "      <td>Empanada Restaurant</td>\n",
       "      <td>{'address': '3772 Broadway', 'lat': 40.8338385...</td>\n",
       "      <td>40.833839</td>\n",
       "      <td>-73.945049</td>\n",
       "      <td>New York</td>\n",
       "      <td>4e4ed1e2c65bb313ba7d4cd7</td>\n",
       "    </tr>\n",
       "    <tr>\n",
       "      <th>16</th>\n",
       "      <td>Bocatas and Empanadas</td>\n",
       "      <td>Spanish Restaurant</td>\n",
       "      <td>{'address': '10 Hudson Yards', 'lat': 40.75253...</td>\n",
       "      <td>40.752532</td>\n",
       "      <td>-74.002094</td>\n",
       "      <td>New York</td>\n",
       "      <td>5ca129efaa6c95002c517428</td>\n",
       "    </tr>\n",
       "    <tr>\n",
       "      <th>17</th>\n",
       "      <td>Nuchas Artisan Empanadas</td>\n",
       "      <td>Empanada Restaurant</td>\n",
       "      <td>{'address': 'Broadway', 'crossStreet': 'at W 4...</td>\n",
       "      <td>40.758960</td>\n",
       "      <td>-73.985109</td>\n",
       "      <td>New York</td>\n",
       "      <td>536cb668498eeb6a42a175f6</td>\n",
       "    </tr>\n",
       "    <tr>\n",
       "      <th>18</th>\n",
       "      <td>Nuchas Artisan Empanadas</td>\n",
       "      <td>Empanada Restaurant</td>\n",
       "      <td>{'lat': 40.756824, 'lng': -74.00262, 'labeledL...</td>\n",
       "      <td>40.756824</td>\n",
       "      <td>-74.002620</td>\n",
       "      <td>New York</td>\n",
       "      <td>5d967887e158890008b4eb47</td>\n",
       "    </tr>\n",
       "    <tr>\n",
       "      <th>19</th>\n",
       "      <td>Nuchas Artisan Empanadas</td>\n",
       "      <td>Empanada Restaurant</td>\n",
       "      <td>{'address': 'Greeley Square Park', 'crossStree...</td>\n",
       "      <td>40.748466</td>\n",
       "      <td>-73.988340</td>\n",
       "      <td>New York</td>\n",
       "      <td>5298db6311d2047be66f295e</td>\n",
       "    </tr>\n",
       "    <tr>\n",
       "      <th>20</th>\n",
       "      <td>Mo’s Empanadas</td>\n",
       "      <td>Empanada Restaurant</td>\n",
       "      <td>{'lat': 40.773912, 'lng': -73.930741, 'labeled...</td>\n",
       "      <td>40.773912</td>\n",
       "      <td>-73.930741</td>\n",
       "      <td>New York</td>\n",
       "      <td>5d9ff0476e8ebe0007f5ae1a</td>\n",
       "    </tr>\n",
       "    <tr>\n",
       "      <th>22</th>\n",
       "      <td>Chavas Empanadas</td>\n",
       "      <td>Street Food Gathering</td>\n",
       "      <td>{'address': 'Midtown Munchies', 'crossStreet':...</td>\n",
       "      <td>40.757504</td>\n",
       "      <td>-73.971180</td>\n",
       "      <td>New York</td>\n",
       "      <td>5b6dcb17250cab002c114d69</td>\n",
       "    </tr>\n",
       "    <tr>\n",
       "      <th>24</th>\n",
       "      <td>Empanadas Doradas</td>\n",
       "      <td>Food Truck</td>\n",
       "      <td>{'lat': 40.73021746590086, 'lng': -73.99607339...</td>\n",
       "      <td>40.730217</td>\n",
       "      <td>-73.996073</td>\n",
       "      <td>New York</td>\n",
       "      <td>579f8f2f498ee7863da3f7f1</td>\n",
       "    </tr>\n",
       "    <tr>\n",
       "      <th>25</th>\n",
       "      <td>Empanadas Monumentales</td>\n",
       "      <td>Empanada Restaurant</td>\n",
       "      <td>{'address': '4093 Broadway', 'crossStreet': 'a...</td>\n",
       "      <td>40.844619</td>\n",
       "      <td>-73.939281</td>\n",
       "      <td>New York</td>\n",
       "      <td>51db6131498ebf56fcfbd0e7</td>\n",
       "    </tr>\n",
       "    <tr>\n",
       "      <th>26</th>\n",
       "      <td>Empanadas Monumental</td>\n",
       "      <td>Empanada Restaurant</td>\n",
       "      <td>{'address': '4093 Broadway', 'lat': 40.8445378...</td>\n",
       "      <td>40.844538</td>\n",
       "      <td>-73.939149</td>\n",
       "      <td>New York</td>\n",
       "      <td>5423aaeb498e3f417c828c54</td>\n",
       "    </tr>\n",
       "    <tr>\n",
       "      <th>27</th>\n",
       "      <td>Empanadas Doradas</td>\n",
       "      <td>Food Truck</td>\n",
       "      <td>{'lat': 40.71981780623074, 'lng': -73.99302609...</td>\n",
       "      <td>40.719818</td>\n",
       "      <td>-73.993026</td>\n",
       "      <td>New York</td>\n",
       "      <td>579f87f2498e0c796a0d406e</td>\n",
       "    </tr>\n",
       "    <tr>\n",
       "      <th>29</th>\n",
       "      <td>Empanada Sonata Food Truck</td>\n",
       "      <td>Food Truck</td>\n",
       "      <td>{'lat': 40.78057379732348, 'lng': -73.97735266...</td>\n",
       "      <td>40.780574</td>\n",
       "      <td>-73.977353</td>\n",
       "      <td>New York</td>\n",
       "      <td>579a31e0498e207fb17b7a76</td>\n",
       "    </tr>\n",
       "    <tr>\n",
       "      <th>30</th>\n",
       "      <td>KC Gourmet Empanadas</td>\n",
       "      <td>Empanada Restaurant</td>\n",
       "      <td>{'address': '38 Avenue B', 'crossStreet': 'E 3...</td>\n",
       "      <td>40.722843</td>\n",
       "      <td>-73.982924</td>\n",
       "      <td>New York</td>\n",
       "      <td>5c6d8dbc83e380002c8a7fd6</td>\n",
       "    </tr>\n",
       "    <tr>\n",
       "      <th>31</th>\n",
       "      <td>Exotic Empanadas</td>\n",
       "      <td>Empanada Restaurant</td>\n",
       "      <td>{'lat': 40.745291, 'lng': -73.975625, 'labeled...</td>\n",
       "      <td>40.745291</td>\n",
       "      <td>-73.975625</td>\n",
       "      <td>New York</td>\n",
       "      <td>5e41847adca0ae00080de456</td>\n",
       "    </tr>\n",
       "    <tr>\n",
       "      <th>32</th>\n",
       "      <td>Masa Empanadas</td>\n",
       "      <td>Empanada Restaurant</td>\n",
       "      <td>{'address': '804 Grand St', 'lat': 40.711667, ...</td>\n",
       "      <td>40.711667</td>\n",
       "      <td>-73.941166</td>\n",
       "      <td>New York</td>\n",
       "      <td>5dba01274fbf2b0008b7de66</td>\n",
       "    </tr>\n",
       "    <tr>\n",
       "      <th>33</th>\n",
       "      <td>Gauchas</td>\n",
       "      <td>Argentinian Restaurant</td>\n",
       "      <td>{'address': '1748 1st Ave', 'lat': 40.779796, ...</td>\n",
       "      <td>40.779796</td>\n",
       "      <td>-73.947246</td>\n",
       "      <td>New York</td>\n",
       "      <td>4e4c4c86bd413c4cc668537d</td>\n",
       "    </tr>\n",
       "    <tr>\n",
       "      <th>34</th>\n",
       "      <td>Taylors Colombian Empanadas</td>\n",
       "      <td>Latin American Restaurant</td>\n",
       "      <td>{'address': '348 W 34th St', 'crossStreet': '3...</td>\n",
       "      <td>40.752798</td>\n",
       "      <td>-73.995727</td>\n",
       "      <td>New York</td>\n",
       "      <td>519cde9f011c0057c61a8e29</td>\n",
       "    </tr>\n",
       "    <tr>\n",
       "      <th>35</th>\n",
       "      <td>Rosa’s Empanadas</td>\n",
       "      <td>Food Truck</td>\n",
       "      <td>{'lat': 40.71447590830895, 'lng': -73.94427989...</td>\n",
       "      <td>40.714476</td>\n",
       "      <td>-73.944280</td>\n",
       "      <td>New York</td>\n",
       "      <td>5c6ac1e9237dee002c2b9bac</td>\n",
       "    </tr>\n",
       "    <tr>\n",
       "      <th>36</th>\n",
       "      <td>Ninas Argentinian Pizzeria</td>\n",
       "      <td>Pizza Place</td>\n",
       "      <td>{'address': '1750 2nd Ave', 'crossStreet': '91...</td>\n",
       "      <td>40.781250</td>\n",
       "      <td>-73.949386</td>\n",
       "      <td>New York</td>\n",
       "      <td>4bca4b5bfb84c9b6c8eb1c3e</td>\n",
       "    </tr>\n",
       "    <tr>\n",
       "      <th>37</th>\n",
       "      <td>Nina Argentinian Pizzeria</td>\n",
       "      <td>Breakfast Spot</td>\n",
       "      <td>{'address': '1750 2nd Ave', 'crossStreet': '91...</td>\n",
       "      <td>40.781119</td>\n",
       "      <td>-73.949043</td>\n",
       "      <td>New York</td>\n",
       "      <td>4b4f8162f964a5203a0927e3</td>\n",
       "    </tr>\n",
       "    <tr>\n",
       "      <th>41</th>\n",
       "      <td>Boleros Argentinian Restaurant</td>\n",
       "      <td>Food</td>\n",
       "      <td>{'address': '3920 Broadway', 'lat': 40.83862, ...</td>\n",
       "      <td>40.838620</td>\n",
       "      <td>-73.941405</td>\n",
       "      <td>New York</td>\n",
       "      <td>4f32900019836c91c7e3f2d8</td>\n",
       "    </tr>\n",
       "    <tr>\n",
       "      <th>42</th>\n",
       "      <td>Consulate General Of Argentina</td>\n",
       "      <td>Embassy / Consulate</td>\n",
       "      <td>{'address': '12 W 56th St', 'crossStreet': '5t...</td>\n",
       "      <td>40.762792</td>\n",
       "      <td>-73.975682</td>\n",
       "      <td>New York</td>\n",
       "      <td>4c9760b7f244b1f732f23b1d</td>\n",
       "    </tr>\n",
       "  </tbody>\n",
       "</table>\n",
       "</div>"
      ],
      "text/plain": [
       "                              name                 categories  \\\n",
       "0                Chimichurri Grill                 Steakhouse   \n",
       "1                Chimichurri Grill                 Steakhouse   \n",
       "4             La China Chimichurri                       None   \n",
       "5             El Primo Chimichurri                 Food Truck   \n",
       "7           Empanadas Monumentales        Empanada Restaurant   \n",
       "8             Empanadas Monumental        Empanada Restaurant   \n",
       "9               Empanadas and More        Empanada Restaurant   \n",
       "10                       Empanadas                       None   \n",
       "12            Empanadas Monumental         Spanish Restaurant   \n",
       "13                   Empanada Mama        Empanada Restaurant   \n",
       "14        Nuchas Artisan Empanadas        Empanada Restaurant   \n",
       "15            Empanadas Monumental        Empanada Restaurant   \n",
       "16           Bocatas and Empanadas         Spanish Restaurant   \n",
       "17        Nuchas Artisan Empanadas        Empanada Restaurant   \n",
       "18        Nuchas Artisan Empanadas        Empanada Restaurant   \n",
       "19        Nuchas Artisan Empanadas        Empanada Restaurant   \n",
       "20                  Mo’s Empanadas        Empanada Restaurant   \n",
       "22                Chavas Empanadas      Street Food Gathering   \n",
       "24               Empanadas Doradas                 Food Truck   \n",
       "25          Empanadas Monumentales        Empanada Restaurant   \n",
       "26            Empanadas Monumental        Empanada Restaurant   \n",
       "27               Empanadas Doradas                 Food Truck   \n",
       "29      Empanada Sonata Food Truck                 Food Truck   \n",
       "30            KC Gourmet Empanadas        Empanada Restaurant   \n",
       "31                Exotic Empanadas        Empanada Restaurant   \n",
       "32                  Masa Empanadas        Empanada Restaurant   \n",
       "33                         Gauchas     Argentinian Restaurant   \n",
       "34     Taylors Colombian Empanadas  Latin American Restaurant   \n",
       "35                Rosa’s Empanadas                 Food Truck   \n",
       "36      Ninas Argentinian Pizzeria                Pizza Place   \n",
       "37       Nina Argentinian Pizzeria             Breakfast Spot   \n",
       "41  Boleros Argentinian Restaurant                       Food   \n",
       "42  Consulate General Of Argentina        Embassy / Consulate   \n",
       "\n",
       "                                             location   Latitude  Longitude  \\\n",
       "0   {'address': '133 E 61st St', 'lat': 40.763693,...  40.763693 -73.967563   \n",
       "1   {'address': '609 9th Ave', 'crossStreet': '43r...  40.759229 -73.992032   \n",
       "4   {'address': '179th st', 'crossStreet': 'Amster...  40.844542 -73.933465   \n",
       "5   {'address': '172nd and Amsterdam Ave', 'lat': ...  40.842469 -73.935434   \n",
       "7   {'address': '3477 Broadway', 'crossStreet': '1...  40.824432 -73.952049   \n",
       "8   {'address': '4093 Broadway', 'crossStreet': 'b...  40.844489 -73.938881   \n",
       "9   {'address': '954 3rd Ave', 'lat': 40.760472, '...  40.760472 -73.967494   \n",
       "10  {'lat': 40.754547, 'lng': -73.986351, 'labeled...  40.754547 -73.986351   \n",
       "12  {'address': '1344 Amsterdam Ave', 'lat': 40.81...  40.813807 -73.956254   \n",
       "13  {'address': '765 9th Ave', 'crossStreet': 'btw...  40.764310 -73.988390   \n",
       "14  {'crossStreet': '50th Street And Broadway', 'l...  40.774745 -73.982202   \n",
       "15  {'address': '3772 Broadway', 'lat': 40.8338385...  40.833839 -73.945049   \n",
       "16  {'address': '10 Hudson Yards', 'lat': 40.75253...  40.752532 -74.002094   \n",
       "17  {'address': 'Broadway', 'crossStreet': 'at W 4...  40.758960 -73.985109   \n",
       "18  {'lat': 40.756824, 'lng': -74.00262, 'labeledL...  40.756824 -74.002620   \n",
       "19  {'address': 'Greeley Square Park', 'crossStree...  40.748466 -73.988340   \n",
       "20  {'lat': 40.773912, 'lng': -73.930741, 'labeled...  40.773912 -73.930741   \n",
       "22  {'address': 'Midtown Munchies', 'crossStreet':...  40.757504 -73.971180   \n",
       "24  {'lat': 40.73021746590086, 'lng': -73.99607339...  40.730217 -73.996073   \n",
       "25  {'address': '4093 Broadway', 'crossStreet': 'a...  40.844619 -73.939281   \n",
       "26  {'address': '4093 Broadway', 'lat': 40.8445378...  40.844538 -73.939149   \n",
       "27  {'lat': 40.71981780623074, 'lng': -73.99302609...  40.719818 -73.993026   \n",
       "29  {'lat': 40.78057379732348, 'lng': -73.97735266...  40.780574 -73.977353   \n",
       "30  {'address': '38 Avenue B', 'crossStreet': 'E 3...  40.722843 -73.982924   \n",
       "31  {'lat': 40.745291, 'lng': -73.975625, 'labeled...  40.745291 -73.975625   \n",
       "32  {'address': '804 Grand St', 'lat': 40.711667, ...  40.711667 -73.941166   \n",
       "33  {'address': '1748 1st Ave', 'lat': 40.779796, ...  40.779796 -73.947246   \n",
       "34  {'address': '348 W 34th St', 'crossStreet': '3...  40.752798 -73.995727   \n",
       "35  {'lat': 40.71447590830895, 'lng': -73.94427989...  40.714476 -73.944280   \n",
       "36  {'address': '1750 2nd Ave', 'crossStreet': '91...  40.781250 -73.949386   \n",
       "37  {'address': '1750 2nd Ave', 'crossStreet': '91...  40.781119 -73.949043   \n",
       "41  {'address': '3920 Broadway', 'lat': 40.83862, ...  40.838620 -73.941405   \n",
       "42  {'address': '12 W 56th St', 'crossStreet': '5t...  40.762792 -73.975682   \n",
       "\n",
       "        City                        id  \n",
       "0   New York  580d064b38fab1dc50148e0b  \n",
       "1   New York  3fd66200f964a5208aea1ee3  \n",
       "4   New York  4baf08b8f964a520fee73be3  \n",
       "5   New York  4d85a4de7e8ef04d229e25be  \n",
       "7   New York  55255b53498ebeabaf259e34  \n",
       "8   New York  4cbb75fabac93704fd46f27c  \n",
       "9   New York  5df90ee98ed5990008033c09  \n",
       "10  New York  517ec4b6498ee0b8db6a4698  \n",
       "12  New York  57fe5dc0498e9d3a7dfeefc6  \n",
       "13  New York  4a453e4cf964a520f1a71fe3  \n",
       "14  New York  53a870ce498e75b01ba67026  \n",
       "15  New York  4e4ed1e2c65bb313ba7d4cd7  \n",
       "16  New York  5ca129efaa6c95002c517428  \n",
       "17  New York  536cb668498eeb6a42a175f6  \n",
       "18  New York  5d967887e158890008b4eb47  \n",
       "19  New York  5298db6311d2047be66f295e  \n",
       "20  New York  5d9ff0476e8ebe0007f5ae1a  \n",
       "22  New York  5b6dcb17250cab002c114d69  \n",
       "24  New York  579f8f2f498ee7863da3f7f1  \n",
       "25  New York  51db6131498ebf56fcfbd0e7  \n",
       "26  New York  5423aaeb498e3f417c828c54  \n",
       "27  New York  579f87f2498e0c796a0d406e  \n",
       "29  New York  579a31e0498e207fb17b7a76  \n",
       "30  New York  5c6d8dbc83e380002c8a7fd6  \n",
       "31  New York  5e41847adca0ae00080de456  \n",
       "32  New York  5dba01274fbf2b0008b7de66  \n",
       "33  New York  4e4c4c86bd413c4cc668537d  \n",
       "34  New York  519cde9f011c0057c61a8e29  \n",
       "35  New York  5c6ac1e9237dee002c2b9bac  \n",
       "36  New York  4bca4b5bfb84c9b6c8eb1c3e  \n",
       "37  New York  4b4f8162f964a5203a0927e3  \n",
       "41  New York  4f32900019836c91c7e3f2d8  \n",
       "42  New York  4c9760b7f244b1f732f23b1d  "
      ]
     },
     "execution_count": 71,
     "metadata": {},
     "output_type": "execute_result"
    }
   ],
   "source": [
    "dataframe_filtered"
   ]
  },
  {
   "cell_type": "code",
   "execution_count": 72,
   "metadata": {
    "scrolled": true
   },
   "outputs": [
    {
     "data": {
      "text/html": [
       "<div style=\"width:100%;\"><div style=\"position:relative;width:100%;height:0;padding-bottom:60%;\"><iframe src=\"data:text/html;charset=utf-8;base64,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\" style=\"position:absolute;width:100%;height:100%;left:0;top:0;border:none !important;\" allowfullscreen webkitallowfullscreen mozallowfullscreen></iframe></div></div>"
      ],
      "text/plain": [
       "<folium.folium.Map at 0x2548c42dcd0>"
      ]
     },
     "execution_count": 72,
     "metadata": {},
     "output_type": "execute_result"
    }
   ],
   "source": [
    "venues_map = folium.Map(location=[float(nyCounty_lat), float(nyCounty_lng)], zoom_start=12) # generate map centred around the Conrad Hotel\n",
    "\n",
    "# add a red circle marker to represent the Bronx County\n",
    "folium.features.CircleMarker(\n",
    "    [float(nyCounty_lat), float(nyCounty_lng)],\n",
    "    radius=10,\n",
    "    color='red',\n",
    "    popup='New York County',\n",
    "    fill = True,\n",
    "    fill_color = 'red',\n",
    "    fill_opacity = 0.6\n",
    ").add_to(venues_map)\n",
    "\n",
    "# add the Italian restaurants as blue circle markers\n",
    "for lat, lng, label in zip(dataframe_filtered.Latitude, dataframe_filtered.Longitude, dataframe_filtered.name):\n",
    "    folium.features.CircleMarker(\n",
    "        [lat, lng],\n",
    "        radius=5,\n",
    "        color='blue',\n",
    "        popup=label,\n",
    "        fill = True,\n",
    "        fill_color='blue',\n",
    "        fill_opacity=0.6\n",
    "    ).add_to(venues_map)\n",
    "\n",
    "# display map\n",
    "venues_map"
   ]
  },
  {
   "cell_type": "code",
   "execution_count": null,
   "metadata": {},
   "outputs": [],
   "source": []
  },
  {
   "cell_type": "markdown",
   "metadata": {},
   "source": [
    "#### 4d. Queens County - Restaurant"
   ]
  },
  {
   "cell_type": "code",
   "execution_count": 79,
   "metadata": {},
   "outputs": [],
   "source": [
    "########################################\n",
    "### Retreive Four Square Information ###\n",
    "########################################\n",
    "\n",
    "#Kings County Results for 'Argentinean' locations\n",
    "#radius = \n",
    "# Kings lat/lng\n",
    "queens_lat = float(df_NYCB_latlng['Queens County'].latitude)\n",
    "queens_lng = float(df_NYCB_latlng['Queens County'].longitude)\n",
    "lat = queens_lat = df_NYCB_latlng['Queens County']['latitude']\n",
    "lng = queens_lng = df_NYCB_latlng['Queens County']['longitude']"
   ]
  },
  {
   "cell_type": "code",
   "execution_count": 80,
   "metadata": {},
   "outputs": [],
   "source": [
    "# Create: Generate empty DataFrame to populate.\n",
    "dataframe = pd.DataFrame()"
   ]
  },
  {
   "cell_type": "code",
   "execution_count": 81,
   "metadata": {},
   "outputs": [
    {
     "name": "stdout",
     "output_type": "stream",
     "text": [
      "completed\n"
     ]
    }
   ],
   "source": [
    "# Data: Loop through a number of search queries. We call the Four Square API to search \n",
    "# and query specific keywords related to Argentinian restauraunts.\n",
    "# We will use this loop for each county to find data by specific keywords. \n",
    "# 'dataframe' is populated on every loop and will provide results of query per location requested.\n",
    "\n",
    "search_query = ['chimichurri', 'empanadas', 'Argentinian']\n",
    "i = 0\n",
    "while i < len(search_query):\n",
    "    element = search_query[i]\n",
    "    url = 'https://api.foursquare.com/v2/venues/search?client_id={}&client_secret={}&ll={},{}&v={}&query={}&radius={}&limit={}'.format(CLIENT_ID, CLIENT_SECRET, lat, lng, VERSION, element, radius, LIMIT)\n",
    "    results = requests.get(url).json()\n",
    "    \n",
    "    result = {}                                #list that will store the results of all Json \n",
    "    result = results['response']['venues']     # filter specific location in results.json   \n",
    " \n",
    "    dataframe = dataframe.append(result, ignore_index=True) # add filtered JSON data to empty dataframe.\n",
    "\n",
    "    i += 1    # add 1 to i and restart loop\n",
    "       \n",
    "    if i == len(search_query):    # verify is i equals length of 'search_query'. If true, break loop.\n",
    "        break\n",
    "\n",
    "print('completed')"
   ]
  },
  {
   "cell_type": "code",
   "execution_count": 82,
   "metadata": {},
   "outputs": [],
   "source": [
    "# Clean: data is arranged to provide name, categorie titles, latitude and longitude.\n",
    "# 'dataframe' is filtered with def to extract information from values.\n",
    "\n",
    "filtered_columns = ['name', 'categories', 'location'] + [col for col in dataframe.columns if col.startswith('.location')] + ['id']\n",
    "dataframe_filtered = dataframe.loc[:, filtered_columns]\n",
    "# function that extracts the category of the venue\n",
    "def get_category_type(row):\n",
    "    try:\n",
    "        categories_list = row['categories']      \n",
    "    except:\n",
    "        categories_list = row['venue.categories']        \n",
    "    if len(categories_list) == 0:\n",
    "        return None\n",
    "    else:\n",
    "        return categories_list[0]['name']\n",
    "    \n",
    "def get_lat_type(row):\n",
    "    try:\n",
    "        lat_list = row['location']      \n",
    "    except:\n",
    "        lat_list = row['venue.location']        \n",
    "    if len(lat_list) == 0:\n",
    "        return None\n",
    "    else:\n",
    "        return lat_list['lat']\n",
    "    \n",
    "def get_lng_type(row):\n",
    "    try:\n",
    "        lng_list = row['location']      \n",
    "    except:\n",
    "        lng_list = row['venue.location']        \n",
    "    if len(lng_list) == 0:\n",
    "        return None\n",
    "    else:\n",
    "        return lng_list['lng']\n",
    "        \n",
    "def get_city(row):\n",
    "    try:\n",
    "        city_list = row['location']      \n",
    "    except:\n",
    "        city_list = row['venue.location']        \n",
    "    if len(city_list) == 0:\n",
    "        return None\n",
    "    else:\n",
    "        return city_list['city']"
   ]
  },
  {
   "cell_type": "code",
   "execution_count": null,
   "metadata": {},
   "outputs": [],
   "source": []
  },
  {
   "cell_type": "code",
   "execution_count": 83,
   "metadata": {
    "scrolled": false
   },
   "outputs": [],
   "source": [
    "# filter the category for each row\n",
    "\n",
    "dataframe_filtered['name'] = dataframe_filtered['name'].str.replace(r'\\.', '').str.replace(r'\\$', '').str.replace(r'\\'', '').str.replace(r'\\&', 'and').str.replace(r'\\?', '')\n",
    "dataframe_filtered['name'] = dataframe_filtered['name'].str.replace(r'\\$', '')\n",
    "dataframe_filtered['name'] = dataframe_filtered['name'].str.replace(r'\\'', '')\n",
    "\n",
    "\n",
    "dataframe_filtered['name'].str.replace('.', '').astype(object)\n",
    "dataframe_filtered['categories'] = dataframe_filtered.apply(get_category_type, axis=1)\n",
    "dataframe_filtered['Latitude'] = dataframe_filtered.apply(get_lat_type, axis=1)\n",
    "dataframe_filtered['Longitude'] = dataframe_filtered.apply(get_lng_type, axis=1)\n",
    "dataframe_filtered['City'] = dataframe_filtered.apply(get_city, axis=1)\n",
    "# Remove unwanted cities found within radius\n",
    "#indexNames = dataframe_filtered[ dataframe_filtered['City'] != 'New York' ].index\n",
    "# Delete these row indexes from dataFrame\n",
    "#dataframe_filtered.drop(indexNames , inplace=True)\n",
    "dataframe_filtered = dataframe_filtered[['name', 'categories', 'location', 'Latitude', 'Longitude', 'City', 'id']]"
   ]
  },
  {
   "cell_type": "markdown",
   "metadata": {},
   "source": [
    "#### 4d. Visualize Argentinian restaurant in Queens County."
   ]
  },
  {
   "cell_type": "code",
   "execution_count": 84,
   "metadata": {
    "scrolled": true
   },
   "outputs": [
    {
     "data": {
      "text/html": [
       "<div>\n",
       "<style scoped>\n",
       "    .dataframe tbody tr th:only-of-type {\n",
       "        vertical-align: middle;\n",
       "    }\n",
       "\n",
       "    .dataframe tbody tr th {\n",
       "        vertical-align: top;\n",
       "    }\n",
       "\n",
       "    .dataframe thead th {\n",
       "        text-align: right;\n",
       "    }\n",
       "</style>\n",
       "<table border=\"1\" class=\"dataframe\">\n",
       "  <thead>\n",
       "    <tr style=\"text-align: right;\">\n",
       "      <th></th>\n",
       "      <th>name</th>\n",
       "      <th>categories</th>\n",
       "      <th>location</th>\n",
       "      <th>Latitude</th>\n",
       "      <th>Longitude</th>\n",
       "      <th>City</th>\n",
       "      <th>id</th>\n",
       "    </tr>\n",
       "  </thead>\n",
       "  <tbody>\n",
       "    <tr>\n",
       "      <th>0</th>\n",
       "      <td>Chimichurri Charcoal Kitchen</td>\n",
       "      <td>Portuguese Restaurant</td>\n",
       "      <td>{'address': '450 Rockaway Tpke', 'crossStreet'...</td>\n",
       "      <td>40.627598</td>\n",
       "      <td>-73.736664</td>\n",
       "      <td>Lawrence</td>\n",
       "      <td>56801b7e498e9b9cf26e2fd4</td>\n",
       "    </tr>\n",
       "    <tr>\n",
       "      <th>1</th>\n",
       "      <td>Palacio del chimichurri</td>\n",
       "      <td>None</td>\n",
       "      <td>{'address': '108-09 101st Ave', 'lat': 40.6873...</td>\n",
       "      <td>40.687341</td>\n",
       "      <td>-73.835174</td>\n",
       "      <td>Richmond Hill</td>\n",
       "      <td>4cf984f2ee9cb60c869d84ad</td>\n",
       "    </tr>\n",
       "    <tr>\n",
       "      <th>2</th>\n",
       "      <td>Empanadas and Salchipapas</td>\n",
       "      <td>Food Truck</td>\n",
       "      <td>{'address': 'Front of Atlantic Mall/Terminal E...</td>\n",
       "      <td>40.677622</td>\n",
       "      <td>-73.864284</td>\n",
       "      <td>Brooklyn</td>\n",
       "      <td>4d2ba35e915fa0937fc7180a</td>\n",
       "    </tr>\n",
       "    <tr>\n",
       "      <th>3</th>\n",
       "      <td>Viva Mis Empanadas</td>\n",
       "      <td>Mexican Restaurant</td>\n",
       "      <td>{'address': '133-11 Crossbay Blvd', 'lat': 40....</td>\n",
       "      <td>40.675006</td>\n",
       "      <td>-73.842869</td>\n",
       "      <td>Ozone Park</td>\n",
       "      <td>56e49e1f498efc6a65da47a3</td>\n",
       "    </tr>\n",
       "    <tr>\n",
       "      <th>4</th>\n",
       "      <td>Ricas Empanadas</td>\n",
       "      <td>Empanada Restaurant</td>\n",
       "      <td>{'address': '159-35 Crossbay Blvd', 'lat': 40....</td>\n",
       "      <td>40.659229</td>\n",
       "      <td>-73.839867</td>\n",
       "      <td>Ozone Park</td>\n",
       "      <td>54e7c833498ebe5df6a964ce</td>\n",
       "    </tr>\n",
       "    <tr>\n",
       "      <th>5</th>\n",
       "      <td>Mamas Empanadas</td>\n",
       "      <td>Empanada Restaurant</td>\n",
       "      <td>{'address': '91-11 Jamaica Ave', 'lat': 40.693...</td>\n",
       "      <td>40.693222</td>\n",
       "      <td>-73.853380</td>\n",
       "      <td>Woodhaven</td>\n",
       "      <td>5b92f318911fc4002ced9fa5</td>\n",
       "    </tr>\n",
       "  </tbody>\n",
       "</table>\n",
       "</div>"
      ],
      "text/plain": [
       "                           name             categories  \\\n",
       "0  Chimichurri Charcoal Kitchen  Portuguese Restaurant   \n",
       "1       Palacio del chimichurri                   None   \n",
       "2     Empanadas and Salchipapas             Food Truck   \n",
       "3            Viva Mis Empanadas     Mexican Restaurant   \n",
       "4               Ricas Empanadas    Empanada Restaurant   \n",
       "5               Mamas Empanadas    Empanada Restaurant   \n",
       "\n",
       "                                            location   Latitude  Longitude  \\\n",
       "0  {'address': '450 Rockaway Tpke', 'crossStreet'...  40.627598 -73.736664   \n",
       "1  {'address': '108-09 101st Ave', 'lat': 40.6873...  40.687341 -73.835174   \n",
       "2  {'address': 'Front of Atlantic Mall/Terminal E...  40.677622 -73.864284   \n",
       "3  {'address': '133-11 Crossbay Blvd', 'lat': 40....  40.675006 -73.842869   \n",
       "4  {'address': '159-35 Crossbay Blvd', 'lat': 40....  40.659229 -73.839867   \n",
       "5  {'address': '91-11 Jamaica Ave', 'lat': 40.693...  40.693222 -73.853380   \n",
       "\n",
       "            City                        id  \n",
       "0       Lawrence  56801b7e498e9b9cf26e2fd4  \n",
       "1  Richmond Hill  4cf984f2ee9cb60c869d84ad  \n",
       "2       Brooklyn  4d2ba35e915fa0937fc7180a  \n",
       "3     Ozone Park  56e49e1f498efc6a65da47a3  \n",
       "4     Ozone Park  54e7c833498ebe5df6a964ce  \n",
       "5      Woodhaven  5b92f318911fc4002ced9fa5  "
      ]
     },
     "execution_count": 84,
     "metadata": {},
     "output_type": "execute_result"
    }
   ],
   "source": [
    "dataframe_filtered"
   ]
  },
  {
   "cell_type": "code",
   "execution_count": 85,
   "metadata": {
    "scrolled": true
   },
   "outputs": [
    {
     "data": {
      "text/html": [
       "<div style=\"width:100%;\"><div style=\"position:relative;width:100%;height:0;padding-bottom:60%;\"><iframe src=\"data:text/html;charset=utf-8;base64,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\" style=\"position:absolute;width:100%;height:100%;left:0;top:0;border:none !important;\" allowfullscreen webkitallowfullscreen mozallowfullscreen></iframe></div></div>"
      ],
      "text/plain": [
       "<folium.folium.Map at 0x2548c4ee8e0>"
      ]
     },
     "execution_count": 85,
     "metadata": {},
     "output_type": "execute_result"
    }
   ],
   "source": [
    "venues_map = folium.Map(location=[float(queens_lat), float(queens_lng)], zoom_start=12) # generate map centred around the Conrad Hotel\n",
    "\n",
    "# add a red circle marker to represent the Bronx County\n",
    "folium.features.CircleMarker(\n",
    "    [float(queens_lat), float(queens_lng)],\n",
    "    radius=10,\n",
    "    color='red',\n",
    "    popup='Queens County',\n",
    "    fill = True,\n",
    "    fill_color = 'red',\n",
    "    fill_opacity = 0.6\n",
    ").add_to(venues_map)\n",
    "\n",
    "# add the Italian restaurants as blue circle markers\n",
    "for lat, lng, label in zip(dataframe_filtered.Latitude, dataframe_filtered.Longitude, dataframe_filtered.name):\n",
    "    folium.features.CircleMarker(\n",
    "        [lat, lng],\n",
    "        radius=5,\n",
    "        color='blue',\n",
    "        popup=label,\n",
    "        fill = True,\n",
    "        fill_color='blue',\n",
    "        fill_opacity=0.6\n",
    "    ).add_to(venues_map)\n",
    "\n",
    "# display map\n",
    "venues_map"
   ]
  },
  {
   "cell_type": "code",
   "execution_count": null,
   "metadata": {},
   "outputs": [],
   "source": []
  },
  {
   "cell_type": "code",
   "execution_count": null,
   "metadata": {},
   "outputs": [],
   "source": []
  },
  {
   "cell_type": "markdown",
   "metadata": {},
   "source": [
    "#### 4e. Richmond County - Restaurant"
   ]
  },
  {
   "cell_type": "code",
   "execution_count": 98,
   "metadata": {},
   "outputs": [],
   "source": [
    "########################################\n",
    "### Retreive Four Square Information ###\n",
    "########################################\n",
    "\n",
    "#Kings County Results for 'Argentinean' locations\n",
    "#radius = \n",
    "# Kings lat/lng\n",
    "richmond_lat = float(df_NYCB_latlng['Richmond County'].latitude)\n",
    "richmond_lng = float(df_NYCB_latlng['Richmond County'].longitude)\n",
    "lat = richmond_lat = df_NYCB_latlng['Richmond County']['latitude']\n",
    "lng = richmond_lng = df_NYCB_latlng['Richmond County']['longitude']"
   ]
  },
  {
   "cell_type": "code",
   "execution_count": null,
   "metadata": {},
   "outputs": [],
   "source": []
  },
  {
   "cell_type": "code",
   "execution_count": 99,
   "metadata": {},
   "outputs": [],
   "source": [
    "# Create: Generate empty DataFrame to populate.\n",
    "dataframe = pd.DataFrame()"
   ]
  },
  {
   "cell_type": "code",
   "execution_count": 100,
   "metadata": {},
   "outputs": [
    {
     "name": "stdout",
     "output_type": "stream",
     "text": [
      "completed\n"
     ]
    }
   ],
   "source": [
    "# Data: Loop through a number of search queries. We call the Four Square API to search \n",
    "# and query specific keywords related to Argentinian restauraunts.\n",
    "# We will use this loop for each county to find data by specific keywords. \n",
    "# 'dataframe' is populated on every loop and will provide results of query per location requested.\n",
    "\n",
    "search_query = ['chimichurri', 'empanadas', 'Argentinian']\n",
    "i = 0\n",
    "while i < len(search_query):\n",
    "    element = search_query[i]\n",
    "    url = 'https://api.foursquare.com/v2/venues/search?client_id={}&client_secret={}&ll={},{}&v={}&query={}&radius={}&limit={}'.format(CLIENT_ID, CLIENT_SECRET, lat, lng, VERSION, element, radius, LIMIT)\n",
    "    results = requests.get(url).json()\n",
    "    \n",
    "    result = {}                                #list that will store the results of all Json \n",
    "    result = results['response']['venues']     # filter specific location in results.json   \n",
    " \n",
    "    dataframe = dataframe.append(result, ignore_index=True) # add filtered JSON data to empty dataframe.\n",
    "\n",
    "    i += 1    # add 1 to i and restart loop\n",
    "       \n",
    "    if i == len(search_query):    # verify is i equals length of 'search_query'. If true, break loop.\n",
    "        break\n",
    "\n",
    "print('completed')"
   ]
  },
  {
   "cell_type": "code",
   "execution_count": 102,
   "metadata": {},
   "outputs": [
    {
     "data": {
      "text/plain": [
       "RangeIndex(start=0, stop=0, step=1)"
      ]
     },
     "execution_count": 102,
     "metadata": {},
     "output_type": "execute_result"
    }
   ],
   "source": [
    "dataframe.index"
   ]
  },
  {
   "cell_type": "code",
   "execution_count": 95,
   "metadata": {
    "scrolled": true
   },
   "outputs": [
    {
     "ename": "KeyError",
     "evalue": "\"None of [Index(['name', 'categories', 'location', 'id'], dtype='object')] are in the [columns]\"",
     "output_type": "error",
     "traceback": [
      "\u001b[1;31m---------------------------------------------------------------------------\u001b[0m",
      "\u001b[1;31mKeyError\u001b[0m                                  Traceback (most recent call last)",
      "\u001b[1;32m<ipython-input-95-e306da10d2f0>\u001b[0m in \u001b[0;36m<module>\u001b[1;34m\u001b[0m\n\u001b[0;32m      3\u001b[0m \u001b[1;33m\u001b[0m\u001b[0m\n\u001b[0;32m      4\u001b[0m \u001b[0mfiltered_columns\u001b[0m \u001b[1;33m=\u001b[0m \u001b[1;33m[\u001b[0m\u001b[1;34m'name'\u001b[0m\u001b[1;33m,\u001b[0m \u001b[1;34m'categories'\u001b[0m\u001b[1;33m,\u001b[0m \u001b[1;34m'location'\u001b[0m\u001b[1;33m]\u001b[0m \u001b[1;33m+\u001b[0m \u001b[1;33m[\u001b[0m\u001b[0mcol\u001b[0m \u001b[1;32mfor\u001b[0m \u001b[0mcol\u001b[0m \u001b[1;32min\u001b[0m \u001b[0mdataframe\u001b[0m\u001b[1;33m.\u001b[0m\u001b[0mcolumns\u001b[0m \u001b[1;32mif\u001b[0m \u001b[0mcol\u001b[0m\u001b[1;33m.\u001b[0m\u001b[0mstartswith\u001b[0m\u001b[1;33m(\u001b[0m\u001b[1;34m'.location'\u001b[0m\u001b[1;33m)\u001b[0m\u001b[1;33m]\u001b[0m \u001b[1;33m+\u001b[0m \u001b[1;33m[\u001b[0m\u001b[1;34m'id'\u001b[0m\u001b[1;33m]\u001b[0m\u001b[1;33m\u001b[0m\u001b[1;33m\u001b[0m\u001b[0m\n\u001b[1;32m----> 5\u001b[1;33m \u001b[0mdataframe_filtered\u001b[0m \u001b[1;33m=\u001b[0m \u001b[0mdataframe\u001b[0m\u001b[1;33m.\u001b[0m\u001b[0mloc\u001b[0m\u001b[1;33m[\u001b[0m\u001b[1;33m:\u001b[0m\u001b[1;33m,\u001b[0m \u001b[0mfiltered_columns\u001b[0m\u001b[1;33m]\u001b[0m\u001b[1;33m\u001b[0m\u001b[1;33m\u001b[0m\u001b[0m\n\u001b[0m\u001b[0;32m      6\u001b[0m \u001b[1;31m# function that extracts the category of the venue\u001b[0m\u001b[1;33m\u001b[0m\u001b[1;33m\u001b[0m\u001b[1;33m\u001b[0m\u001b[0m\n\u001b[0;32m      7\u001b[0m \u001b[1;32mdef\u001b[0m \u001b[0mget_category_type\u001b[0m\u001b[1;33m(\u001b[0m\u001b[0mrow\u001b[0m\u001b[1;33m)\u001b[0m\u001b[1;33m:\u001b[0m\u001b[1;33m\u001b[0m\u001b[1;33m\u001b[0m\u001b[0m\n",
      "\u001b[1;32m~\\Anaconda3\\envs\\ipykernel_py2\\lib\\site-packages\\pandas\\core\\indexing.py\u001b[0m in \u001b[0;36m__getitem__\u001b[1;34m(self, key)\u001b[0m\n\u001b[0;32m   1759\u001b[0m                 \u001b[1;32mexcept\u001b[0m \u001b[1;33m(\u001b[0m\u001b[0mKeyError\u001b[0m\u001b[1;33m,\u001b[0m \u001b[0mIndexError\u001b[0m\u001b[1;33m,\u001b[0m \u001b[0mAttributeError\u001b[0m\u001b[1;33m)\u001b[0m\u001b[1;33m:\u001b[0m\u001b[1;33m\u001b[0m\u001b[1;33m\u001b[0m\u001b[0m\n\u001b[0;32m   1760\u001b[0m                     \u001b[1;32mpass\u001b[0m\u001b[1;33m\u001b[0m\u001b[1;33m\u001b[0m\u001b[0m\n\u001b[1;32m-> 1761\u001b[1;33m             \u001b[1;32mreturn\u001b[0m \u001b[0mself\u001b[0m\u001b[1;33m.\u001b[0m\u001b[0m_getitem_tuple\u001b[0m\u001b[1;33m(\u001b[0m\u001b[0mkey\u001b[0m\u001b[1;33m)\u001b[0m\u001b[1;33m\u001b[0m\u001b[1;33m\u001b[0m\u001b[0m\n\u001b[0m\u001b[0;32m   1762\u001b[0m         \u001b[1;32melse\u001b[0m\u001b[1;33m:\u001b[0m\u001b[1;33m\u001b[0m\u001b[1;33m\u001b[0m\u001b[0m\n\u001b[0;32m   1763\u001b[0m             \u001b[1;31m# we by definition only have the 0th axis\u001b[0m\u001b[1;33m\u001b[0m\u001b[1;33m\u001b[0m\u001b[1;33m\u001b[0m\u001b[0m\n",
      "\u001b[1;32m~\\Anaconda3\\envs\\ipykernel_py2\\lib\\site-packages\\pandas\\core\\indexing.py\u001b[0m in \u001b[0;36m_getitem_tuple\u001b[1;34m(self, tup)\u001b[0m\n\u001b[0;32m   1286\u001b[0m                 \u001b[1;32mcontinue\u001b[0m\u001b[1;33m\u001b[0m\u001b[1;33m\u001b[0m\u001b[0m\n\u001b[0;32m   1287\u001b[0m \u001b[1;33m\u001b[0m\u001b[0m\n\u001b[1;32m-> 1288\u001b[1;33m             \u001b[0mretval\u001b[0m \u001b[1;33m=\u001b[0m \u001b[0mgetattr\u001b[0m\u001b[1;33m(\u001b[0m\u001b[0mretval\u001b[0m\u001b[1;33m,\u001b[0m \u001b[0mself\u001b[0m\u001b[1;33m.\u001b[0m\u001b[0mname\u001b[0m\u001b[1;33m)\u001b[0m\u001b[1;33m.\u001b[0m\u001b[0m_getitem_axis\u001b[0m\u001b[1;33m(\u001b[0m\u001b[0mkey\u001b[0m\u001b[1;33m,\u001b[0m \u001b[0maxis\u001b[0m\u001b[1;33m=\u001b[0m\u001b[0mi\u001b[0m\u001b[1;33m)\u001b[0m\u001b[1;33m\u001b[0m\u001b[1;33m\u001b[0m\u001b[0m\n\u001b[0m\u001b[0;32m   1289\u001b[0m \u001b[1;33m\u001b[0m\u001b[0m\n\u001b[0;32m   1290\u001b[0m         \u001b[1;32mreturn\u001b[0m \u001b[0mretval\u001b[0m\u001b[1;33m\u001b[0m\u001b[1;33m\u001b[0m\u001b[0m\n",
      "\u001b[1;32m~\\Anaconda3\\envs\\ipykernel_py2\\lib\\site-packages\\pandas\\core\\indexing.py\u001b[0m in \u001b[0;36m_getitem_axis\u001b[1;34m(self, key, axis)\u001b[0m\n\u001b[0;32m   1951\u001b[0m                     \u001b[1;32mraise\u001b[0m \u001b[0mValueError\u001b[0m\u001b[1;33m(\u001b[0m\u001b[1;34m\"Cannot index with multidimensional key\"\u001b[0m\u001b[1;33m)\u001b[0m\u001b[1;33m\u001b[0m\u001b[1;33m\u001b[0m\u001b[0m\n\u001b[0;32m   1952\u001b[0m \u001b[1;33m\u001b[0m\u001b[0m\n\u001b[1;32m-> 1953\u001b[1;33m                 \u001b[1;32mreturn\u001b[0m \u001b[0mself\u001b[0m\u001b[1;33m.\u001b[0m\u001b[0m_getitem_iterable\u001b[0m\u001b[1;33m(\u001b[0m\u001b[0mkey\u001b[0m\u001b[1;33m,\u001b[0m \u001b[0maxis\u001b[0m\u001b[1;33m=\u001b[0m\u001b[0maxis\u001b[0m\u001b[1;33m)\u001b[0m\u001b[1;33m\u001b[0m\u001b[1;33m\u001b[0m\u001b[0m\n\u001b[0m\u001b[0;32m   1954\u001b[0m \u001b[1;33m\u001b[0m\u001b[0m\n\u001b[0;32m   1955\u001b[0m             \u001b[1;31m# nested tuple slicing\u001b[0m\u001b[1;33m\u001b[0m\u001b[1;33m\u001b[0m\u001b[1;33m\u001b[0m\u001b[0m\n",
      "\u001b[1;32m~\\Anaconda3\\envs\\ipykernel_py2\\lib\\site-packages\\pandas\\core\\indexing.py\u001b[0m in \u001b[0;36m_getitem_iterable\u001b[1;34m(self, key, axis)\u001b[0m\n\u001b[0;32m   1592\u001b[0m         \u001b[1;32melse\u001b[0m\u001b[1;33m:\u001b[0m\u001b[1;33m\u001b[0m\u001b[1;33m\u001b[0m\u001b[0m\n\u001b[0;32m   1593\u001b[0m             \u001b[1;31m# A collection of keys\u001b[0m\u001b[1;33m\u001b[0m\u001b[1;33m\u001b[0m\u001b[1;33m\u001b[0m\u001b[0m\n\u001b[1;32m-> 1594\u001b[1;33m             \u001b[0mkeyarr\u001b[0m\u001b[1;33m,\u001b[0m \u001b[0mindexer\u001b[0m \u001b[1;33m=\u001b[0m \u001b[0mself\u001b[0m\u001b[1;33m.\u001b[0m\u001b[0m_get_listlike_indexer\u001b[0m\u001b[1;33m(\u001b[0m\u001b[0mkey\u001b[0m\u001b[1;33m,\u001b[0m \u001b[0maxis\u001b[0m\u001b[1;33m,\u001b[0m \u001b[0mraise_missing\u001b[0m\u001b[1;33m=\u001b[0m\u001b[1;32mFalse\u001b[0m\u001b[1;33m)\u001b[0m\u001b[1;33m\u001b[0m\u001b[1;33m\u001b[0m\u001b[0m\n\u001b[0m\u001b[0;32m   1595\u001b[0m             return self.obj._reindex_with_indexers(\n\u001b[0;32m   1596\u001b[0m                 \u001b[1;33m{\u001b[0m\u001b[0maxis\u001b[0m\u001b[1;33m:\u001b[0m \u001b[1;33m[\u001b[0m\u001b[0mkeyarr\u001b[0m\u001b[1;33m,\u001b[0m \u001b[0mindexer\u001b[0m\u001b[1;33m]\u001b[0m\u001b[1;33m}\u001b[0m\u001b[1;33m,\u001b[0m \u001b[0mcopy\u001b[0m\u001b[1;33m=\u001b[0m\u001b[1;32mTrue\u001b[0m\u001b[1;33m,\u001b[0m \u001b[0mallow_dups\u001b[0m\u001b[1;33m=\u001b[0m\u001b[1;32mTrue\u001b[0m\u001b[1;33m\u001b[0m\u001b[1;33m\u001b[0m\u001b[0m\n",
      "\u001b[1;32m~\\Anaconda3\\envs\\ipykernel_py2\\lib\\site-packages\\pandas\\core\\indexing.py\u001b[0m in \u001b[0;36m_get_listlike_indexer\u001b[1;34m(self, key, axis, raise_missing)\u001b[0m\n\u001b[0;32m   1549\u001b[0m             \u001b[0mkeyarr\u001b[0m\u001b[1;33m,\u001b[0m \u001b[0mindexer\u001b[0m\u001b[1;33m,\u001b[0m \u001b[0mnew_indexer\u001b[0m \u001b[1;33m=\u001b[0m \u001b[0max\u001b[0m\u001b[1;33m.\u001b[0m\u001b[0m_reindex_non_unique\u001b[0m\u001b[1;33m(\u001b[0m\u001b[0mkeyarr\u001b[0m\u001b[1;33m)\u001b[0m\u001b[1;33m\u001b[0m\u001b[1;33m\u001b[0m\u001b[0m\n\u001b[0;32m   1550\u001b[0m \u001b[1;33m\u001b[0m\u001b[0m\n\u001b[1;32m-> 1551\u001b[1;33m         self._validate_read_indexer(\n\u001b[0m\u001b[0;32m   1552\u001b[0m             \u001b[0mkeyarr\u001b[0m\u001b[1;33m,\u001b[0m \u001b[0mindexer\u001b[0m\u001b[1;33m,\u001b[0m \u001b[0mo\u001b[0m\u001b[1;33m.\u001b[0m\u001b[0m_get_axis_number\u001b[0m\u001b[1;33m(\u001b[0m\u001b[0maxis\u001b[0m\u001b[1;33m)\u001b[0m\u001b[1;33m,\u001b[0m \u001b[0mraise_missing\u001b[0m\u001b[1;33m=\u001b[0m\u001b[0mraise_missing\u001b[0m\u001b[1;33m\u001b[0m\u001b[1;33m\u001b[0m\u001b[0m\n\u001b[0;32m   1553\u001b[0m         )\n",
      "\u001b[1;32m~\\Anaconda3\\envs\\ipykernel_py2\\lib\\site-packages\\pandas\\core\\indexing.py\u001b[0m in \u001b[0;36m_validate_read_indexer\u001b[1;34m(self, key, indexer, axis, raise_missing)\u001b[0m\n\u001b[0;32m   1637\u001b[0m             \u001b[1;32mif\u001b[0m \u001b[0mmissing\u001b[0m \u001b[1;33m==\u001b[0m \u001b[0mlen\u001b[0m\u001b[1;33m(\u001b[0m\u001b[0mindexer\u001b[0m\u001b[1;33m)\u001b[0m\u001b[1;33m:\u001b[0m\u001b[1;33m\u001b[0m\u001b[1;33m\u001b[0m\u001b[0m\n\u001b[0;32m   1638\u001b[0m                 \u001b[0maxis_name\u001b[0m \u001b[1;33m=\u001b[0m \u001b[0mself\u001b[0m\u001b[1;33m.\u001b[0m\u001b[0mobj\u001b[0m\u001b[1;33m.\u001b[0m\u001b[0m_get_axis_name\u001b[0m\u001b[1;33m(\u001b[0m\u001b[0maxis\u001b[0m\u001b[1;33m)\u001b[0m\u001b[1;33m\u001b[0m\u001b[1;33m\u001b[0m\u001b[0m\n\u001b[1;32m-> 1639\u001b[1;33m                 \u001b[1;32mraise\u001b[0m \u001b[0mKeyError\u001b[0m\u001b[1;33m(\u001b[0m\u001b[1;34mf\"None of [{key}] are in the [{axis_name}]\"\u001b[0m\u001b[1;33m)\u001b[0m\u001b[1;33m\u001b[0m\u001b[1;33m\u001b[0m\u001b[0m\n\u001b[0m\u001b[0;32m   1640\u001b[0m \u001b[1;33m\u001b[0m\u001b[0m\n\u001b[0;32m   1641\u001b[0m             \u001b[1;31m# We (temporarily) allow for some missing keys with .loc, except in\u001b[0m\u001b[1;33m\u001b[0m\u001b[1;33m\u001b[0m\u001b[1;33m\u001b[0m\u001b[0m\n",
      "\u001b[1;31mKeyError\u001b[0m: \"None of [Index(['name', 'categories', 'location', 'id'], dtype='object')] are in the [columns]\""
     ]
    }
   ],
   "source": [
    "# Clean: data is arranged to provide name, categorie titles, latitude and longitude.\n",
    "# 'dataframe' is filtered with def to extract information from values.\n",
    "if d in dataframe\n",
    "filtered_columns = ['name', 'categories', 'location'] + [col for col in dataframe.columns if col.startswith('.location')] + ['id']\n",
    "dataframe_filtered = dataframe.loc[:, filtered_columns]\n",
    "# function that extracts the category of the venue\n",
    "def get_category_type(row):\n",
    "    try:\n",
    "        categories_list = row['categories']      \n",
    "    except:\n",
    "        categories_list = row['venue.categories']        \n",
    "    if len(categories_list) == 0:\n",
    "        return None\n",
    "    else:\n",
    "        return categories_list[0]['name']\n",
    "    \n",
    "def get_lat_type(row):\n",
    "    try:\n",
    "        lat_list = row['location']      \n",
    "    except:\n",
    "        lat_list = row['venue.location']        \n",
    "    if len(lat_list) == 0:\n",
    "        return None\n",
    "    else:\n",
    "        return lat_list['lat']\n",
    "    \n",
    "def get_lng_type(row):\n",
    "    try:\n",
    "        lng_list = row['location']      \n",
    "    except:\n",
    "        lng_list = row['venue.location']        \n",
    "    if len(lng_list) == 0:\n",
    "        return None\n",
    "    else:\n",
    "        return lng_list['lng']\n",
    "        \n",
    "def get_city(row):\n",
    "    try:\n",
    "        city_list = row['location']      \n",
    "    except:\n",
    "        city_list = row['venue.location']        \n",
    "    if len(city_list) == 0:\n",
    "        return None\n",
    "    else:\n",
    "        return city_list['city']"
   ]
  },
  {
   "cell_type": "code",
   "execution_count": null,
   "metadata": {},
   "outputs": [],
   "source": []
  },
  {
   "cell_type": "code",
   "execution_count": 83,
   "metadata": {
    "scrolled": false
   },
   "outputs": [],
   "source": [
    "# filter the category for each row\n",
    "\n",
    "dataframe_filtered['name'] = dataframe_filtered['name'].str.replace(r'\\.', '').str.replace(r'\\$', '').str.replace(r'\\'', '').str.replace(r'\\&', 'and').str.replace(r'\\?', '')\n",
    "dataframe_filtered['name'] = dataframe_filtered['name'].str.replace(r'\\$', '')\n",
    "dataframe_filtered['name'] = dataframe_filtered['name'].str.replace(r'\\'', '')\n",
    "\n",
    "\n",
    "dataframe_filtered['name'].str.replace('.', '').astype(object)\n",
    "dataframe_filtered['categories'] = dataframe_filtered.apply(get_category_type, axis=1)\n",
    "dataframe_filtered['Latitude'] = dataframe_filtered.apply(get_lat_type, axis=1)\n",
    "dataframe_filtered['Longitude'] = dataframe_filtered.apply(get_lng_type, axis=1)\n",
    "dataframe_filtered['City'] = dataframe_filtered.apply(get_city, axis=1)\n",
    "# Remove unwanted cities found within radius\n",
    "#indexNames = dataframe_filtered[ dataframe_filtered['City'] != 'New York' ].index\n",
    "# Delete these row indexes from dataFrame\n",
    "#dataframe_filtered.drop(indexNames , inplace=True)\n",
    "dataframe_filtered = dataframe_filtered[['name', 'categories', 'location', 'Latitude', 'Longitude', 'City', 'id']]"
   ]
  },
  {
   "cell_type": "markdown",
   "metadata": {},
   "source": [
    "#### 4d. Visualize Argentinian restaurant in Queens County."
   ]
  },
  {
   "cell_type": "code",
   "execution_count": 84,
   "metadata": {
    "scrolled": true
   },
   "outputs": [
    {
     "data": {
      "text/html": [
       "<div>\n",
       "<style scoped>\n",
       "    .dataframe tbody tr th:only-of-type {\n",
       "        vertical-align: middle;\n",
       "    }\n",
       "\n",
       "    .dataframe tbody tr th {\n",
       "        vertical-align: top;\n",
       "    }\n",
       "\n",
       "    .dataframe thead th {\n",
       "        text-align: right;\n",
       "    }\n",
       "</style>\n",
       "<table border=\"1\" class=\"dataframe\">\n",
       "  <thead>\n",
       "    <tr style=\"text-align: right;\">\n",
       "      <th></th>\n",
       "      <th>name</th>\n",
       "      <th>categories</th>\n",
       "      <th>location</th>\n",
       "      <th>Latitude</th>\n",
       "      <th>Longitude</th>\n",
       "      <th>City</th>\n",
       "      <th>id</th>\n",
       "    </tr>\n",
       "  </thead>\n",
       "  <tbody>\n",
       "    <tr>\n",
       "      <th>0</th>\n",
       "      <td>Chimichurri Charcoal Kitchen</td>\n",
       "      <td>Portuguese Restaurant</td>\n",
       "      <td>{'address': '450 Rockaway Tpke', 'crossStreet'...</td>\n",
       "      <td>40.627598</td>\n",
       "      <td>-73.736664</td>\n",
       "      <td>Lawrence</td>\n",
       "      <td>56801b7e498e9b9cf26e2fd4</td>\n",
       "    </tr>\n",
       "    <tr>\n",
       "      <th>1</th>\n",
       "      <td>Palacio del chimichurri</td>\n",
       "      <td>None</td>\n",
       "      <td>{'address': '108-09 101st Ave', 'lat': 40.6873...</td>\n",
       "      <td>40.687341</td>\n",
       "      <td>-73.835174</td>\n",
       "      <td>Richmond Hill</td>\n",
       "      <td>4cf984f2ee9cb60c869d84ad</td>\n",
       "    </tr>\n",
       "    <tr>\n",
       "      <th>2</th>\n",
       "      <td>Empanadas and Salchipapas</td>\n",
       "      <td>Food Truck</td>\n",
       "      <td>{'address': 'Front of Atlantic Mall/Terminal E...</td>\n",
       "      <td>40.677622</td>\n",
       "      <td>-73.864284</td>\n",
       "      <td>Brooklyn</td>\n",
       "      <td>4d2ba35e915fa0937fc7180a</td>\n",
       "    </tr>\n",
       "    <tr>\n",
       "      <th>3</th>\n",
       "      <td>Viva Mis Empanadas</td>\n",
       "      <td>Mexican Restaurant</td>\n",
       "      <td>{'address': '133-11 Crossbay Blvd', 'lat': 40....</td>\n",
       "      <td>40.675006</td>\n",
       "      <td>-73.842869</td>\n",
       "      <td>Ozone Park</td>\n",
       "      <td>56e49e1f498efc6a65da47a3</td>\n",
       "    </tr>\n",
       "    <tr>\n",
       "      <th>4</th>\n",
       "      <td>Ricas Empanadas</td>\n",
       "      <td>Empanada Restaurant</td>\n",
       "      <td>{'address': '159-35 Crossbay Blvd', 'lat': 40....</td>\n",
       "      <td>40.659229</td>\n",
       "      <td>-73.839867</td>\n",
       "      <td>Ozone Park</td>\n",
       "      <td>54e7c833498ebe5df6a964ce</td>\n",
       "    </tr>\n",
       "    <tr>\n",
       "      <th>5</th>\n",
       "      <td>Mamas Empanadas</td>\n",
       "      <td>Empanada Restaurant</td>\n",
       "      <td>{'address': '91-11 Jamaica Ave', 'lat': 40.693...</td>\n",
       "      <td>40.693222</td>\n",
       "      <td>-73.853380</td>\n",
       "      <td>Woodhaven</td>\n",
       "      <td>5b92f318911fc4002ced9fa5</td>\n",
       "    </tr>\n",
       "  </tbody>\n",
       "</table>\n",
       "</div>"
      ],
      "text/plain": [
       "                           name             categories  \\\n",
       "0  Chimichurri Charcoal Kitchen  Portuguese Restaurant   \n",
       "1       Palacio del chimichurri                   None   \n",
       "2     Empanadas and Salchipapas             Food Truck   \n",
       "3            Viva Mis Empanadas     Mexican Restaurant   \n",
       "4               Ricas Empanadas    Empanada Restaurant   \n",
       "5               Mamas Empanadas    Empanada Restaurant   \n",
       "\n",
       "                                            location   Latitude  Longitude  \\\n",
       "0  {'address': '450 Rockaway Tpke', 'crossStreet'...  40.627598 -73.736664   \n",
       "1  {'address': '108-09 101st Ave', 'lat': 40.6873...  40.687341 -73.835174   \n",
       "2  {'address': 'Front of Atlantic Mall/Terminal E...  40.677622 -73.864284   \n",
       "3  {'address': '133-11 Crossbay Blvd', 'lat': 40....  40.675006 -73.842869   \n",
       "4  {'address': '159-35 Crossbay Blvd', 'lat': 40....  40.659229 -73.839867   \n",
       "5  {'address': '91-11 Jamaica Ave', 'lat': 40.693...  40.693222 -73.853380   \n",
       "\n",
       "            City                        id  \n",
       "0       Lawrence  56801b7e498e9b9cf26e2fd4  \n",
       "1  Richmond Hill  4cf984f2ee9cb60c869d84ad  \n",
       "2       Brooklyn  4d2ba35e915fa0937fc7180a  \n",
       "3     Ozone Park  56e49e1f498efc6a65da47a3  \n",
       "4     Ozone Park  54e7c833498ebe5df6a964ce  \n",
       "5      Woodhaven  5b92f318911fc4002ced9fa5  "
      ]
     },
     "execution_count": 84,
     "metadata": {},
     "output_type": "execute_result"
    }
   ],
   "source": [
    "dataframe_filtered"
   ]
  },
  {
   "cell_type": "code",
   "execution_count": 85,
   "metadata": {
    "scrolled": true
   },
   "outputs": [
    {
     "data": {
      "text/html": [
       "<div style=\"width:100%;\"><div style=\"position:relative;width:100%;height:0;padding-bottom:60%;\"><iframe src=\"data:text/html;charset=utf-8;base64,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\" style=\"position:absolute;width:100%;height:100%;left:0;top:0;border:none !important;\" allowfullscreen webkitallowfullscreen mozallowfullscreen></iframe></div></div>"
      ],
      "text/plain": [
       "<folium.folium.Map at 0x2548c4ee8e0>"
      ]
     },
     "execution_count": 85,
     "metadata": {},
     "output_type": "execute_result"
    }
   ],
   "source": [
    "venues_map = folium.Map(location=[float(queens_lat), float(queens_lng)], zoom_start=12) # generate map centred around the Conrad Hotel\n",
    "\n",
    "# add a red circle marker to represent the Bronx County\n",
    "folium.features.CircleMarker(\n",
    "    [float(queens_lat), float(queens_lng)],\n",
    "    radius=10,\n",
    "    color='red',\n",
    "    popup='Queens County',\n",
    "    fill = True,\n",
    "    fill_color = 'red',\n",
    "    fill_opacity = 0.6\n",
    ").add_to(venues_map)\n",
    "\n",
    "# add the Italian restaurants as blue circle markers\n",
    "for lat, lng, label in zip(dataframe_filtered.Latitude, dataframe_filtered.Longitude, dataframe_filtered.name):\n",
    "    folium.features.CircleMarker(\n",
    "        [lat, lng],\n",
    "        radius=5,\n",
    "        color='blue',\n",
    "        popup=label,\n",
    "        fill = True,\n",
    "        fill_color='blue',\n",
    "        fill_opacity=0.6\n",
    "    ).add_to(venues_map)\n",
    "\n",
    "# display map\n",
    "venues_map"
   ]
  },
  {
   "cell_type": "code",
   "execution_count": null,
   "metadata": {},
   "outputs": [],
   "source": []
  },
  {
   "cell_type": "code",
   "execution_count": null,
   "metadata": {},
   "outputs": [],
   "source": []
  },
  {
   "cell_type": "code",
   "execution_count": null,
   "metadata": {},
   "outputs": [],
   "source": []
  },
  {
   "cell_type": "code",
   "execution_count": null,
   "metadata": {},
   "outputs": [],
   "source": []
  },
  {
   "cell_type": "code",
   "execution_count": null,
   "metadata": {},
   "outputs": [],
   "source": []
  },
  {
   "cell_type": "code",
   "execution_count": null,
   "metadata": {},
   "outputs": [],
   "source": []
  },
  {
   "cell_type": "markdown",
   "metadata": {},
   "source": [
    "<a id=\"results\"></a>"
   ]
  },
  {
   "cell_type": "markdown",
   "metadata": {},
   "source": [
    "### Results & Discussion"
   ]
  },
  {
   "cell_type": "code",
   "execution_count": null,
   "metadata": {},
   "outputs": [],
   "source": []
  },
  {
   "cell_type": "code",
   "execution_count": null,
   "metadata": {},
   "outputs": [],
   "source": []
  },
  {
   "cell_type": "code",
   "execution_count": null,
   "metadata": {},
   "outputs": [],
   "source": []
  },
  {
   "cell_type": "markdown",
   "metadata": {},
   "source": [
    "<a id=\"conclusion\"></a>"
   ]
  },
  {
   "cell_type": "markdown",
   "metadata": {},
   "source": [
    "### Conclusion"
   ]
  },
  {
   "cell_type": "code",
   "execution_count": null,
   "metadata": {},
   "outputs": [],
   "source": []
  },
  {
   "cell_type": "code",
   "execution_count": null,
   "metadata": {},
   "outputs": [],
   "source": []
  }
 ],
 "metadata": {
  "kernelspec": {
   "display_name": "Python 3",
   "language": "python",
   "name": "python3"
  },
  "language_info": {
   "codemirror_mode": {
    "name": "ipython",
    "version": 3
   },
   "file_extension": ".py",
   "mimetype": "text/x-python",
   "name": "python",
   "nbconvert_exporter": "python",
   "pygments_lexer": "ipython3",
   "version": "3.8.1"
  }
 },
 "nbformat": 4,
 "nbformat_minor": 2
}
